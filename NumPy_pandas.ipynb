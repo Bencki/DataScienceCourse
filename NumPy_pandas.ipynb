{
  "nbformat": 4,
  "nbformat_minor": 0,
  "metadata": {
    "colab": {
      "name": "NumPy_pandas.ipynb",
      "provenance": [],
      "collapsed_sections": [],
      "toc_visible": true,
      "authorship_tag": "ABX9TyNatdm+DQ60DKaPteHnX5ZW",
      "include_colab_link": true
    },
    "kernelspec": {
      "name": "python3",
      "display_name": "Python 3"
    },
    "language_info": {
      "name": "python"
    }
  },
  "cells": [
    {
      "cell_type": "markdown",
      "metadata": {
        "id": "view-in-github",
        "colab_type": "text"
      },
      "source": [
        "<a href=\"https://colab.research.google.com/github/Bencki/DataScienceCourse/blob/main/NumPy_pandas.ipynb\" target=\"_parent\"><img src=\"https://colab.research.google.com/assets/colab-badge.svg\" alt=\"Open In Colab\"/></a>"
      ]
    },
    {
      "cell_type": "markdown",
      "metadata": {
        "id": "EdWOgQtM1YGj"
      },
      "source": [
        "#NumPy"
      ]
    },
    {
      "cell_type": "markdown",
      "metadata": {
        "id": "3xi88xWrhomH"
      },
      "source": [
        ""
      ]
    },
    {
      "cell_type": "markdown",
      "metadata": {
        "id": "eDTGp2O61j_k"
      },
      "source": [
        "##Podstawy\n"
      ]
    },
    {
      "cell_type": "code",
      "metadata": {
        "colab": {
          "base_uri": "https://localhost:8080/",
          "height": 35
        },
        "id": "oZhqzyATCDfO",
        "outputId": "6a82f2b0-1e6f-4a47-97f6-6b67cc7477ec"
      },
      "source": [
        "import numpy as np\n",
        "import pandas as pd\n",
        "np.__version__"
      ],
      "execution_count": 267,
      "outputs": [
        {
          "output_type": "execute_result",
          "data": {
            "application/vnd.google.colaboratory.intrinsic+json": {
              "type": "string"
            },
            "text/plain": [
              "'1.19.5'"
            ]
          },
          "metadata": {
            "tags": []
          },
          "execution_count": 267
        }
      ]
    },
    {
      "cell_type": "code",
      "metadata": {
        "id": "RIkFh6bjCOIA",
        "colab": {
          "base_uri": "https://localhost:8080/"
        },
        "outputId": "04b84944-7d4c-49a0-ff9a-289e177568f1"
      },
      "source": [
        "help(np.array)"
      ],
      "execution_count": 268,
      "outputs": [
        {
          "output_type": "stream",
          "text": [
            "Help on built-in function array in module numpy:\n",
            "\n",
            "array(...)\n",
            "    array(object, dtype=None, *, copy=True, order='K', subok=False, ndmin=0)\n",
            "    \n",
            "    Create an array.\n",
            "    \n",
            "    Parameters\n",
            "    ----------\n",
            "    object : array_like\n",
            "        An array, any object exposing the array interface, an object whose\n",
            "        __array__ method returns an array, or any (nested) sequence.\n",
            "    dtype : data-type, optional\n",
            "        The desired data-type for the array.  If not given, then the type will\n",
            "        be determined as the minimum type required to hold the objects in the\n",
            "        sequence.\n",
            "    copy : bool, optional\n",
            "        If true (default), then the object is copied.  Otherwise, a copy will\n",
            "        only be made if __array__ returns a copy, if obj is a nested sequence,\n",
            "        or if a copy is needed to satisfy any of the other requirements\n",
            "        (`dtype`, `order`, etc.).\n",
            "    order : {'K', 'A', 'C', 'F'}, optional\n",
            "        Specify the memory layout of the array. If object is not an array, the\n",
            "        newly created array will be in C order (row major) unless 'F' is\n",
            "        specified, in which case it will be in Fortran order (column major).\n",
            "        If object is an array the following holds.\n",
            "    \n",
            "        ===== ========= ===================================================\n",
            "        order  no copy                     copy=True\n",
            "        ===== ========= ===================================================\n",
            "        'K'   unchanged F & C order preserved, otherwise most similar order\n",
            "        'A'   unchanged F order if input is F and not C, otherwise C order\n",
            "        'C'   C order   C order\n",
            "        'F'   F order   F order\n",
            "        ===== ========= ===================================================\n",
            "    \n",
            "        When ``copy=False`` and a copy is made for other reasons, the result is\n",
            "        the same as if ``copy=True``, with some exceptions for `A`, see the\n",
            "        Notes section. The default order is 'K'.\n",
            "    subok : bool, optional\n",
            "        If True, then sub-classes will be passed-through, otherwise\n",
            "        the returned array will be forced to be a base-class array (default).\n",
            "    ndmin : int, optional\n",
            "        Specifies the minimum number of dimensions that the resulting\n",
            "        array should have.  Ones will be pre-pended to the shape as\n",
            "        needed to meet this requirement.\n",
            "    \n",
            "    Returns\n",
            "    -------\n",
            "    out : ndarray\n",
            "        An array object satisfying the specified requirements.\n",
            "    \n",
            "    See Also\n",
            "    --------\n",
            "    empty_like : Return an empty array with shape and type of input.\n",
            "    ones_like : Return an array of ones with shape and type of input.\n",
            "    zeros_like : Return an array of zeros with shape and type of input.\n",
            "    full_like : Return a new array with shape of input filled with value.\n",
            "    empty : Return a new uninitialized array.\n",
            "    ones : Return a new array setting values to one.\n",
            "    zeros : Return a new array setting values to zero.\n",
            "    full : Return a new array of given shape filled with value.\n",
            "    \n",
            "    \n",
            "    Notes\n",
            "    -----\n",
            "    When order is 'A' and `object` is an array in neither 'C' nor 'F' order,\n",
            "    and a copy is forced by a change in dtype, then the order of the result is\n",
            "    not necessarily 'C' as expected. This is likely a bug.\n",
            "    \n",
            "    Examples\n",
            "    --------\n",
            "    >>> np.array([1, 2, 3])\n",
            "    array([1, 2, 3])\n",
            "    \n",
            "    Upcasting:\n",
            "    \n",
            "    >>> np.array([1, 2, 3.0])\n",
            "    array([ 1.,  2.,  3.])\n",
            "    \n",
            "    More than one dimension:\n",
            "    \n",
            "    >>> np.array([[1, 2], [3, 4]])\n",
            "    array([[1, 2],\n",
            "           [3, 4]])\n",
            "    \n",
            "    Minimum dimensions 2:\n",
            "    \n",
            "    >>> np.array([1, 2, 3], ndmin=2)\n",
            "    array([[1, 2, 3]])\n",
            "    \n",
            "    Type provided:\n",
            "    \n",
            "    >>> np.array([1, 2, 3], dtype=complex)\n",
            "    array([ 1.+0.j,  2.+0.j,  3.+0.j])\n",
            "    \n",
            "    Data-type consisting of more than one element:\n",
            "    \n",
            "    >>> x = np.array([(1,2),(3,4)],dtype=[('a','<i4'),('b','<i4')])\n",
            "    >>> x['a']\n",
            "    array([1, 3])\n",
            "    \n",
            "    Creating an array from sub-classes:\n",
            "    \n",
            "    >>> np.array(np.mat('1 2; 3 4'))\n",
            "    array([[1, 2],\n",
            "           [3, 4]])\n",
            "    \n",
            "    >>> np.array(np.mat('1 2; 3 4'), subok=True)\n",
            "    matrix([[1, 2],\n",
            "            [3, 4]])\n",
            "\n"
          ],
          "name": "stdout"
        }
      ]
    },
    {
      "cell_type": "code",
      "metadata": {
        "id": "wiCcsX6lC3K3"
      },
      "source": [
        "x = np.array([1,3])"
      ],
      "execution_count": 269,
      "outputs": []
    },
    {
      "cell_type": "code",
      "metadata": {
        "colab": {
          "base_uri": "https://localhost:8080/"
        },
        "id": "GEgZvGA0C8T_",
        "outputId": "e5d6e060-e680-41cb-b385-6de4886f3d63"
      },
      "source": [
        "x"
      ],
      "execution_count": 270,
      "outputs": [
        {
          "output_type": "execute_result",
          "data": {
            "text/plain": [
              "array([1, 3])"
            ]
          },
          "metadata": {
            "tags": []
          },
          "execution_count": 270
        }
      ]
    },
    {
      "cell_type": "code",
      "metadata": {
        "colab": {
          "base_uri": "https://localhost:8080/"
        },
        "id": "RmFJJV4iC84H",
        "outputId": "e648b071-dfbd-4762-8b0c-f91d88acfa82"
      },
      "source": [
        "print(x)"
      ],
      "execution_count": 271,
      "outputs": [
        {
          "output_type": "stream",
          "text": [
            "[1 3]\n"
          ],
          "name": "stdout"
        }
      ]
    },
    {
      "cell_type": "code",
      "metadata": {
        "colab": {
          "base_uri": "https://localhost:8080/"
        },
        "id": "57lPYH0jC-8A",
        "outputId": "a35109b6-f581-4359-8c6a-94871fcebee1"
      },
      "source": [
        "x.ndim, x.shape, x.size, x.dtype"
      ],
      "execution_count": 272,
      "outputs": [
        {
          "output_type": "execute_result",
          "data": {
            "text/plain": [
              "(1, (2,), 2, dtype('int64'))"
            ]
          },
          "metadata": {
            "tags": []
          },
          "execution_count": 272
        }
      ]
    },
    {
      "cell_type": "code",
      "metadata": {
        "colab": {
          "base_uri": "https://localhost:8080/"
        },
        "id": "zzITxTOuDCX3",
        "outputId": "fa22b3dc-a2aa-468f-e371-4824c5e33ec7"
      },
      "source": [
        "x = np.array([[1,2],[3,4]])\n",
        "print(x)"
      ],
      "execution_count": 273,
      "outputs": [
        {
          "output_type": "stream",
          "text": [
            "[[1 2]\n",
            " [3 4]]\n"
          ],
          "name": "stdout"
        }
      ]
    },
    {
      "cell_type": "code",
      "metadata": {
        "colab": {
          "base_uri": "https://localhost:8080/"
        },
        "id": "U5iHafdwJDfk",
        "outputId": "175d5124-3ef7-4146-d932-d65e8b25b860"
      },
      "source": [
        "x.ndim, x.shape, x.size, x.dtype"
      ],
      "execution_count": 274,
      "outputs": [
        {
          "output_type": "execute_result",
          "data": {
            "text/plain": [
              "(2, (2, 2), 4, dtype('int64'))"
            ]
          },
          "metadata": {
            "tags": []
          },
          "execution_count": 274
        }
      ]
    },
    {
      "cell_type": "code",
      "metadata": {
        "colab": {
          "base_uri": "https://localhost:8080/"
        },
        "id": "ziwuJ2GaJLWS",
        "outputId": "e95b553a-cfe8-4036-ada8-f30b51ef05e1"
      },
      "source": [
        "x = np.array(\n",
        "    [[[4,3,1],\n",
        "      [3,2,3]],\n",
        "     \n",
        "     [[4,3,2],\n",
        "      [5,6,7]],\n",
        "     \n",
        "     [[5,6,7],\n",
        "      [7,8,9]]]\n",
        ")\n",
        "print(x)"
      ],
      "execution_count": 275,
      "outputs": [
        {
          "output_type": "stream",
          "text": [
            "[[[4 3 1]\n",
            "  [3 2 3]]\n",
            "\n",
            " [[4 3 2]\n",
            "  [5 6 7]]\n",
            "\n",
            " [[5 6 7]\n",
            "  [7 8 9]]]\n"
          ],
          "name": "stdout"
        }
      ]
    },
    {
      "cell_type": "code",
      "metadata": {
        "colab": {
          "base_uri": "https://localhost:8080/"
        },
        "id": "G31DfwAsJhXx",
        "outputId": "0d6173bf-b6e8-4426-e157-3e3c3dc19345"
      },
      "source": [
        "x.ndim, x.shape, x.size, x.dtype"
      ],
      "execution_count": 276,
      "outputs": [
        {
          "output_type": "execute_result",
          "data": {
            "text/plain": [
              "(3, (3, 2, 3), 18, dtype('int64'))"
            ]
          },
          "metadata": {
            "tags": []
          },
          "execution_count": 276
        }
      ]
    },
    {
      "cell_type": "markdown",
      "metadata": {
        "id": "PeltfzIqJxv5"
      },
      "source": [
        "##Typy danych"
      ]
    },
    {
      "cell_type": "code",
      "metadata": {
        "colab": {
          "base_uri": "https://localhost:8080/"
        },
        "id": "uVkKbNjDKBGJ",
        "outputId": "c0d16040-678f-4eb4-c606-5c33dd09df09"
      },
      "source": [
        "A = np.array([1, 2, 3])\n",
        "A.dtype"
      ],
      "execution_count": 277,
      "outputs": [
        {
          "output_type": "execute_result",
          "data": {
            "text/plain": [
              "dtype('int64')"
            ]
          },
          "metadata": {
            "tags": []
          },
          "execution_count": 277
        }
      ]
    },
    {
      "cell_type": "code",
      "metadata": {
        "colab": {
          "base_uri": "https://localhost:8080/"
        },
        "id": "_lDUJG9tKImQ",
        "outputId": "0a4c6faa-4257-4396-81bb-c09bc5ec07de"
      },
      "source": [
        "B = np.array([1.0, 2.0, 3.0])\n",
        "B.dtype"
      ],
      "execution_count": 278,
      "outputs": [
        {
          "output_type": "execute_result",
          "data": {
            "text/plain": [
              "dtype('float64')"
            ]
          },
          "metadata": {
            "tags": []
          },
          "execution_count": 278
        }
      ]
    },
    {
      "cell_type": "code",
      "metadata": {
        "colab": {
          "base_uri": "https://localhost:8080/"
        },
        "id": "V0w0ZoCqKLp4",
        "outputId": "780d90eb-750c-4d0f-bc38-5b5b7c1b8173"
      },
      "source": [
        "C = np.array([1, 2, 3], dtype='float')\n",
        "C.dtype"
      ],
      "execution_count": 279,
      "outputs": [
        {
          "output_type": "execute_result",
          "data": {
            "text/plain": [
              "dtype('float64')"
            ]
          },
          "metadata": {
            "tags": []
          },
          "execution_count": 279
        }
      ]
    },
    {
      "cell_type": "code",
      "metadata": {
        "colab": {
          "base_uri": "https://localhost:8080/"
        },
        "id": "B2KFBb2kKRJQ",
        "outputId": "b8b57de9-7dc3-4786-d60d-dc73a28814a1"
      },
      "source": [
        "D = np.array([1.1, 2.6, 3,9], dtype='int')\n",
        "D"
      ],
      "execution_count": 280,
      "outputs": [
        {
          "output_type": "execute_result",
          "data": {
            "text/plain": [
              "array([1, 2, 3, 9])"
            ]
          },
          "metadata": {
            "tags": []
          },
          "execution_count": 280
        }
      ]
    },
    {
      "cell_type": "code",
      "metadata": {
        "colab": {
          "base_uri": "https://localhost:8080/"
        },
        "id": "knwG9_UGMP_e",
        "outputId": "544343e8-fafe-4e3a-b977-a85c64674c53"
      },
      "source": [
        "E = np.array([24, 120, 230], dtype=np.uint8)\n",
        "E.dtype"
      ],
      "execution_count": 281,
      "outputs": [
        {
          "output_type": "execute_result",
          "data": {
            "text/plain": [
              "dtype('uint8')"
            ]
          },
          "metadata": {
            "tags": []
          },
          "execution_count": 281
        }
      ]
    },
    {
      "cell_type": "markdown",
      "metadata": {
        "id": "TIAjLUuFMexe"
      },
      "source": [
        "##Tworzenie tablic"
      ]
    },
    {
      "cell_type": "code",
      "metadata": {
        "colab": {
          "base_uri": "https://localhost:8080/"
        },
        "id": "JgLUucr-MvW_",
        "outputId": "3c7621ce-426f-4223-9e9a-35bf2d20e7d0"
      },
      "source": [
        "np.zeros(shape=(4, 10), dtype='int')"
      ],
      "execution_count": 282,
      "outputs": [
        {
          "output_type": "execute_result",
          "data": {
            "text/plain": [
              "array([[0, 0, 0, 0, 0, 0, 0, 0, 0, 0],\n",
              "       [0, 0, 0, 0, 0, 0, 0, 0, 0, 0],\n",
              "       [0, 0, 0, 0, 0, 0, 0, 0, 0, 0],\n",
              "       [0, 0, 0, 0, 0, 0, 0, 0, 0, 0]])"
            ]
          },
          "metadata": {
            "tags": []
          },
          "execution_count": 282
        }
      ]
    },
    {
      "cell_type": "code",
      "metadata": {
        "colab": {
          "base_uri": "https://localhost:8080/"
        },
        "id": "WCOsAllFMzhl",
        "outputId": "f113283d-2be0-4a1d-e559-4be051d005bf"
      },
      "source": [
        "np.ones(shape=(3,6), dtype='int')"
      ],
      "execution_count": 283,
      "outputs": [
        {
          "output_type": "execute_result",
          "data": {
            "text/plain": [
              "array([[1, 1, 1, 1, 1, 1],\n",
              "       [1, 1, 1, 1, 1, 1],\n",
              "       [1, 1, 1, 1, 1, 1]])"
            ]
          },
          "metadata": {
            "tags": []
          },
          "execution_count": 283
        }
      ]
    },
    {
      "cell_type": "code",
      "metadata": {
        "colab": {
          "base_uri": "https://localhost:8080/"
        },
        "id": "EnE-oGGCNBOt",
        "outputId": "50b990bf-acb1-4152-d9fc-c28e2ace1c98"
      },
      "source": [
        "np.full(shape=(3, 4), fill_value=4, dtype='int')"
      ],
      "execution_count": 284,
      "outputs": [
        {
          "output_type": "execute_result",
          "data": {
            "text/plain": [
              "array([[4, 4, 4, 4],\n",
              "       [4, 4, 4, 4],\n",
              "       [4, 4, 4, 4]])"
            ]
          },
          "metadata": {
            "tags": []
          },
          "execution_count": 284
        }
      ]
    },
    {
      "cell_type": "code",
      "metadata": {
        "colab": {
          "base_uri": "https://localhost:8080/"
        },
        "id": "W6D_W4HfNPMF",
        "outputId": "b9585c96-a8d3-45e2-afed-70c84c6774fd"
      },
      "source": [
        "np.arange(10)"
      ],
      "execution_count": 285,
      "outputs": [
        {
          "output_type": "execute_result",
          "data": {
            "text/plain": [
              "array([0, 1, 2, 3, 4, 5, 6, 7, 8, 9])"
            ]
          },
          "metadata": {
            "tags": []
          },
          "execution_count": 285
        }
      ]
    },
    {
      "cell_type": "code",
      "metadata": {
        "colab": {
          "base_uri": "https://localhost:8080/"
        },
        "id": "-9w-eKVANTGt",
        "outputId": "9afe8b14-6639-460a-e892-7cb0420c441a"
      },
      "source": [
        "np.arange(start=5, stop=10)"
      ],
      "execution_count": 286,
      "outputs": [
        {
          "output_type": "execute_result",
          "data": {
            "text/plain": [
              "array([5, 6, 7, 8, 9])"
            ]
          },
          "metadata": {
            "tags": []
          },
          "execution_count": 286
        }
      ]
    },
    {
      "cell_type": "code",
      "metadata": {
        "colab": {
          "base_uri": "https://localhost:8080/"
        },
        "id": "rtNRbarBNeF1",
        "outputId": "84726eed-2c01-4705-da66-e1b14363ec8a"
      },
      "source": [
        "np.arange(start=10, stop=100, step=10)"
      ],
      "execution_count": 287,
      "outputs": [
        {
          "output_type": "execute_result",
          "data": {
            "text/plain": [
              "array([10, 20, 30, 40, 50, 60, 70, 80, 90])"
            ]
          },
          "metadata": {
            "tags": []
          },
          "execution_count": 287
        }
      ]
    },
    {
      "cell_type": "code",
      "metadata": {
        "colab": {
          "base_uri": "https://localhost:8080/"
        },
        "id": "smAS6NMJNmS1",
        "outputId": "d2c747d7-cad6-4484-c0f2-3ded57a5a12b"
      },
      "source": [
        "np.linspace(start=0, stop=1, num=11)"
      ],
      "execution_count": 288,
      "outputs": [
        {
          "output_type": "execute_result",
          "data": {
            "text/plain": [
              "array([0. , 0.1, 0.2, 0.3, 0.4, 0.5, 0.6, 0.7, 0.8, 0.9, 1. ])"
            ]
          },
          "metadata": {
            "tags": []
          },
          "execution_count": 288
        }
      ]
    },
    {
      "cell_type": "code",
      "metadata": {
        "id": "aBLEOUlLPenT"
      },
      "source": [
        "A = np.arange(15)"
      ],
      "execution_count": 289,
      "outputs": []
    },
    {
      "cell_type": "code",
      "metadata": {
        "colab": {
          "base_uri": "https://localhost:8080/"
        },
        "id": "wVJrbG7IPjo8",
        "outputId": "66113d66-891a-4115-fc4d-2208e92c7272"
      },
      "source": [
        "A = A.reshape((3,5))\n",
        "A"
      ],
      "execution_count": 290,
      "outputs": [
        {
          "output_type": "execute_result",
          "data": {
            "text/plain": [
              "array([[ 0,  1,  2,  3,  4],\n",
              "       [ 5,  6,  7,  8,  9],\n",
              "       [10, 11, 12, 13, 14]])"
            ]
          },
          "metadata": {
            "tags": []
          },
          "execution_count": 290
        }
      ]
    },
    {
      "cell_type": "markdown",
      "metadata": {
        "id": "clBJsaHfPoqL"
      },
      "source": [
        "##Podstawowe operacje na tablicach"
      ]
    },
    {
      "cell_type": "code",
      "metadata": {
        "id": "zW9KS7N_P8M8"
      },
      "source": [
        "A = np.array([1,2,3,4])\n",
        "B = np.array([5,6,7,8])"
      ],
      "execution_count": 291,
      "outputs": []
    },
    {
      "cell_type": "code",
      "metadata": {
        "colab": {
          "base_uri": "https://localhost:8080/"
        },
        "id": "4emsgi5PQB6S",
        "outputId": "80ad35f6-560e-4175-8d37-a7a3053005f7"
      },
      "source": [
        "print(A)\n",
        "print(B)"
      ],
      "execution_count": 292,
      "outputs": [
        {
          "output_type": "stream",
          "text": [
            "[1 2 3 4]\n",
            "[5 6 7 8]\n"
          ],
          "name": "stdout"
        }
      ]
    },
    {
      "cell_type": "code",
      "metadata": {
        "colab": {
          "base_uri": "https://localhost:8080/"
        },
        "id": "z_FqV7a0QFpC",
        "outputId": "1ada07d6-7b10-4beb-b7e9-cb914134afc2"
      },
      "source": [
        "print(A + B) #.add()\n",
        "print(A - B) #.subtract()\n",
        "print(A * B) #.multiply()\n",
        "print(A / B) #.divide()\n",
        "print(A + 3)\n",
        "#itd itp"
      ],
      "execution_count": 293,
      "outputs": [
        {
          "output_type": "stream",
          "text": [
            "[ 6  8 10 12]\n",
            "[-4 -4 -4 -4]\n",
            "[ 5 12 21 32]\n",
            "[0.2    0.3333 0.4286 0.5   ]\n",
            "[4 5 6 7]\n"
          ],
          "name": "stdout"
        }
      ]
    },
    {
      "cell_type": "code",
      "metadata": {
        "id": "a6N2CqWNQHLy"
      },
      "source": [
        "A = np.array([[1,3], [-2,0]])\n",
        "B = np.array([[6,0], [-1,2]])"
      ],
      "execution_count": 294,
      "outputs": []
    },
    {
      "cell_type": "code",
      "metadata": {
        "colab": {
          "base_uri": "https://localhost:8080/"
        },
        "id": "dJCsBC0AQ6sJ",
        "outputId": "7b91e606-b2ad-46b2-8008-c1852db9772c"
      },
      "source": [
        "print(A * B) #mnożenie element po elemencie"
      ],
      "execution_count": 295,
      "outputs": [
        {
          "output_type": "stream",
          "text": [
            "[[6 0]\n",
            " [2 0]]\n"
          ],
          "name": "stdout"
        }
      ]
    },
    {
      "cell_type": "code",
      "metadata": {
        "colab": {
          "base_uri": "https://localhost:8080/"
        },
        "id": "9gq9AFYRQ80R",
        "outputId": "e4cdbfb6-4507-4cd6-88cd-d406097d1d84"
      },
      "source": [
        "print(np.dot(A, B)) #mnożenie macieżowe\n",
        "print(A.dot(B))  #lub A @ B\n",
        "print(B.dot(A))  #lub B @ A"
      ],
      "execution_count": 296,
      "outputs": [
        {
          "output_type": "stream",
          "text": [
            "[[  3   6]\n",
            " [-12   0]]\n",
            "[[  3   6]\n",
            " [-12   0]]\n",
            "[[ 6 18]\n",
            " [-5 -3]]\n"
          ],
          "name": "stdout"
        }
      ]
    },
    {
      "cell_type": "markdown",
      "metadata": {
        "id": "LvbbrerGRNKR"
      },
      "source": [
        "##Liczby pseudolosowe"
      ]
    },
    {
      "cell_type": "code",
      "metadata": {
        "id": "Ex-en24lRjgi"
      },
      "source": [
        "np.random.seed(0)"
      ],
      "execution_count": 297,
      "outputs": []
    },
    {
      "cell_type": "code",
      "metadata": {
        "colab": {
          "base_uri": "https://localhost:8080/"
        },
        "id": "zZGQ1oYiRmHY",
        "outputId": "f630cb04-b83c-43a4-9c17-8fbeb6401693"
      },
      "source": [
        "np.random.randn(10)"
      ],
      "execution_count": 298,
      "outputs": [
        {
          "output_type": "execute_result",
          "data": {
            "text/plain": [
              "array([ 1.7641,  0.4002,  0.9787,  2.2409,  1.8676, -0.9773,  0.9501,\n",
              "       -0.1514, -0.1032,  0.4106])"
            ]
          },
          "metadata": {
            "tags": []
          },
          "execution_count": 298
        }
      ]
    },
    {
      "cell_type": "code",
      "metadata": {
        "colab": {
          "base_uri": "https://localhost:8080/"
        },
        "id": "OkcVIPUMRvvp",
        "outputId": "dee2b3cd-205a-431b-fc9c-871a9c045fdd"
      },
      "source": [
        "np.random.randn(10,4) #rozkład normalny"
      ],
      "execution_count": 299,
      "outputs": [
        {
          "output_type": "execute_result",
          "data": {
            "text/plain": [
              "array([[ 0.144 ,  1.4543,  0.761 ,  0.1217],\n",
              "       [ 0.4439,  0.3337,  1.4941, -0.2052],\n",
              "       [ 0.3131, -0.8541, -2.553 ,  0.6536],\n",
              "       [ 0.8644, -0.7422,  2.2698, -1.4544],\n",
              "       [ 0.0458, -0.1872,  1.5328,  1.4694],\n",
              "       [ 0.1549,  0.3782, -0.8878, -1.9808],\n",
              "       [-0.3479,  0.1563,  1.2303,  1.2024],\n",
              "       [-0.3873, -0.3023, -1.0486, -1.42  ],\n",
              "       [-1.7063,  1.9508, -0.5097, -0.4381],\n",
              "       [-1.2528,  0.7775, -1.6139, -0.2127]])"
            ]
          },
          "metadata": {
            "tags": []
          },
          "execution_count": 299
        }
      ]
    },
    {
      "cell_type": "code",
      "metadata": {
        "colab": {
          "base_uri": "https://localhost:8080/"
        },
        "id": "Bw3fI1GtR3jp",
        "outputId": "4930564d-7849-4d6e-8216-e5ca87934616"
      },
      "source": [
        "np.random.rand(10,4) #rozkład jednostajny na przedziale domyślnie [0,1)"
      ],
      "execution_count": 300,
      "outputs": [
        {
          "output_type": "execute_result",
          "data": {
            "text/plain": [
              "array([[0.159 , 0.1104, 0.6563, 0.1382],\n",
              "       [0.1966, 0.3687, 0.821 , 0.0971],\n",
              "       [0.8379, 0.0961, 0.9765, 0.4687],\n",
              "       [0.9768, 0.6048, 0.7393, 0.0392],\n",
              "       [0.2828, 0.1202, 0.2961, 0.1187],\n",
              "       [0.318 , 0.4143, 0.0641, 0.6925],\n",
              "       [0.5666, 0.2654, 0.5232, 0.0939],\n",
              "       [0.5759, 0.9293, 0.3186, 0.6674],\n",
              "       [0.1318, 0.7163, 0.2894, 0.1832],\n",
              "       [0.5865, 0.0201, 0.8289, 0.0047]])"
            ]
          },
          "metadata": {
            "tags": []
          },
          "execution_count": 300
        }
      ]
    },
    {
      "cell_type": "code",
      "metadata": {
        "colab": {
          "base_uri": "https://localhost:8080/"
        },
        "id": "XyW0JhFcSCGp",
        "outputId": "6dcb8824-6dd4-43a5-b7ab-9f4b27bc4bcc"
      },
      "source": [
        "A = np.random.randint(low=10, high=101, size=5) \n",
        "A"
      ],
      "execution_count": 301,
      "outputs": [
        {
          "output_type": "execute_result",
          "data": {
            "text/plain": [
              "array([12, 13, 23, 50, 82])"
            ]
          },
          "metadata": {
            "tags": []
          },
          "execution_count": 301
        }
      ]
    },
    {
      "cell_type": "code",
      "metadata": {
        "colab": {
          "base_uri": "https://localhost:8080/"
        },
        "id": "1c69wFFPSXrw",
        "outputId": "0924944f-d64e-4248-d43f-a10cf4961831"
      },
      "source": [
        "np.random.choice(A) #równiez wartości typu 'str'"
      ],
      "execution_count": 302,
      "outputs": [
        {
          "output_type": "execute_result",
          "data": {
            "text/plain": [
              "50"
            ]
          },
          "metadata": {
            "tags": []
          },
          "execution_count": 302
        }
      ]
    },
    {
      "cell_type": "code",
      "metadata": {
        "colab": {
          "base_uri": "https://localhost:8080/"
        },
        "id": "4c6RgWv6Vv7c",
        "outputId": "a51f336d-ea55-4350-fda2-40b7fb4c83ce"
      },
      "source": [
        "data = np.arange(10)\n",
        "data"
      ],
      "execution_count": 303,
      "outputs": [
        {
          "output_type": "execute_result",
          "data": {
            "text/plain": [
              "array([0, 1, 2, 3, 4, 5, 6, 7, 8, 9])"
            ]
          },
          "metadata": {
            "tags": []
          },
          "execution_count": 303
        }
      ]
    },
    {
      "cell_type": "code",
      "metadata": {
        "colab": {
          "base_uri": "https://localhost:8080/"
        },
        "id": "XOhpqn6WWAsk",
        "outputId": "ecdbc027-9a9e-491a-8a26-9f842a41b2a2"
      },
      "source": [
        "np.random.shuffle(data)\n",
        "data"
      ],
      "execution_count": 304,
      "outputs": [
        {
          "output_type": "execute_result",
          "data": {
            "text/plain": [
              "array([5, 7, 9, 1, 6, 3, 4, 0, 2, 8])"
            ]
          },
          "metadata": {
            "tags": []
          },
          "execution_count": 304
        }
      ]
    },
    {
      "cell_type": "markdown",
      "metadata": {
        "id": "zVQnx5SDWBu0"
      },
      "source": [
        "##Podstawowe funkcje"
      ]
    },
    {
      "cell_type": "code",
      "metadata": {
        "colab": {
          "base_uri": "https://localhost:8080/"
        },
        "id": "XB8kTfsbWNEd",
        "outputId": "226ca28e-dce6-4673-d80d-7db6259c6a3a"
      },
      "source": [
        "print(np.exp(1))\n",
        "print(np.sqrt(9))"
      ],
      "execution_count": 305,
      "outputs": [
        {
          "output_type": "stream",
          "text": [
            "2.718281828459045\n",
            "3.0\n"
          ],
          "name": "stdout"
        }
      ]
    },
    {
      "cell_type": "code",
      "metadata": {
        "colab": {
          "base_uri": "https://localhost:8080/"
        },
        "id": "XdxECjTMWqpE",
        "outputId": "9f7e907c-a1fb-4b87-ddcb-af3e9280e288"
      },
      "source": [
        "print(np.all([2,3,5]))\n",
        "print(np.all([2,3,0]))"
      ],
      "execution_count": 306,
      "outputs": [
        {
          "output_type": "stream",
          "text": [
            "True\n",
            "False\n"
          ],
          "name": "stdout"
        }
      ]
    },
    {
      "cell_type": "code",
      "metadata": {
        "colab": {
          "base_uri": "https://localhost:8080/"
        },
        "id": "Bm55e1_WW2Cb",
        "outputId": "4f1e79f8-ba4b-4512-e79c-2d3cc6811e29"
      },
      "source": [
        "np.any([1, 2, 1])"
      ],
      "execution_count": 307,
      "outputs": [
        {
          "output_type": "execute_result",
          "data": {
            "text/plain": [
              "True"
            ]
          },
          "metadata": {
            "tags": []
          },
          "execution_count": 307
        }
      ]
    },
    {
      "cell_type": "code",
      "metadata": {
        "colab": {
          "base_uri": "https://localhost:8080/"
        },
        "id": "Ivs5IUjcW9Mj",
        "outputId": "c1b8cac6-614d-44d0-a264-cb89b0bbb5f3"
      },
      "source": [
        "A = np.random.rand(5)\n",
        "A"
      ],
      "execution_count": 308,
      "outputs": [
        {
          "output_type": "execute_result",
          "data": {
            "text/plain": [
              "array([0.8464, 0.6995, 0.2974, 0.8138, 0.3965])"
            ]
          },
          "metadata": {
            "tags": []
          },
          "execution_count": 308
        }
      ]
    },
    {
      "cell_type": "code",
      "metadata": {
        "colab": {
          "base_uri": "https://localhost:8080/"
        },
        "id": "NzLVqdYZXMHD",
        "outputId": "525ef305-fc3e-4761-8bc0-e2e2b04adcac"
      },
      "source": [
        "np.argmax(A)"
      ],
      "execution_count": 309,
      "outputs": [
        {
          "output_type": "execute_result",
          "data": {
            "text/plain": [
              "0"
            ]
          },
          "metadata": {
            "tags": []
          },
          "execution_count": 309
        }
      ]
    },
    {
      "cell_type": "code",
      "metadata": {
        "colab": {
          "base_uri": "https://localhost:8080/"
        },
        "id": "p0gFhYi0XWki",
        "outputId": "bd3a205e-d2c3-4107-da7c-5adbe7af5f56"
      },
      "source": [
        "A[np.argmax(A)]"
      ],
      "execution_count": 310,
      "outputs": [
        {
          "output_type": "execute_result",
          "data": {
            "text/plain": [
              "0.8464086724711278"
            ]
          },
          "metadata": {
            "tags": []
          },
          "execution_count": 310
        }
      ]
    },
    {
      "cell_type": "code",
      "metadata": {
        "colab": {
          "base_uri": "https://localhost:8080/"
        },
        "id": "ymiVHBDZXZVK",
        "outputId": "5318558d-5e5a-4018-9573-487506534a82"
      },
      "source": [
        "np.argsort(A)"
      ],
      "execution_count": 311,
      "outputs": [
        {
          "output_type": "execute_result",
          "data": {
            "text/plain": [
              "array([2, 4, 1, 3, 0])"
            ]
          },
          "metadata": {
            "tags": []
          },
          "execution_count": 311
        }
      ]
    },
    {
      "cell_type": "markdown",
      "metadata": {
        "id": "FJdxctceXj3S"
      },
      "source": [
        "##Indeksowanie"
      ]
    },
    {
      "cell_type": "code",
      "metadata": {
        "colab": {
          "base_uri": "https://localhost:8080/"
        },
        "id": "q5x9wzOUYd2q",
        "outputId": "15862be7-bc1f-43b9-924f-fb05d4c7186a"
      },
      "source": [
        "A = np.arange(20)\n",
        "A"
      ],
      "execution_count": 312,
      "outputs": [
        {
          "output_type": "execute_result",
          "data": {
            "text/plain": [
              "array([ 0,  1,  2,  3,  4,  5,  6,  7,  8,  9, 10, 11, 12, 13, 14, 15, 16,\n",
              "       17, 18, 19])"
            ]
          },
          "metadata": {
            "tags": []
          },
          "execution_count": 312
        }
      ]
    },
    {
      "cell_type": "code",
      "metadata": {
        "id": "ydisE8XnYxF5"
      },
      "source": [
        "# A[idx], A[start : stop], A[: stop], A[start :]\n",
        "# tak samo jak w pythonie"
      ],
      "execution_count": 313,
      "outputs": []
    },
    {
      "cell_type": "code",
      "metadata": {
        "colab": {
          "base_uri": "https://localhost:8080/"
        },
        "id": "-I9kr9gLY1yh",
        "outputId": "9e241398-9129-4589-f8f6-91cc597e3ab4"
      },
      "source": [
        "A = A.reshape(4,5)\n",
        "A"
      ],
      "execution_count": 314,
      "outputs": [
        {
          "output_type": "execute_result",
          "data": {
            "text/plain": [
              "array([[ 0,  1,  2,  3,  4],\n",
              "       [ 5,  6,  7,  8,  9],\n",
              "       [10, 11, 12, 13, 14],\n",
              "       [15, 16, 17, 18, 19]])"
            ]
          },
          "metadata": {
            "tags": []
          },
          "execution_count": 314
        }
      ]
    },
    {
      "cell_type": "code",
      "metadata": {
        "colab": {
          "base_uri": "https://localhost:8080/"
        },
        "id": "lXaSyLwNZDHB",
        "outputId": "9bd7f5b5-1abd-44e0-ddbe-08bd4fb3e328"
      },
      "source": [
        "A[0] #wiersze"
      ],
      "execution_count": 315,
      "outputs": [
        {
          "output_type": "execute_result",
          "data": {
            "text/plain": [
              "array([0, 1, 2, 3, 4])"
            ]
          },
          "metadata": {
            "tags": []
          },
          "execution_count": 315
        }
      ]
    },
    {
      "cell_type": "code",
      "metadata": {
        "colab": {
          "base_uri": "https://localhost:8080/"
        },
        "id": "8rA64LMJZIQZ",
        "outputId": "582bc3a6-6f1e-4f1f-a200-f4f51b1fb181"
      },
      "source": [
        "A[:, 0] #kolumny"
      ],
      "execution_count": 316,
      "outputs": [
        {
          "output_type": "execute_result",
          "data": {
            "text/plain": [
              "array([ 0,  5, 10, 15])"
            ]
          },
          "metadata": {
            "tags": []
          },
          "execution_count": 316
        }
      ]
    },
    {
      "cell_type": "code",
      "metadata": {
        "colab": {
          "base_uri": "https://localhost:8080/"
        },
        "id": "D1K3MdfjZKso",
        "outputId": "5d1ec18d-6c09-48c7-87b1-f2a2a291bf57"
      },
      "source": [
        "A[1, 1] #konkretny element"
      ],
      "execution_count": 317,
      "outputs": [
        {
          "output_type": "execute_result",
          "data": {
            "text/plain": [
              "6"
            ]
          },
          "metadata": {
            "tags": []
          },
          "execution_count": 317
        }
      ]
    },
    {
      "cell_type": "code",
      "metadata": {
        "colab": {
          "base_uri": "https://localhost:8080/"
        },
        "id": "mtsvCseUZUPg",
        "outputId": "99af975d-da14-4505-ff44-75e996dc4e31"
      },
      "source": [
        "A[1:3, 1:4] #fragment"
      ],
      "execution_count": 318,
      "outputs": [
        {
          "output_type": "execute_result",
          "data": {
            "text/plain": [
              "array([[ 6,  7,  8],\n",
              "       [11, 12, 13]])"
            ]
          },
          "metadata": {
            "tags": []
          },
          "execution_count": 318
        }
      ]
    },
    {
      "cell_type": "markdown",
      "metadata": {
        "id": "PNwUD_qZZeWp"
      },
      "source": [
        "##Iteracja po tablicach"
      ]
    },
    {
      "cell_type": "code",
      "metadata": {
        "colab": {
          "base_uri": "https://localhost:8080/"
        },
        "id": "RX_mZDm4Zu1h",
        "outputId": "cd45c0d1-1115-446b-ee71-1a73fa62131d"
      },
      "source": [
        "A"
      ],
      "execution_count": 319,
      "outputs": [
        {
          "output_type": "execute_result",
          "data": {
            "text/plain": [
              "array([[ 0,  1,  2,  3,  4],\n",
              "       [ 5,  6,  7,  8,  9],\n",
              "       [10, 11, 12, 13, 14],\n",
              "       [15, 16, 17, 18, 19]])"
            ]
          },
          "metadata": {
            "tags": []
          },
          "execution_count": 319
        }
      ]
    },
    {
      "cell_type": "code",
      "metadata": {
        "colab": {
          "base_uri": "https://localhost:8080/"
        },
        "id": "NQN15iw0ZwTY",
        "outputId": "51991041-a7bd-4f61-fe98-52da949d549d"
      },
      "source": [
        "for row in A:  #iterowanie po wierszach\n",
        "    print(row)"
      ],
      "execution_count": 320,
      "outputs": [
        {
          "output_type": "stream",
          "text": [
            "[0 1 2 3 4]\n",
            "[5 6 7 8 9]\n",
            "[10 11 12 13 14]\n",
            "[15 16 17 18 19]\n"
          ],
          "name": "stdout"
        }
      ]
    },
    {
      "cell_type": "code",
      "metadata": {
        "colab": {
          "base_uri": "https://localhost:8080/"
        },
        "id": "93dsJ_epaO3U",
        "outputId": "ae85e992-c38e-44a2-c2cb-a42769794d35"
      },
      "source": [
        "for column in A.transpose():  #iterowanie po kolumnach\n",
        "    print(column)"
      ],
      "execution_count": 321,
      "outputs": [
        {
          "output_type": "stream",
          "text": [
            "[ 0  5 10 15]\n",
            "[ 1  6 11 16]\n",
            "[ 2  7 12 17]\n",
            "[ 3  8 13 18]\n",
            "[ 4  9 14 19]\n"
          ],
          "name": "stdout"
        }
      ]
    },
    {
      "cell_type": "code",
      "metadata": {
        "colab": {
          "base_uri": "https://localhost:8080/"
        },
        "id": "7ko-161xZzA4",
        "outputId": "7a01d489-8044-4752-ddb0-47565fe834e6"
      },
      "source": [
        "for item in A.flat:   #iterowanie po każdym elemencie\n",
        "    print(item)"
      ],
      "execution_count": 322,
      "outputs": [
        {
          "output_type": "stream",
          "text": [
            "0\n",
            "1\n",
            "2\n",
            "3\n",
            "4\n",
            "5\n",
            "6\n",
            "7\n",
            "8\n",
            "9\n",
            "10\n",
            "11\n",
            "12\n",
            "13\n",
            "14\n",
            "15\n",
            "16\n",
            "17\n",
            "18\n",
            "19\n"
          ],
          "name": "stdout"
        }
      ]
    },
    {
      "cell_type": "markdown",
      "metadata": {
        "id": "3IaKWRsDZ_w4"
      },
      "source": [
        "##Zmiana rozmiaru tablic"
      ]
    },
    {
      "cell_type": "code",
      "metadata": {
        "colab": {
          "base_uri": "https://localhost:8080/"
        },
        "id": "Umz-WY7GaFkA",
        "outputId": "d9ebada6-87df-4e91-cd2f-a9b35d84ad79"
      },
      "source": [
        "A"
      ],
      "execution_count": 323,
      "outputs": [
        {
          "output_type": "execute_result",
          "data": {
            "text/plain": [
              "array([[ 0,  1,  2,  3,  4],\n",
              "       [ 5,  6,  7,  8,  9],\n",
              "       [10, 11, 12, 13, 14],\n",
              "       [15, 16, 17, 18, 19]])"
            ]
          },
          "metadata": {
            "tags": []
          },
          "execution_count": 323
        }
      ]
    },
    {
      "cell_type": "code",
      "metadata": {
        "colab": {
          "base_uri": "https://localhost:8080/"
        },
        "id": "g09mK0iwa5QW",
        "outputId": "369c2607-64e7-4769-8bfc-a435c273f065"
      },
      "source": [
        "A.reshape(5,4)"
      ],
      "execution_count": 324,
      "outputs": [
        {
          "output_type": "execute_result",
          "data": {
            "text/plain": [
              "array([[ 0,  1,  2,  3],\n",
              "       [ 4,  5,  6,  7],\n",
              "       [ 8,  9, 10, 11],\n",
              "       [12, 13, 14, 15],\n",
              "       [16, 17, 18, 19]])"
            ]
          },
          "metadata": {
            "tags": []
          },
          "execution_count": 324
        }
      ]
    },
    {
      "cell_type": "code",
      "metadata": {
        "colab": {
          "base_uri": "https://localhost:8080/"
        },
        "id": "sZQdza7Ba6_3",
        "outputId": "0c482010-fa3d-4c3e-9b0a-5ebe885ca746"
      },
      "source": [
        "A.ravel()"
      ],
      "execution_count": 325,
      "outputs": [
        {
          "output_type": "execute_result",
          "data": {
            "text/plain": [
              "array([ 0,  1,  2,  3,  4,  5,  6,  7,  8,  9, 10, 11, 12, 13, 14, 15, 16,\n",
              "       17, 18, 19])"
            ]
          },
          "metadata": {
            "tags": []
          },
          "execution_count": 325
        }
      ]
    },
    {
      "cell_type": "markdown",
      "metadata": {
        "id": "yj39qVsXa88n"
      },
      "source": [
        " ##Maski logiczne"
      ]
    },
    {
      "cell_type": "code",
      "metadata": {
        "colab": {
          "base_uri": "https://localhost:8080/"
        },
        "id": "O2SXmT2ObVVP",
        "outputId": "d62fe9a3-9a15-4e3e-cf5c-d0ad62fafae5"
      },
      "source": [
        "A = np.arange(start=-10, stop=10, step=0.5)\n",
        "A = A.reshape(10,-1)\n",
        "A"
      ],
      "execution_count": 326,
      "outputs": [
        {
          "output_type": "execute_result",
          "data": {
            "text/plain": [
              "array([[-10. ,  -9.5,  -9. ,  -8.5],\n",
              "       [ -8. ,  -7.5,  -7. ,  -6.5],\n",
              "       [ -6. ,  -5.5,  -5. ,  -4.5],\n",
              "       [ -4. ,  -3.5,  -3. ,  -2.5],\n",
              "       [ -2. ,  -1.5,  -1. ,  -0.5],\n",
              "       [  0. ,   0.5,   1. ,   1.5],\n",
              "       [  2. ,   2.5,   3. ,   3.5],\n",
              "       [  4. ,   4.5,   5. ,   5.5],\n",
              "       [  6. ,   6.5,   7. ,   7.5],\n",
              "       [  8. ,   8.5,   9. ,   9.5]])"
            ]
          },
          "metadata": {
            "tags": []
          },
          "execution_count": 326
        }
      ]
    },
    {
      "cell_type": "code",
      "metadata": {
        "colab": {
          "base_uri": "https://localhost:8080/"
        },
        "id": "iF0TwJNEbbx3",
        "outputId": "b84b3128-3528-4fbd-88ae-68fcc6da45d6"
      },
      "source": [
        "A > 0"
      ],
      "execution_count": 327,
      "outputs": [
        {
          "output_type": "execute_result",
          "data": {
            "text/plain": [
              "array([[False, False, False, False],\n",
              "       [False, False, False, False],\n",
              "       [False, False, False, False],\n",
              "       [False, False, False, False],\n",
              "       [False, False, False, False],\n",
              "       [False,  True,  True,  True],\n",
              "       [ True,  True,  True,  True],\n",
              "       [ True,  True,  True,  True],\n",
              "       [ True,  True,  True,  True],\n",
              "       [ True,  True,  True,  True]])"
            ]
          },
          "metadata": {
            "tags": []
          },
          "execution_count": 327
        }
      ]
    },
    {
      "cell_type": "code",
      "metadata": {
        "colab": {
          "base_uri": "https://localhost:8080/"
        },
        "id": "HW94DcWSbeGW",
        "outputId": "71c1e200-4b50-48cb-fa03-c85dc815d282"
      },
      "source": [
        "A[A > 0]"
      ],
      "execution_count": 328,
      "outputs": [
        {
          "output_type": "execute_result",
          "data": {
            "text/plain": [
              "array([0.5, 1. , 1.5, 2. , 2.5, 3. , 3.5, 4. , 4.5, 5. , 5.5, 6. , 6.5,\n",
              "       7. , 7.5, 8. , 8.5, 9. , 9.5])"
            ]
          },
          "metadata": {
            "tags": []
          },
          "execution_count": 328
        }
      ]
    },
    {
      "cell_type": "code",
      "metadata": {
        "colab": {
          "base_uri": "https://localhost:8080/"
        },
        "id": "FH-AuOcfbiEu",
        "outputId": "d8e25e3f-f9e0-401c-9995-6d81bba222fb"
      },
      "source": [
        "A[np.bitwise_and(A > -5, A < 5)]"
      ],
      "execution_count": 329,
      "outputs": [
        {
          "output_type": "execute_result",
          "data": {
            "text/plain": [
              "array([-4.5, -4. , -3.5, -3. , -2.5, -2. , -1.5, -1. , -0.5,  0. ,  0.5,\n",
              "        1. ,  1.5,  2. ,  2.5,  3. ,  3.5,  4. ,  4.5])"
            ]
          },
          "metadata": {
            "tags": []
          },
          "execution_count": 329
        }
      ]
    },
    {
      "cell_type": "markdown",
      "metadata": {
        "id": "n0Vih2G6e_el"
      },
      "source": [
        "##Algebra liniowa"
      ]
    },
    {
      "cell_type": "markdown",
      "metadata": {
        "id": "UbMChMZ0fBcz"
      },
      "source": [
        "###Norma wektora, długość wektora w R^2"
      ]
    },
    {
      "cell_type": "markdown",
      "metadata": {
        "id": "i4dk92L4ip03"
      },
      "source": [
        "${\\mathbf  {v}} = [v_{1}, v_{2}]$   \n",
        "$\\left\\|{\\mathbf  {v}}\\right\\|={\\sqrt  {v_{1}^{2}+v_{2}^{2}}}$"
      ]
    },
    {
      "cell_type": "code",
      "metadata": {
        "colab": {
          "base_uri": "https://localhost:8080/"
        },
        "id": "KbASObm5jlF7",
        "outputId": "863b38f4-d866-4f2e-e378-ceac1f110cc4"
      },
      "source": [
        "v1 = np.array([-1,4])\n",
        "v1"
      ],
      "execution_count": 330,
      "outputs": [
        {
          "output_type": "execute_result",
          "data": {
            "text/plain": [
              "array([-1,  4])"
            ]
          },
          "metadata": {
            "tags": []
          },
          "execution_count": 330
        }
      ]
    },
    {
      "cell_type": "code",
      "metadata": {
        "colab": {
          "base_uri": "https://localhost:8080/"
        },
        "id": "pu93US8sjrWp",
        "outputId": "61b7db12-3638-4e6b-ebf6-d321df668933"
      },
      "source": [
        "np.linalg.norm(v1)"
      ],
      "execution_count": 331,
      "outputs": [
        {
          "output_type": "execute_result",
          "data": {
            "text/plain": [
              "4.123105625617661"
            ]
          },
          "metadata": {
            "tags": []
          },
          "execution_count": 331
        }
      ]
    },
    {
      "cell_type": "markdown",
      "metadata": {
        "id": "xNkXtphEjEI-"
      },
      "source": [
        "###Norma euklidesowa w R^n"
      ]
    },
    {
      "cell_type": "markdown",
      "metadata": {
        "id": "KPlYBrZujjd5"
      },
      "source": [
        "$\\left\\|{\\mathbf  {v}}\\right\\|={\\sqrt  {v_{1}^{2}+v_{2}^{2}+\\cdots +v_{n}^{2}}}$"
      ]
    },
    {
      "cell_type": "code",
      "metadata": {
        "colab": {
          "base_uri": "https://localhost:8080/"
        },
        "id": "JJ0Gmc1Ej7WZ",
        "outputId": "17b76f26-b14b-41cf-fa06-a79ccf10cca5"
      },
      "source": [
        "v2 = np.array([-10, 10, 13])\n",
        "v2"
      ],
      "execution_count": 332,
      "outputs": [
        {
          "output_type": "execute_result",
          "data": {
            "text/plain": [
              "array([-10,  10,  13])"
            ]
          },
          "metadata": {
            "tags": []
          },
          "execution_count": 332
        }
      ]
    },
    {
      "cell_type": "code",
      "metadata": {
        "colab": {
          "base_uri": "https://localhost:8080/"
        },
        "id": "wP9EUbPNkD-9",
        "outputId": "352017ba-6ca0-4899-ee2e-44300d0f5814"
      },
      "source": [
        "np.linalg.norm(v2)"
      ],
      "execution_count": 333,
      "outputs": [
        {
          "output_type": "execute_result",
          "data": {
            "text/plain": [
              "19.209372712298546"
            ]
          },
          "metadata": {
            "tags": []
          },
          "execution_count": 333
        }
      ]
    },
    {
      "cell_type": "markdown",
      "metadata": {
        "id": "lgJzIj9JkGxW"
      },
      "source": [
        "###Odległość dwóch punktów na płaszczyźnie oraz w przestrzeni R^n"
      ]
    },
    {
      "cell_type": "markdown",
      "metadata": {
        "id": "KeLgxnOIlBm-"
      },
      "source": [
        " \\begin{aligned}d(\\mathbf {p} ,\\mathbf {q} )=d(\\mathbf {q} ,\\mathbf {p} )&={\\sqrt {(q_{1}-p_{1})^{2}+(q_{2}-p_{2})^{2}+\\cdots +(q_{n}-p_{n})^{2}}}\\\\[8pt]&={\\sqrt {\\sum _{i=1}^{n}(q_{i}-p_{i})^{2}}}\\end{aligned}"
      ]
    },
    {
      "cell_type": "code",
      "metadata": {
        "colab": {
          "base_uri": "https://localhost:8080/"
        },
        "id": "_jsyPNyclFX-",
        "outputId": "60d0fcd7-2cb2-44dd-964a-4f947bafd03c"
      },
      "source": [
        "p = np.array([3, 0])\n",
        "q = np.array([0, 4])\n",
        "\n",
        "np.linalg.norm(p-q)"
      ],
      "execution_count": 334,
      "outputs": [
        {
          "output_type": "execute_result",
          "data": {
            "text/plain": [
              "5.0"
            ]
          },
          "metadata": {
            "tags": []
          },
          "execution_count": 334
        }
      ]
    },
    {
      "cell_type": "code",
      "metadata": {
        "colab": {
          "base_uri": "https://localhost:8080/"
        },
        "id": "UemyWND5lVK8",
        "outputId": "dd0952e4-5fb4-45ce-a3ab-8bf3caec9645"
      },
      "source": [
        "p = np.array([3, 0, 1])\n",
        "q = np.array([0, 4, 2])\n",
        "\n",
        "np.linalg.norm(p-q)"
      ],
      "execution_count": 335,
      "outputs": [
        {
          "output_type": "execute_result",
          "data": {
            "text/plain": [
              "5.0990195135927845"
            ]
          },
          "metadata": {
            "tags": []
          },
          "execution_count": 335
        }
      ]
    },
    {
      "cell_type": "markdown",
      "metadata": {
        "id": "sLE7P2tRliKk"
      },
      "source": [
        "###Mnożenie macierzy"
      ]
    },
    {
      "cell_type": "markdown",
      "metadata": {
        "id": "Z_isOvsylm6C"
      },
      "source": [
        "$${A} ={\\begin{bmatrix}a_{11}&a_{12}&\\cdots &a_{1n}\\\\a_{21}&a_{22}&\\cdots &a_{2n}\\\\\\vdots &\\vdots &\\ddots &\\vdots \\\\a_{m1}&a_{m2}&\\cdots &a_{mn}\\\\\\end{bmatrix}}$$\n",
        "A - macierz wymairu $m\\ x\\ n$\n",
        "\n",
        "$$ {B} ={\\begin{bmatrix}b_{11}&b_{12}&\\cdots &b_{1p}\\\\b_{21}&b_{22}&\\cdots &b_{2p}\\\\\\vdots &\\vdots &\\ddots &\\vdots \\\\b_{n1}&b_{n2}&\\cdots &b_{np}\\\\\\end{bmatrix}}$$\n",
        "B - macierz wymairu $n\\ x\\ p$\n",
        "\n",
        "$$C = AB$$ \n",
        "C - macierz wymiaru $m\\ x\\ p$  \n",
        "Aby móc pomnożyć dwie macierze liczba liczba kolumn w lewej macierzy musi zgadzać się z liczbą wierszy prawej macierzy.\n",
        "\n",
        "Mnożenie macierzy nie jest przemienne! Tzn. $$AB \\neq BA$$"
      ]
    },
    {
      "cell_type": "code",
      "metadata": {
        "colab": {
          "base_uri": "https://localhost:8080/"
        },
        "id": "U_szRNRYluJE",
        "outputId": "411ffbe4-063f-4c41-f26b-456645274814"
      },
      "source": [
        "X = np.array([[5,3], [3,9]])\n",
        "Y = np.array([[1], [-1]])\n",
        "print(X, '\\n')\n",
        "print(Y)"
      ],
      "execution_count": 336,
      "outputs": [
        {
          "output_type": "stream",
          "text": [
            "[[5 3]\n",
            " [3 9]] \n",
            "\n",
            "[[ 1]\n",
            " [-1]]\n"
          ],
          "name": "stdout"
        }
      ]
    },
    {
      "cell_type": "code",
      "metadata": {
        "colab": {
          "base_uri": "https://localhost:8080/"
        },
        "id": "pE4FAYhmm7oq",
        "outputId": "80b0c3a4-c28b-4eb2-e1d9-b19ec9a9b0a3"
      },
      "source": [
        "Z = np.dot(X, Y)\n",
        "Z"
      ],
      "execution_count": 337,
      "outputs": [
        {
          "output_type": "execute_result",
          "data": {
            "text/plain": [
              "array([[ 2],\n",
              "       [-6]])"
            ]
          },
          "metadata": {
            "tags": []
          },
          "execution_count": 337
        }
      ]
    },
    {
      "cell_type": "code",
      "metadata": {
        "colab": {
          "base_uri": "https://localhost:8080/"
        },
        "id": "ZamD2y4rnCoC",
        "outputId": "b2a9df5e-deda-49ff-de61-706f8de30d5a"
      },
      "source": [
        "X = np.array([[2, -1, 3],\n",
        "              [3, 1, 0]])\n",
        "Y = np.array([[2, 1, -1],\n",
        "              [0, -1, 2],\n",
        "              [3, 2, 0]])\n",
        "print(X, '\\n')\n",
        "print(Y)"
      ],
      "execution_count": 338,
      "outputs": [
        {
          "output_type": "stream",
          "text": [
            "[[ 2 -1  3]\n",
            " [ 3  1  0]] \n",
            "\n",
            "[[ 2  1 -1]\n",
            " [ 0 -1  2]\n",
            " [ 3  2  0]]\n"
          ],
          "name": "stdout"
        }
      ]
    },
    {
      "cell_type": "code",
      "metadata": {
        "colab": {
          "base_uri": "https://localhost:8080/"
        },
        "id": "IHJ7nRR5ngGa",
        "outputId": "a3e846f0-d42b-4500-a383-436de7ad92ec"
      },
      "source": [
        "Z = np.dot(X, Y)\n",
        "Z"
      ],
      "execution_count": 339,
      "outputs": [
        {
          "output_type": "execute_result",
          "data": {
            "text/plain": [
              "array([[13,  9, -4],\n",
              "       [ 6,  2, -1]])"
            ]
          },
          "metadata": {
            "tags": []
          },
          "execution_count": 339
        }
      ]
    },
    {
      "cell_type": "markdown",
      "metadata": {
        "id": "M9w12lcOnlry"
      },
      "source": [
        "### <a name='a6'></a> Wyznacznik macierzy\n",
        "\n",
        "$${\\displaystyle A={\\begin{bmatrix}a_{11}&a_{12}&\\dots &a_{1n}\\\\a_{21}&a_{22}&\\dots &a_{2n}\\\\\\vdots &\\vdots &\\ddots &\\vdots \\\\a_{n1}&a_{n2}&\\dots &a_{nn}\\end{bmatrix}}}$$\n",
        "$A$ - macierz wymiaru nxn\n",
        "\n",
        "#### Oznaczenia:\n",
        "\n",
        "${\\displaystyle |A|=\\left|{\\begin{array}{c}a_{11}&a_{12}&\\dots &a_{1n}\\\\a_{21}&a_{22}&\\dots &a_{2n}\\\\\\vdots &\\vdots &\\ddots &\\vdots \\\\a_{n1}&a_{n2}&\\dots &a_{nn}\\end{array}}\\right|} $  lub  $ {\\displaystyle \\det A=\\det {\\begin{bmatrix}a_{11}&a_{12}&\\dots &a_{1n}\\\\a_{21}&a_{22}&\\dots &a_{2n}\\\\\\vdots &\\vdots &\\ddots &\\vdots \\\\a_{n1}&a_{n2}&\\dots &a_{nn}\\end{bmatrix}}}$\n",
        "\n",
        "#### Przykład:\n",
        "${\\displaystyle \\det A={\\begin{vmatrix}a_{11}&a_{12}\\\\a_{21}&a_{22}\\end{vmatrix}}=a_{11}a_{22}-a_{12}a_{21}}$\n",
        "\n",
        "${\\displaystyle \\det A={\\begin{vmatrix}a_{11}&a_{12}&a_{13}\\\\a_{21}&a_{22}&a_{23}\\\\a_{31}&a_{32}&a_{33}\\end{vmatrix}}=a_{11}a_{22}a_{33}+a_{21}a_{32}a_{13}+a_{31}a_{12}a_{23}-a_{21}a_{12}a_{33}-a_{11}a_{32}a_{23}-a_{31}a_{22}a_{13}}$\n",
        "\n",
        "${\\displaystyle \\det A={\\begin{vmatrix}2&4\\\\-1&3\\end{vmatrix}}=2\\cdot3-4\\cdot(-1)} = 6 + 4 = 10 $\n"
      ]
    },
    {
      "cell_type": "code",
      "metadata": {
        "colab": {
          "base_uri": "https://localhost:8080/"
        },
        "id": "_bQU5Dv5oAha",
        "outputId": "64e5aedd-c862-4659-f7af-eee772cac218"
      },
      "source": [
        "A = np.array([[2, 4], [-1, 3]])\n",
        "A"
      ],
      "execution_count": 340,
      "outputs": [
        {
          "output_type": "execute_result",
          "data": {
            "text/plain": [
              "array([[ 2,  4],\n",
              "       [-1,  3]])"
            ]
          },
          "metadata": {
            "tags": []
          },
          "execution_count": 340
        }
      ]
    },
    {
      "cell_type": "code",
      "metadata": {
        "colab": {
          "base_uri": "https://localhost:8080/"
        },
        "id": "3we8IOm5ooYS",
        "outputId": "d30a5528-02e9-4f88-f796-f8d2e8b15d78"
      },
      "source": [
        "round(np.linalg.det(A))"
      ],
      "execution_count": 341,
      "outputs": [
        {
          "output_type": "execute_result",
          "data": {
            "text/plain": [
              "10"
            ]
          },
          "metadata": {
            "tags": []
          },
          "execution_count": 341
        }
      ]
    },
    {
      "cell_type": "markdown",
      "metadata": {
        "id": "ve2IyApwoqvY"
      },
      "source": [
        "### <a name='a7'></a> Ślad macierzy\n",
        "\n",
        "$${\\displaystyle A={\\begin{bmatrix}a_{11}&a_{12}&\\dots &a_{1n}\\\\a_{21}&a_{22}&\\dots &a_{2n}\\\\\\vdots &\\vdots &\\ddots &\\vdots \\\\a_{n1}&a_{n2}&\\dots &a_{nn}\\end{bmatrix}}}$$\n",
        "$A$ - macierz wymiaru nxn\n",
        "\n",
        "${\\displaystyle \\operatorname {tr} (A)=\\sum _{i=1}^{n}a_{ii}=a_{11}+a_{22}+\\dots +a_{nn}}$\n",
        "\n",
        "#### Przykład:\n",
        "$A = \\begin{bmatrix}2&4\\\\-1&3\\end{bmatrix}$\n",
        "\n",
        "${\\displaystyle \\operatorname {tr} (A)=\\sum _{i=1}^{2}a_{ii}=a_{11}+a_{22} = 2 + 3 = 5}$"
      ]
    },
    {
      "cell_type": "code",
      "metadata": {
        "colab": {
          "base_uri": "https://localhost:8080/"
        },
        "id": "2v_pXzuHo1Uq",
        "outputId": "dc992a29-b652-4e60-c036-3e18b18eb115"
      },
      "source": [
        "A = np.array([[2, 4], [-1, 3]])\n",
        "A"
      ],
      "execution_count": 342,
      "outputs": [
        {
          "output_type": "execute_result",
          "data": {
            "text/plain": [
              "array([[ 2,  4],\n",
              "       [-1,  3]])"
            ]
          },
          "metadata": {
            "tags": []
          },
          "execution_count": 342
        }
      ]
    },
    {
      "cell_type": "code",
      "metadata": {
        "colab": {
          "base_uri": "https://localhost:8080/"
        },
        "id": "MIJm2Aq8o-cw",
        "outputId": "9655211b-105c-43cd-c9ea-8a0b5013cf0f"
      },
      "source": [
        "np.trace(A)"
      ],
      "execution_count": 343,
      "outputs": [
        {
          "output_type": "execute_result",
          "data": {
            "text/plain": [
              "5"
            ]
          },
          "metadata": {
            "tags": []
          },
          "execution_count": 343
        }
      ]
    },
    {
      "cell_type": "markdown",
      "metadata": {
        "id": "DUWHhHK2o_rg"
      },
      "source": [
        "###  <a name='a8'></a>  Macierz jednostkowa \n",
        "\n",
        "Macierz jednostkowa - macierz kwadratowa, której współczynniki podane są wzorem:\n",
        "$${\\displaystyle a_{ij}={\\begin{cases}1\\quad {\\text{dla}}\\quad i=j\\\\[2pt]0\\quad {\\text{dla}}\\quad i\\neq j\\end{cases}}}$$\n",
        "\n",
        "#### Przykłady\n",
        "${\\displaystyle I_{1}={\\begin{bmatrix}1\\end{bmatrix}},\\;I_{2}={\\begin{bmatrix}1&0\\\\0&1\\end{bmatrix}},\\;I_{3}={\\begin{bmatrix}1&0&0\\\\0&1&0\\\\0&0&1\\end{bmatrix}}}$"
      ]
    },
    {
      "cell_type": "code",
      "metadata": {
        "colab": {
          "base_uri": "https://localhost:8080/"
        },
        "id": "a9wh9u2MpDpA",
        "outputId": "7612518a-5208-447f-ae92-dfc39f3ae1ee"
      },
      "source": [
        "np.eye(5, dtype='int')"
      ],
      "execution_count": 344,
      "outputs": [
        {
          "output_type": "execute_result",
          "data": {
            "text/plain": [
              "array([[1, 0, 0, 0, 0],\n",
              "       [0, 1, 0, 0, 0],\n",
              "       [0, 0, 1, 0, 0],\n",
              "       [0, 0, 0, 1, 0],\n",
              "       [0, 0, 0, 0, 1]])"
            ]
          },
          "metadata": {
            "tags": []
          },
          "execution_count": 344
        }
      ]
    },
    {
      "cell_type": "markdown",
      "metadata": {
        "id": "pIRAd1cPpMbg"
      },
      "source": [
        "### <a name='a9'></a>  Macierz odwrotna\n",
        "\n",
        "$A$ - macierz kwadratowa stopnia $n$. Macierz $A$ posiada macierz odwrotną, gdy istnieje macierz $B$, taka, że\n",
        "$$AB = BA = I$$\n",
        "\n",
        "$A = \\begin{bmatrix}2&4\\\\-1&3\\end{bmatrix}$"
      ]
    },
    {
      "cell_type": "code",
      "metadata": {
        "colab": {
          "base_uri": "https://localhost:8080/"
        },
        "id": "lp6DtfiMpShV",
        "outputId": "8e994731-b9e3-4300-df9e-68f42e218749"
      },
      "source": [
        "A"
      ],
      "execution_count": 345,
      "outputs": [
        {
          "output_type": "execute_result",
          "data": {
            "text/plain": [
              "array([[ 2,  4],\n",
              "       [-1,  3]])"
            ]
          },
          "metadata": {
            "tags": []
          },
          "execution_count": 345
        }
      ]
    },
    {
      "cell_type": "code",
      "metadata": {
        "colab": {
          "base_uri": "https://localhost:8080/"
        },
        "id": "5kRhsdjPpftZ",
        "outputId": "bd6d3080-d49f-4b27-e37c-bbc79dd2fe91"
      },
      "source": [
        "B = np.linalg.inv(A)\n",
        "B"
      ],
      "execution_count": 346,
      "outputs": [
        {
          "output_type": "execute_result",
          "data": {
            "text/plain": [
              "array([[ 0.3, -0.4],\n",
              "       [ 0.1,  0.2]])"
            ]
          },
          "metadata": {
            "tags": []
          },
          "execution_count": 346
        }
      ]
    },
    {
      "cell_type": "code",
      "metadata": {
        "colab": {
          "base_uri": "https://localhost:8080/"
        },
        "id": "e8e5OIwHpj8g",
        "outputId": "8496a391-797a-4d2f-98d1-fa52526efaf0"
      },
      "source": [
        "np.set_printoptions(precision=4, suppress=True)\n",
        "\n",
        "np.dot(A, B)"
      ],
      "execution_count": 347,
      "outputs": [
        {
          "output_type": "execute_result",
          "data": {
            "text/plain": [
              "array([[1., 0.],\n",
              "       [0., 1.]])"
            ]
          },
          "metadata": {
            "tags": []
          },
          "execution_count": 347
        }
      ]
    },
    {
      "cell_type": "markdown",
      "metadata": {
        "id": "-YndPd8FpnTw"
      },
      "source": [
        "### <a name='a10'></a> Macierz transponowana\n",
        "\n",
        "Zamiana wierszy na kolumny i kolumny na wiersze.\n",
        "\n",
        "#### Przykład 1:\n",
        "\n",
        "$A = \\begin{bmatrix}2&4\\\\-1&3\\end{bmatrix}$,\n",
        "$A^{T} = \\begin{bmatrix}2&-1\\\\4&3\\end{bmatrix}$\n",
        "\n",
        "#### Przykład 2:\n",
        "$A = \\begin{bmatrix}2&1&-1\\\\0&-1&2\\end{bmatrix}$,\n",
        "$A^{T} = \\begin{bmatrix}2&0\\\\1&-1\\\\-1&2\\end{bmatrix}$"
      ]
    },
    {
      "cell_type": "code",
      "metadata": {
        "colab": {
          "base_uri": "https://localhost:8080/"
        },
        "id": "gGSvrtoxpzNT",
        "outputId": "170812c1-0fb5-4fe6-f898-781fcfd8865b"
      },
      "source": [
        "A"
      ],
      "execution_count": 348,
      "outputs": [
        {
          "output_type": "execute_result",
          "data": {
            "text/plain": [
              "array([[ 2,  4],\n",
              "       [-1,  3]])"
            ]
          },
          "metadata": {
            "tags": []
          },
          "execution_count": 348
        }
      ]
    },
    {
      "cell_type": "code",
      "metadata": {
        "colab": {
          "base_uri": "https://localhost:8080/"
        },
        "id": "calbzr2ip_P3",
        "outputId": "4a7615b5-19be-4932-9898-f4dc4cc252d6"
      },
      "source": [
        "np.transpose(A)"
      ],
      "execution_count": 349,
      "outputs": [
        {
          "output_type": "execute_result",
          "data": {
            "text/plain": [
              "array([[ 2, -1],\n",
              "       [ 4,  3]])"
            ]
          },
          "metadata": {
            "tags": []
          },
          "execution_count": 349
        }
      ]
    },
    {
      "cell_type": "code",
      "metadata": {
        "colab": {
          "base_uri": "https://localhost:8080/"
        },
        "id": "lKaPwqAnqA1H",
        "outputId": "312ea9ae-1335-4f86-8b66-dcf521f68dff"
      },
      "source": [
        "A.T"
      ],
      "execution_count": 350,
      "outputs": [
        {
          "output_type": "execute_result",
          "data": {
            "text/plain": [
              "array([[ 2, -1],\n",
              "       [ 4,  3]])"
            ]
          },
          "metadata": {
            "tags": []
          },
          "execution_count": 350
        }
      ]
    },
    {
      "cell_type": "markdown",
      "metadata": {
        "id": "afUfcQo0qBkP"
      },
      "source": [
        "### <a name='a11'></a> Rozwiązywanie układów równań\n",
        "Rozważmy układ równań $U$:  \n",
        "$${\\displaystyle \\mathrm {U} \\colon {\\begin{cases}{\\begin{matrix}a_{11}x_{1}&+&a_{12}x_{2}&+&\\dots &+&a_{1n}x_{n}&=b_{1},\\\\a_{21}x_{1}&+&a_{22}x_{2}&+&\\dots &+&a_{2n}x_{n}&=b_{2},\\\\\\vdots &&\\vdots &&\\ddots &&\\vdots &\\vdots \\\\a_{m1}x_{1}&+&a_{m2}x_{2}&+&\\dots &+&a_{mn}x_{n}&=b_{m}.\\end{matrix}}\\end{cases}}.}$$\n",
        "\n",
        "Wykorzystując macierze możemy to przedstawić następująco:\n",
        "\n",
        "$${\\begin{bmatrix}a_{11}&a_{12}&\\dots &a_{1n}\\\\a_{21}&a_{22}&\\dots &a_{2n}\\\\\\vdots &\\vdots &\\ddots &\\vdots \\\\a_{m1}&a_{m2}&\\dots &a_{mn}\\end{bmatrix}}{\\begin{bmatrix}x_{1}\\\\x_{2}\\\\\\vdots \\\\x_{n}\\end{bmatrix}}={\\begin{bmatrix}b_{1}\\\\b_{2}\\\\\\vdots \\\\b_{m}\\end{bmatrix}}$$\n",
        "I w zapisie skrótowym:\n",
        "$$\\mathbf {AX} =\\mathbf {B}$$\n",
        "\n",
        "Gdzie:  \n",
        "$A = {\\begin{bmatrix}a_{11}&a_{12}&\\dots &a_{1n}\\\\a_{21}&a_{22}&\\dots &a_{2n}\\\\\\vdots &\\vdots &\\ddots &\\vdots \\\\a_{m1}&a_{m2}&\\dots &a_{mn}\\end{bmatrix}}$ - macierz współczynników\n",
        "\n",
        "${\\displaystyle \\mathbf {B} =[b_{1},b_{2},\\dots ,b_{m}]} $ - wektor wyrazów wolnych  \n",
        "${\\mathbf  X}=[x_{1},x_{2},\\dots ,x_{n}] $ - wektor niewiadomych\n",
        "\n",
        "Jeśli macierz układu $A$ jest macierzą kwadratową, to oznaczoność układu jest równoważna jej odwracalności, tzn.\n",
        "$$\\mathbf {AX} =\\mathbf {B}$$\n",
        "$${\\displaystyle \\mathbf {A} ^{-1}\\mathbf {AX} =\\mathbf {A} ^{-1}\\mathbf {B}} $$\n",
        "$$\\mathbf {X} =\\mathbf {A} ^{-1}\\mathbf {B} .$$\n",
        "\n",
        "#### Przykład:\n",
        "Rozważmy układ równań:\n",
        "$$\\begin{cases}2x + 4y = 10 \\\\ x - y = -1 \\end{cases}$$  \n",
        "Rozwiązaniem jest para liczb:\n",
        "$$\\begin{cases}x = 1 \\\\ y = 2 \\end{cases}$$  \n",
        "\n",
        "\n",
        "\n",
        "\n"
      ]
    },
    {
      "cell_type": "code",
      "metadata": {
        "colab": {
          "base_uri": "https://localhost:8080/"
        },
        "id": "gyACGyfhqJG4",
        "outputId": "57ff97dd-42fe-47f2-a073-7405f4199d98"
      },
      "source": [
        "A = np.array([[2, 4], [1, -1]])\n",
        "A"
      ],
      "execution_count": 351,
      "outputs": [
        {
          "output_type": "execute_result",
          "data": {
            "text/plain": [
              "array([[ 2,  4],\n",
              "       [ 1, -1]])"
            ]
          },
          "metadata": {
            "tags": []
          },
          "execution_count": 351
        }
      ]
    },
    {
      "cell_type": "code",
      "metadata": {
        "colab": {
          "base_uri": "https://localhost:8080/"
        },
        "id": "o8EDwjM5rAju",
        "outputId": "70b3e546-23cb-46ea-e35a-9569d30688fc"
      },
      "source": [
        "B = np.array([[10], [-1]])\n",
        "B"
      ],
      "execution_count": 352,
      "outputs": [
        {
          "output_type": "execute_result",
          "data": {
            "text/plain": [
              "array([[10],\n",
              "       [-1]])"
            ]
          },
          "metadata": {
            "tags": []
          },
          "execution_count": 352
        }
      ]
    },
    {
      "cell_type": "code",
      "metadata": {
        "colab": {
          "base_uri": "https://localhost:8080/"
        },
        "id": "hEESMwvGrFxu",
        "outputId": "6d5d751b-0d7e-4980-f11e-20406b280d8c"
      },
      "source": [
        "A_inv = np.linalg.inv(A)\n",
        "A_inv"
      ],
      "execution_count": 353,
      "outputs": [
        {
          "output_type": "execute_result",
          "data": {
            "text/plain": [
              "array([[ 0.1667,  0.6667],\n",
              "       [ 0.1667, -0.3333]])"
            ]
          },
          "metadata": {
            "tags": []
          },
          "execution_count": 353
        }
      ]
    },
    {
      "cell_type": "code",
      "metadata": {
        "colab": {
          "base_uri": "https://localhost:8080/"
        },
        "id": "joSyVUvMrJdG",
        "outputId": "9847ee1b-1ce6-436a-ed83-2f824dc59a74"
      },
      "source": [
        "X = np.dot(A_inv, B)\n",
        "X"
      ],
      "execution_count": 354,
      "outputs": [
        {
          "output_type": "execute_result",
          "data": {
            "text/plain": [
              "array([[1.],\n",
              "       [2.]])"
            ]
          },
          "metadata": {
            "tags": []
          },
          "execution_count": 354
        }
      ]
    },
    {
      "cell_type": "markdown",
      "metadata": {
        "id": "MAfZrWgqrQme"
      },
      "source": [
        "##Funkcje statystyczne"
      ]
    },
    {
      "cell_type": "code",
      "metadata": {
        "colab": {
          "base_uri": "https://localhost:8080/"
        },
        "id": "Pnw855kVrn7l",
        "outputId": "e08deb27-8a5f-42b4-c165-58e02f29bb91"
      },
      "source": [
        "price = np.array([[12.40, 12.80, 11.90, 12.60, 1000],\n",
        "                  [12.50, 13.00, 11.70, 12.20, 2000],\n",
        "                  [12.20, 13.40, 12.20, 13.20, 1500]])\n",
        "print(price)"
      ],
      "execution_count": 355,
      "outputs": [
        {
          "output_type": "stream",
          "text": [
            "[[  12.4   12.8   11.9   12.6 1000. ]\n",
            " [  12.5   13.    11.7   12.2 2000. ]\n",
            " [  12.2   13.4   12.2   13.2 1500. ]]\n"
          ],
          "name": "stdout"
        }
      ]
    },
    {
      "cell_type": "code",
      "metadata": {
        "colab": {
          "base_uri": "https://localhost:8080/"
        },
        "id": "KVzokHusr2K8",
        "outputId": "60f87200-2c6e-47a4-90bd-7598324cbd6d"
      },
      "source": [
        "price.sum()"
      ],
      "execution_count": 356,
      "outputs": [
        {
          "output_type": "execute_result",
          "data": {
            "text/plain": [
              "4650.1"
            ]
          },
          "metadata": {
            "tags": []
          },
          "execution_count": 356
        }
      ]
    },
    {
      "cell_type": "code",
      "metadata": {
        "colab": {
          "base_uri": "https://localhost:8080/"
        },
        "id": "rkSYrd5ir5vN",
        "outputId": "bb1b0e46-5074-4a1a-8bde-c9f0b2286285"
      },
      "source": [
        "price.sum(axis=0) #po kolumnach, axis=0 - po wierszach"
      ],
      "execution_count": 357,
      "outputs": [
        {
          "output_type": "execute_result",
          "data": {
            "text/plain": [
              "array([  37.1,   39.2,   35.8,   38. , 4500. ])"
            ]
          },
          "metadata": {
            "tags": []
          },
          "execution_count": 357
        }
      ]
    },
    {
      "cell_type": "code",
      "metadata": {
        "colab": {
          "base_uri": "https://localhost:8080/"
        },
        "id": "5TCDPIRZsCjl",
        "outputId": "848143b1-99d1-4920-ea76-59a1247c8399"
      },
      "source": [
        "np.sum(price, axis=0)"
      ],
      "execution_count": 358,
      "outputs": [
        {
          "output_type": "execute_result",
          "data": {
            "text/plain": [
              "array([  37.1,   39.2,   35.8,   38. , 4500. ])"
            ]
          },
          "metadata": {
            "tags": []
          },
          "execution_count": 358
        }
      ]
    },
    {
      "cell_type": "code",
      "metadata": {
        "colab": {
          "base_uri": "https://localhost:8080/"
        },
        "id": "Ug0qEBwpsKlN",
        "outputId": "070aa6c3-7df2-4898-8ecc-85f49367da9b"
      },
      "source": [
        "np.mean(price, axis=0)"
      ],
      "execution_count": 359,
      "outputs": [
        {
          "output_type": "execute_result",
          "data": {
            "text/plain": [
              "array([  12.3667,   13.0667,   11.9333,   12.6667, 1500.    ])"
            ]
          },
          "metadata": {
            "tags": []
          },
          "execution_count": 359
        }
      ]
    },
    {
      "cell_type": "code",
      "metadata": {
        "id": "NwsOoDwjsQBl"
      },
      "source": [
        "#itd itp"
      ],
      "execution_count": 360,
      "outputs": []
    },
    {
      "cell_type": "markdown",
      "metadata": {
        "id": "duRF0xrFsgd3"
      },
      "source": [
        "#Pandas"
      ]
    },
    {
      "cell_type": "markdown",
      "metadata": {
        "id": "CIouV-4nYz67"
      },
      "source": [
        "##Series i DataFrame"
      ]
    },
    {
      "cell_type": "code",
      "metadata": {
        "colab": {
          "base_uri": "https://localhost:8080/"
        },
        "id": "5lEtbT3CPoOG",
        "outputId": "e2f38a1e-e4fb-4d00-9327-9ef15c348984"
      },
      "source": [
        "s = pd.Series(data=[3, 2, 4, 6], index=['a', 'b', 'c', 'd'], name='sample')\n",
        "s"
      ],
      "execution_count": 361,
      "outputs": [
        {
          "output_type": "execute_result",
          "data": {
            "text/plain": [
              "a    3\n",
              "b    2\n",
              "c    4\n",
              "d    6\n",
              "Name: sample, dtype: int64"
            ]
          },
          "metadata": {
            "tags": []
          },
          "execution_count": 361
        }
      ]
    },
    {
      "cell_type": "code",
      "metadata": {
        "id": "7HMAgw-FQHn_"
      },
      "source": [
        ""
      ],
      "execution_count": 361,
      "outputs": []
    },
    {
      "cell_type": "code",
      "metadata": {
        "colab": {
          "base_uri": "https://localhost:8080/"
        },
        "id": "gVq6Uo_aQai3",
        "outputId": "ad122316-1845-4583-8531-20c9f9e71641"
      },
      "source": [
        "s = pd.Series(data=[3, np.nan, 4, 6], index=['a', 'b', 'c', 'd'], name='sample')\n",
        "s"
      ],
      "execution_count": 362,
      "outputs": [
        {
          "output_type": "execute_result",
          "data": {
            "text/plain": [
              "a   3.00\n",
              "b    nan\n",
              "c   4.00\n",
              "d   6.00\n",
              "Name: sample, dtype: float64"
            ]
          },
          "metadata": {
            "tags": []
          },
          "execution_count": 362
        }
      ]
    },
    {
      "cell_type": "code",
      "metadata": {
        "colab": {
          "base_uri": "https://localhost:8080/"
        },
        "id": "no28gFwEQtyv",
        "outputId": "518dc688-2504-4a59-99bd-85f44e21447e"
      },
      "source": [
        "s = pd.Series(data=[True, False, False])\n",
        "s"
      ],
      "execution_count": 363,
      "outputs": [
        {
          "output_type": "execute_result",
          "data": {
            "text/plain": [
              "0     True\n",
              "1    False\n",
              "2    False\n",
              "dtype: bool"
            ]
          },
          "metadata": {
            "tags": []
          },
          "execution_count": 363
        }
      ]
    },
    {
      "cell_type": "code",
      "metadata": {
        "colab": {
          "base_uri": "https://localhost:8080/"
        },
        "id": "vv3QiP0ORPp4",
        "outputId": "403f086c-a7d4-4579-9137-9526ecdc0a3a"
      },
      "source": [
        "s = pd.Series(data=np.arange(10, 20), index=pd.date_range(start='20200101', periods=10))\n",
        "s"
      ],
      "execution_count": 364,
      "outputs": [
        {
          "output_type": "execute_result",
          "data": {
            "text/plain": [
              "2020-01-01    10\n",
              "2020-01-02    11\n",
              "2020-01-03    12\n",
              "2020-01-04    13\n",
              "2020-01-05    14\n",
              "2020-01-06    15\n",
              "2020-01-07    16\n",
              "2020-01-08    17\n",
              "2020-01-09    18\n",
              "2020-01-10    19\n",
              "Freq: D, dtype: int64"
            ]
          },
          "metadata": {
            "tags": []
          },
          "execution_count": 364
        }
      ]
    },
    {
      "cell_type": "code",
      "metadata": {
        "colab": {
          "base_uri": "https://localhost:8080/"
        },
        "id": "cw5Q3Lj8XqMx",
        "outputId": "ab1a7adc-967b-4e57-be33-c7a065548125"
      },
      "source": [
        "s = pd.Series(data=['python', 'java', 'sql'], name='languages')\n",
        "s"
      ],
      "execution_count": 365,
      "outputs": [
        {
          "output_type": "execute_result",
          "data": {
            "text/plain": [
              "0    python\n",
              "1      java\n",
              "2       sql\n",
              "Name: languages, dtype: object"
            ]
          },
          "metadata": {
            "tags": []
          },
          "execution_count": 365
        }
      ]
    },
    {
      "cell_type": "code",
      "metadata": {
        "colab": {
          "base_uri": "https://localhost:8080/"
        },
        "id": "PpslNu12Ybew",
        "outputId": "42da9e6f-fe85-4970-ffd4-dc1aaadd701c"
      },
      "source": [
        "type(s)"
      ],
      "execution_count": 366,
      "outputs": [
        {
          "output_type": "execute_result",
          "data": {
            "text/plain": [
              "pandas.core.series.Series"
            ]
          },
          "metadata": {
            "tags": []
          },
          "execution_count": 366
        }
      ]
    },
    {
      "cell_type": "code",
      "metadata": {
        "colab": {
          "base_uri": "https://localhost:8080/"
        },
        "id": "0TN_JXYtYgqh",
        "outputId": "067b59ce-6c00-4d4f-a47e-dd848f6564f7"
      },
      "source": [
        "s.index"
      ],
      "execution_count": 367,
      "outputs": [
        {
          "output_type": "execute_result",
          "data": {
            "text/plain": [
              "RangeIndex(start=0, stop=3, step=1)"
            ]
          },
          "metadata": {
            "tags": []
          },
          "execution_count": 367
        }
      ]
    },
    {
      "cell_type": "code",
      "metadata": {
        "colab": {
          "base_uri": "https://localhost:8080/"
        },
        "id": "JJ52-0YIYmDp",
        "outputId": "ecb8c46e-0eda-4fb4-a43c-5697d1e710dc"
      },
      "source": [
        "s = pd.Series(data=np.arange(10, 20), index=pd.date_range(start='20200101', periods=10))\n",
        "s"
      ],
      "execution_count": 368,
      "outputs": [
        {
          "output_type": "execute_result",
          "data": {
            "text/plain": [
              "2020-01-01    10\n",
              "2020-01-02    11\n",
              "2020-01-03    12\n",
              "2020-01-04    13\n",
              "2020-01-05    14\n",
              "2020-01-06    15\n",
              "2020-01-07    16\n",
              "2020-01-08    17\n",
              "2020-01-09    18\n",
              "2020-01-10    19\n",
              "Freq: D, dtype: int64"
            ]
          },
          "metadata": {
            "tags": []
          },
          "execution_count": 368
        }
      ]
    },
    {
      "cell_type": "code",
      "metadata": {
        "colab": {
          "base_uri": "https://localhost:8080/"
        },
        "id": "1P9yBVH-Yrkh",
        "outputId": "9563698e-091f-4929-b173-ee7f2e288076"
      },
      "source": [
        "s.index"
      ],
      "execution_count": 369,
      "outputs": [
        {
          "output_type": "execute_result",
          "data": {
            "text/plain": [
              "DatetimeIndex(['2020-01-01', '2020-01-02', '2020-01-03', '2020-01-04',\n",
              "               '2020-01-05', '2020-01-06', '2020-01-07', '2020-01-08',\n",
              "               '2020-01-09', '2020-01-10'],\n",
              "              dtype='datetime64[ns]', freq='D')"
            ]
          },
          "metadata": {
            "tags": []
          },
          "execution_count": 369
        }
      ]
    },
    {
      "cell_type": "code",
      "metadata": {
        "colab": {
          "base_uri": "https://localhost:8080/"
        },
        "id": "O7imJD5eYsUZ",
        "outputId": "ecd8de9c-14f3-4624-aacc-7f3d931c8f6b"
      },
      "source": [
        "s.values"
      ],
      "execution_count": 370,
      "outputs": [
        {
          "output_type": "execute_result",
          "data": {
            "text/plain": [
              "array([10, 11, 12, 13, 14, 15, 16, 17, 18, 19])"
            ]
          },
          "metadata": {
            "tags": []
          },
          "execution_count": 370
        }
      ]
    },
    {
      "cell_type": "code",
      "metadata": {
        "colab": {
          "base_uri": "https://localhost:8080/"
        },
        "id": "gwcDfub8Y005",
        "outputId": "3086245f-c207-499e-d030-f1ec7d84ee70"
      },
      "source": [
        "price = pd.Series(data={'Apple':200, 'CD Projekt' : 60,  'Amazon':1900})\n",
        "price"
      ],
      "execution_count": 371,
      "outputs": [
        {
          "output_type": "execute_result",
          "data": {
            "text/plain": [
              "Apple          200\n",
              "CD Projekt      60\n",
              "Amazon        1900\n",
              "dtype: int64"
            ]
          },
          "metadata": {
            "tags": []
          },
          "execution_count": 371
        }
      ]
    },
    {
      "cell_type": "code",
      "metadata": {
        "colab": {
          "base_uri": "https://localhost:8080/"
        },
        "id": "87R_uRoKZnXB",
        "outputId": "7b26cf0e-9559-4960-c332-503d0e98e556"
      },
      "source": [
        "price['CD Projekt']"
      ],
      "execution_count": 372,
      "outputs": [
        {
          "output_type": "execute_result",
          "data": {
            "text/plain": [
              "60"
            ]
          },
          "metadata": {
            "tags": []
          },
          "execution_count": 372
        }
      ]
    },
    {
      "cell_type": "code",
      "metadata": {
        "colab": {
          "base_uri": "https://localhost:8080/"
        },
        "id": "SP1bpy7hZrgh",
        "outputId": "db9b8281-fa1f-4a62-faf5-e2a29bf17b95"
      },
      "source": [
        "price[1]"
      ],
      "execution_count": 373,
      "outputs": [
        {
          "output_type": "execute_result",
          "data": {
            "text/plain": [
              "60"
            ]
          },
          "metadata": {
            "tags": []
          },
          "execution_count": 373
        }
      ]
    },
    {
      "cell_type": "code",
      "metadata": {
        "colab": {
          "base_uri": "https://localhost:8080/"
        },
        "id": "8zl7ai0lZyH5",
        "outputId": "856d4468-aa5c-4028-9862-4d13a2a38248"
      },
      "source": [
        "price.count()"
      ],
      "execution_count": 374,
      "outputs": [
        {
          "output_type": "execute_result",
          "data": {
            "text/plain": [
              "3"
            ]
          },
          "metadata": {
            "tags": []
          },
          "execution_count": 374
        }
      ]
    },
    {
      "cell_type": "code",
      "metadata": {
        "colab": {
          "base_uri": "https://localhost:8080/"
        },
        "id": "oeV56qntZ887",
        "outputId": "82c1cdfa-f93e-4e02-9625-90958411b7b0"
      },
      "source": [
        "price.value_counts()"
      ],
      "execution_count": 375,
      "outputs": [
        {
          "output_type": "execute_result",
          "data": {
            "text/plain": [
              "60      1\n",
              "1900    1\n",
              "200     1\n",
              "dtype: int64"
            ]
          },
          "metadata": {
            "tags": []
          },
          "execution_count": 375
        }
      ]
    },
    {
      "cell_type": "code",
      "metadata": {
        "colab": {
          "base_uri": "https://localhost:8080/"
        },
        "id": "iMmA8ym8aDyZ",
        "outputId": "6fc93715-c9d4-44f6-c442-3f73fcd1f210"
      },
      "source": [
        "price.sum()"
      ],
      "execution_count": 376,
      "outputs": [
        {
          "output_type": "execute_result",
          "data": {
            "text/plain": [
              "2160"
            ]
          },
          "metadata": {
            "tags": []
          },
          "execution_count": 376
        }
      ]
    },
    {
      "cell_type": "code",
      "metadata": {
        "colab": {
          "base_uri": "https://localhost:8080/"
        },
        "id": "ztgUBaMTaJax",
        "outputId": "6a427170-4aa4-425f-ae53-48606c5b6351"
      },
      "source": [
        "price.min()"
      ],
      "execution_count": 377,
      "outputs": [
        {
          "output_type": "execute_result",
          "data": {
            "text/plain": [
              "60"
            ]
          },
          "metadata": {
            "tags": []
          },
          "execution_count": 377
        }
      ]
    },
    {
      "cell_type": "code",
      "metadata": {
        "colab": {
          "base_uri": "https://localhost:8080/"
        },
        "id": "H56c59zXaK5p",
        "outputId": "26d3ae52-c3de-4024-93e8-1b7b52d9a2e1"
      },
      "source": [
        "price.describe()"
      ],
      "execution_count": 378,
      "outputs": [
        {
          "output_type": "execute_result",
          "data": {
            "text/plain": [
              "count      3.00\n",
              "mean     720.00\n",
              "std     1024.30\n",
              "min       60.00\n",
              "25%      130.00\n",
              "50%      200.00\n",
              "75%     1050.00\n",
              "max     1900.00\n",
              "dtype: float64"
            ]
          },
          "metadata": {
            "tags": []
          },
          "execution_count": 378
        }
      ]
    },
    {
      "cell_type": "code",
      "metadata": {
        "colab": {
          "base_uri": "https://localhost:8080/"
        },
        "id": "SHrVcs4waP_5",
        "outputId": "516e7793-1348-4ce5-bcd7-9fcf20bbfbfd"
      },
      "source": [
        "price = pd.Series(data={'Apple':200, 'CD Projekt' : 60,  'Amazon':1900, 'KGHM':np.nan})\n",
        "price"
      ],
      "execution_count": 379,
      "outputs": [
        {
          "output_type": "execute_result",
          "data": {
            "text/plain": [
              "Apple         200.00\n",
              "CD Projekt     60.00\n",
              "Amazon       1900.00\n",
              "KGHM             nan\n",
              "dtype: float64"
            ]
          },
          "metadata": {
            "tags": []
          },
          "execution_count": 379
        }
      ]
    },
    {
      "cell_type": "code",
      "metadata": {
        "colab": {
          "base_uri": "https://localhost:8080/"
        },
        "id": "S0jJJYbKafBh",
        "outputId": "233147d8-4cdf-4bd9-f158-816ca3e850f8"
      },
      "source": [
        "price.count()"
      ],
      "execution_count": 380,
      "outputs": [
        {
          "output_type": "execute_result",
          "data": {
            "text/plain": [
              "3"
            ]
          },
          "metadata": {
            "tags": []
          },
          "execution_count": 380
        }
      ]
    },
    {
      "cell_type": "code",
      "metadata": {
        "colab": {
          "base_uri": "https://localhost:8080/"
        },
        "id": "qF2Z33O8agtp",
        "outputId": "547773a8-29a4-450a-f5c8-eb3c3d6ce551"
      },
      "source": [
        "price.describe()"
      ],
      "execution_count": 381,
      "outputs": [
        {
          "output_type": "execute_result",
          "data": {
            "text/plain": [
              "count      3.00\n",
              "mean     720.00\n",
              "std     1024.30\n",
              "min       60.00\n",
              "25%      130.00\n",
              "50%      200.00\n",
              "75%     1050.00\n",
              "max     1900.00\n",
              "dtype: float64"
            ]
          },
          "metadata": {
            "tags": []
          },
          "execution_count": 381
        }
      ]
    },
    {
      "cell_type": "code",
      "metadata": {
        "colab": {
          "base_uri": "https://localhost:8080/"
        },
        "id": "jAE0bfFJaiPJ",
        "outputId": "2b79f538-3f2b-4a5e-bb27-2e8dade514d7"
      },
      "source": [
        "price.nlargest(2)"
      ],
      "execution_count": 382,
      "outputs": [
        {
          "output_type": "execute_result",
          "data": {
            "text/plain": [
              "Amazon   1900.00\n",
              "Apple     200.00\n",
              "dtype: float64"
            ]
          },
          "metadata": {
            "tags": []
          },
          "execution_count": 382
        }
      ]
    },
    {
      "cell_type": "code",
      "metadata": {
        "colab": {
          "base_uri": "https://localhost:8080/"
        },
        "id": "pzDJmU0zasyR",
        "outputId": "6e719fc8-b196-4fab-898d-1ccd64195fd3"
      },
      "source": [
        "price.sort_values()"
      ],
      "execution_count": 383,
      "outputs": [
        {
          "output_type": "execute_result",
          "data": {
            "text/plain": [
              "CD Projekt     60.00\n",
              "Apple         200.00\n",
              "Amazon       1900.00\n",
              "KGHM             nan\n",
              "dtype: float64"
            ]
          },
          "metadata": {
            "tags": []
          },
          "execution_count": 383
        }
      ]
    },
    {
      "cell_type": "code",
      "metadata": {
        "id": "CxDNw5G3byo6"
      },
      "source": [
        "price_ = price.apply(lambda x: x * 3.8)"
      ],
      "execution_count": 384,
      "outputs": []
    },
    {
      "cell_type": "code",
      "metadata": {
        "colab": {
          "base_uri": "https://localhost:8080/",
          "height": 142
        },
        "id": "0C_CSa3vcCjB",
        "outputId": "981fe9f3-ba82-499a-a1be-256f3ade79d0"
      },
      "source": [
        "df = pd.DataFrame(data=[12, 12, 32])\n",
        "df"
      ],
      "execution_count": 385,
      "outputs": [
        {
          "output_type": "execute_result",
          "data": {
            "text/html": [
              "<div>\n",
              "<style scoped>\n",
              "    .dataframe tbody tr th:only-of-type {\n",
              "        vertical-align: middle;\n",
              "    }\n",
              "\n",
              "    .dataframe tbody tr th {\n",
              "        vertical-align: top;\n",
              "    }\n",
              "\n",
              "    .dataframe thead th {\n",
              "        text-align: right;\n",
              "    }\n",
              "</style>\n",
              "<table border=\"1\" class=\"dataframe\">\n",
              "  <thead>\n",
              "    <tr style=\"text-align: right;\">\n",
              "      <th></th>\n",
              "      <th>0</th>\n",
              "    </tr>\n",
              "  </thead>\n",
              "  <tbody>\n",
              "    <tr>\n",
              "      <th>0</th>\n",
              "      <td>12</td>\n",
              "    </tr>\n",
              "    <tr>\n",
              "      <th>1</th>\n",
              "      <td>12</td>\n",
              "    </tr>\n",
              "    <tr>\n",
              "      <th>2</th>\n",
              "      <td>32</td>\n",
              "    </tr>\n",
              "  </tbody>\n",
              "</table>\n",
              "</div>"
            ],
            "text/plain": [
              "    0\n",
              "0  12\n",
              "1  12\n",
              "2  32"
            ]
          },
          "metadata": {
            "tags": []
          },
          "execution_count": 385
        }
      ]
    },
    {
      "cell_type": "code",
      "metadata": {
        "colab": {
          "base_uri": "https://localhost:8080/",
          "height": 142
        },
        "id": "9Sq17sjNcLna",
        "outputId": "9616b09f-8d59-4733-ed6d-9d6cff0569d5"
      },
      "source": [
        "df = pd.DataFrame(data=[12, 12, 32], index=['first', 'second', 'third'], columns=['col_1'])\n",
        "df"
      ],
      "execution_count": 386,
      "outputs": [
        {
          "output_type": "execute_result",
          "data": {
            "text/html": [
              "<div>\n",
              "<style scoped>\n",
              "    .dataframe tbody tr th:only-of-type {\n",
              "        vertical-align: middle;\n",
              "    }\n",
              "\n",
              "    .dataframe tbody tr th {\n",
              "        vertical-align: top;\n",
              "    }\n",
              "\n",
              "    .dataframe thead th {\n",
              "        text-align: right;\n",
              "    }\n",
              "</style>\n",
              "<table border=\"1\" class=\"dataframe\">\n",
              "  <thead>\n",
              "    <tr style=\"text-align: right;\">\n",
              "      <th></th>\n",
              "      <th>col_1</th>\n",
              "    </tr>\n",
              "  </thead>\n",
              "  <tbody>\n",
              "    <tr>\n",
              "      <th>first</th>\n",
              "      <td>12</td>\n",
              "    </tr>\n",
              "    <tr>\n",
              "      <th>second</th>\n",
              "      <td>12</td>\n",
              "    </tr>\n",
              "    <tr>\n",
              "      <th>third</th>\n",
              "      <td>32</td>\n",
              "    </tr>\n",
              "  </tbody>\n",
              "</table>\n",
              "</div>"
            ],
            "text/plain": [
              "        col_1\n",
              "first      12\n",
              "second     12\n",
              "third      32"
            ]
          },
          "metadata": {
            "tags": []
          },
          "execution_count": 386
        }
      ]
    },
    {
      "cell_type": "code",
      "metadata": {
        "colab": {
          "base_uri": "https://localhost:8080/",
          "height": 111
        },
        "id": "wJ7tJOAydkw5",
        "outputId": "17bc2d16-11ec-48c4-90b6-c9c2b6893dd2"
      },
      "source": [
        "df = pd.DataFrame(data={'WIG20': ['PKN Orlen', 'PKO BP'],\n",
        "                        'mWIG40' : ['Amica', 'Playway']})\n",
        "df"
      ],
      "execution_count": 387,
      "outputs": [
        {
          "output_type": "execute_result",
          "data": {
            "text/html": [
              "<div>\n",
              "<style scoped>\n",
              "    .dataframe tbody tr th:only-of-type {\n",
              "        vertical-align: middle;\n",
              "    }\n",
              "\n",
              "    .dataframe tbody tr th {\n",
              "        vertical-align: top;\n",
              "    }\n",
              "\n",
              "    .dataframe thead th {\n",
              "        text-align: right;\n",
              "    }\n",
              "</style>\n",
              "<table border=\"1\" class=\"dataframe\">\n",
              "  <thead>\n",
              "    <tr style=\"text-align: right;\">\n",
              "      <th></th>\n",
              "      <th>WIG20</th>\n",
              "      <th>mWIG40</th>\n",
              "    </tr>\n",
              "  </thead>\n",
              "  <tbody>\n",
              "    <tr>\n",
              "      <th>0</th>\n",
              "      <td>PKN Orlen</td>\n",
              "      <td>Amica</td>\n",
              "    </tr>\n",
              "    <tr>\n",
              "      <th>1</th>\n",
              "      <td>PKO BP</td>\n",
              "      <td>Playway</td>\n",
              "    </tr>\n",
              "  </tbody>\n",
              "</table>\n",
              "</div>"
            ],
            "text/plain": [
              "       WIG20   mWIG40\n",
              "0  PKN Orlen    Amica\n",
              "1     PKO BP  Playway"
            ]
          },
          "metadata": {
            "tags": []
          },
          "execution_count": 387
        }
      ]
    },
    {
      "cell_type": "code",
      "metadata": {
        "colab": {
          "base_uri": "https://localhost:8080/",
          "height": 111
        },
        "id": "jKLEImrod2Wy",
        "outputId": "0957e2b9-48dd-4f9c-d44c-5321168db27e"
      },
      "source": [
        "df = pd.DataFrame(data=[[10, 12, 13], [23, 12, 10]], index=['first', 'second'], columns=['col_1', 'col_2', 'col_3'])\n",
        "df"
      ],
      "execution_count": 388,
      "outputs": [
        {
          "output_type": "execute_result",
          "data": {
            "text/html": [
              "<div>\n",
              "<style scoped>\n",
              "    .dataframe tbody tr th:only-of-type {\n",
              "        vertical-align: middle;\n",
              "    }\n",
              "\n",
              "    .dataframe tbody tr th {\n",
              "        vertical-align: top;\n",
              "    }\n",
              "\n",
              "    .dataframe thead th {\n",
              "        text-align: right;\n",
              "    }\n",
              "</style>\n",
              "<table border=\"1\" class=\"dataframe\">\n",
              "  <thead>\n",
              "    <tr style=\"text-align: right;\">\n",
              "      <th></th>\n",
              "      <th>col_1</th>\n",
              "      <th>col_2</th>\n",
              "      <th>col_3</th>\n",
              "    </tr>\n",
              "  </thead>\n",
              "  <tbody>\n",
              "    <tr>\n",
              "      <th>first</th>\n",
              "      <td>10</td>\n",
              "      <td>12</td>\n",
              "      <td>13</td>\n",
              "    </tr>\n",
              "    <tr>\n",
              "      <th>second</th>\n",
              "      <td>23</td>\n",
              "      <td>12</td>\n",
              "      <td>10</td>\n",
              "    </tr>\n",
              "  </tbody>\n",
              "</table>\n",
              "</div>"
            ],
            "text/plain": [
              "        col_1  col_2  col_3\n",
              "first      10     12     13\n",
              "second     23     12     10"
            ]
          },
          "metadata": {
            "tags": []
          },
          "execution_count": 388
        }
      ]
    },
    {
      "cell_type": "code",
      "metadata": {
        "colab": {
          "base_uri": "https://localhost:8080/"
        },
        "id": "3Gv79XSqePWj",
        "outputId": "a4dc9794-ffa5-434c-e185-81c2216c2c9f"
      },
      "source": [
        "df.columns"
      ],
      "execution_count": 389,
      "outputs": [
        {
          "output_type": "execute_result",
          "data": {
            "text/plain": [
              "Index(['col_1', 'col_2', 'col_3'], dtype='object')"
            ]
          },
          "metadata": {
            "tags": []
          },
          "execution_count": 389
        }
      ]
    },
    {
      "cell_type": "code",
      "metadata": {
        "colab": {
          "base_uri": "https://localhost:8080/"
        },
        "id": "zOO3YBM_eo0r",
        "outputId": "4ddd509b-6caa-4167-afed-9a5eddfa89be"
      },
      "source": [
        "df.index"
      ],
      "execution_count": 390,
      "outputs": [
        {
          "output_type": "execute_result",
          "data": {
            "text/plain": [
              "Index(['first', 'second'], dtype='object')"
            ]
          },
          "metadata": {
            "tags": []
          },
          "execution_count": 390
        }
      ]
    },
    {
      "cell_type": "code",
      "metadata": {
        "colab": {
          "base_uri": "https://localhost:8080/"
        },
        "id": "1kk73ILZetJi",
        "outputId": "f1de4d08-affc-459f-eb0d-72fe2ce239eb"
      },
      "source": [
        "df.values"
      ],
      "execution_count": 391,
      "outputs": [
        {
          "output_type": "execute_result",
          "data": {
            "text/plain": [
              "array([[10, 12, 13],\n",
              "       [23, 12, 10]])"
            ]
          },
          "metadata": {
            "tags": []
          },
          "execution_count": 391
        }
      ]
    },
    {
      "cell_type": "code",
      "metadata": {
        "colab": {
          "base_uri": "https://localhost:8080/"
        },
        "id": "cfn6CL8OewGy",
        "outputId": "07bee8b5-b193-4376-c3dd-1275c83a0988"
      },
      "source": [
        "df.info()"
      ],
      "execution_count": 392,
      "outputs": [
        {
          "output_type": "stream",
          "text": [
            "<class 'pandas.core.frame.DataFrame'>\n",
            "Index: 2 entries, first to second\n",
            "Data columns (total 3 columns):\n",
            " #   Column  Non-Null Count  Dtype\n",
            "---  ------  --------------  -----\n",
            " 0   col_1   2 non-null      int64\n",
            " 1   col_2   2 non-null      int64\n",
            " 2   col_3   2 non-null      int64\n",
            "dtypes: int64(3)\n",
            "memory usage: 64.0+ bytes\n"
          ],
          "name": "stdout"
        }
      ]
    },
    {
      "cell_type": "code",
      "metadata": {
        "colab": {
          "base_uri": "https://localhost:8080/",
          "height": 297
        },
        "id": "6vShr-TGe0DK",
        "outputId": "feb68c0d-269f-4b27-9c4c-7f7e2ab9934a"
      },
      "source": [
        "df.describe()"
      ],
      "execution_count": 393,
      "outputs": [
        {
          "output_type": "execute_result",
          "data": {
            "text/html": [
              "<div>\n",
              "<style scoped>\n",
              "    .dataframe tbody tr th:only-of-type {\n",
              "        vertical-align: middle;\n",
              "    }\n",
              "\n",
              "    .dataframe tbody tr th {\n",
              "        vertical-align: top;\n",
              "    }\n",
              "\n",
              "    .dataframe thead th {\n",
              "        text-align: right;\n",
              "    }\n",
              "</style>\n",
              "<table border=\"1\" class=\"dataframe\">\n",
              "  <thead>\n",
              "    <tr style=\"text-align: right;\">\n",
              "      <th></th>\n",
              "      <th>col_1</th>\n",
              "      <th>col_2</th>\n",
              "      <th>col_3</th>\n",
              "    </tr>\n",
              "  </thead>\n",
              "  <tbody>\n",
              "    <tr>\n",
              "      <th>count</th>\n",
              "      <td>2.00</td>\n",
              "      <td>2.00</td>\n",
              "      <td>2.00</td>\n",
              "    </tr>\n",
              "    <tr>\n",
              "      <th>mean</th>\n",
              "      <td>16.50</td>\n",
              "      <td>12.00</td>\n",
              "      <td>11.50</td>\n",
              "    </tr>\n",
              "    <tr>\n",
              "      <th>std</th>\n",
              "      <td>9.19</td>\n",
              "      <td>0.00</td>\n",
              "      <td>2.12</td>\n",
              "    </tr>\n",
              "    <tr>\n",
              "      <th>min</th>\n",
              "      <td>10.00</td>\n",
              "      <td>12.00</td>\n",
              "      <td>10.00</td>\n",
              "    </tr>\n",
              "    <tr>\n",
              "      <th>25%</th>\n",
              "      <td>13.25</td>\n",
              "      <td>12.00</td>\n",
              "      <td>10.75</td>\n",
              "    </tr>\n",
              "    <tr>\n",
              "      <th>50%</th>\n",
              "      <td>16.50</td>\n",
              "      <td>12.00</td>\n",
              "      <td>11.50</td>\n",
              "    </tr>\n",
              "    <tr>\n",
              "      <th>75%</th>\n",
              "      <td>19.75</td>\n",
              "      <td>12.00</td>\n",
              "      <td>12.25</td>\n",
              "    </tr>\n",
              "    <tr>\n",
              "      <th>max</th>\n",
              "      <td>23.00</td>\n",
              "      <td>12.00</td>\n",
              "      <td>13.00</td>\n",
              "    </tr>\n",
              "  </tbody>\n",
              "</table>\n",
              "</div>"
            ],
            "text/plain": [
              "       col_1  col_2  col_3\n",
              "count   2.00   2.00   2.00\n",
              "mean   16.50  12.00  11.50\n",
              "std     9.19   0.00   2.12\n",
              "min    10.00  12.00  10.00\n",
              "25%    13.25  12.00  10.75\n",
              "50%    16.50  12.00  11.50\n",
              "75%    19.75  12.00  12.25\n",
              "max    23.00  12.00  13.00"
            ]
          },
          "metadata": {
            "tags": []
          },
          "execution_count": 393
        }
      ]
    },
    {
      "cell_type": "code",
      "metadata": {
        "colab": {
          "base_uri": "https://localhost:8080/",
          "height": 142
        },
        "id": "7r6XlToefGvz",
        "outputId": "1c66b4b6-7f1f-468e-c65c-8eb04ae242ab"
      },
      "source": [
        "df.describe().T"
      ],
      "execution_count": 394,
      "outputs": [
        {
          "output_type": "execute_result",
          "data": {
            "text/html": [
              "<div>\n",
              "<style scoped>\n",
              "    .dataframe tbody tr th:only-of-type {\n",
              "        vertical-align: middle;\n",
              "    }\n",
              "\n",
              "    .dataframe tbody tr th {\n",
              "        vertical-align: top;\n",
              "    }\n",
              "\n",
              "    .dataframe thead th {\n",
              "        text-align: right;\n",
              "    }\n",
              "</style>\n",
              "<table border=\"1\" class=\"dataframe\">\n",
              "  <thead>\n",
              "    <tr style=\"text-align: right;\">\n",
              "      <th></th>\n",
              "      <th>count</th>\n",
              "      <th>mean</th>\n",
              "      <th>std</th>\n",
              "      <th>min</th>\n",
              "      <th>25%</th>\n",
              "      <th>50%</th>\n",
              "      <th>75%</th>\n",
              "      <th>max</th>\n",
              "    </tr>\n",
              "  </thead>\n",
              "  <tbody>\n",
              "    <tr>\n",
              "      <th>col_1</th>\n",
              "      <td>2.00</td>\n",
              "      <td>16.50</td>\n",
              "      <td>9.19</td>\n",
              "      <td>10.00</td>\n",
              "      <td>13.25</td>\n",
              "      <td>16.50</td>\n",
              "      <td>19.75</td>\n",
              "      <td>23.00</td>\n",
              "    </tr>\n",
              "    <tr>\n",
              "      <th>col_2</th>\n",
              "      <td>2.00</td>\n",
              "      <td>12.00</td>\n",
              "      <td>0.00</td>\n",
              "      <td>12.00</td>\n",
              "      <td>12.00</td>\n",
              "      <td>12.00</td>\n",
              "      <td>12.00</td>\n",
              "      <td>12.00</td>\n",
              "    </tr>\n",
              "    <tr>\n",
              "      <th>col_3</th>\n",
              "      <td>2.00</td>\n",
              "      <td>11.50</td>\n",
              "      <td>2.12</td>\n",
              "      <td>10.00</td>\n",
              "      <td>10.75</td>\n",
              "      <td>11.50</td>\n",
              "      <td>12.25</td>\n",
              "      <td>13.00</td>\n",
              "    </tr>\n",
              "  </tbody>\n",
              "</table>\n",
              "</div>"
            ],
            "text/plain": [
              "       count  mean  std   min   25%   50%   75%   max\n",
              "col_1   2.00 16.50 9.19 10.00 13.25 16.50 19.75 23.00\n",
              "col_2   2.00 12.00 0.00 12.00 12.00 12.00 12.00 12.00\n",
              "col_3   2.00 11.50 2.12 10.00 10.75 11.50 12.25 13.00"
            ]
          },
          "metadata": {
            "tags": []
          },
          "execution_count": 394
        }
      ]
    },
    {
      "cell_type": "code",
      "metadata": {
        "colab": {
          "base_uri": "https://localhost:8080/"
        },
        "id": "Q3ZBWi-vfLO-",
        "outputId": "887f2b62-c3fd-425d-b489-c006532d813e"
      },
      "source": [
        "df['col_1']\n",
        "type(df['col_1'])"
      ],
      "execution_count": 395,
      "outputs": [
        {
          "output_type": "execute_result",
          "data": {
            "text/plain": [
              "pandas.core.series.Series"
            ]
          },
          "metadata": {
            "tags": []
          },
          "execution_count": 395
        }
      ]
    },
    {
      "cell_type": "code",
      "metadata": {
        "colab": {
          "base_uri": "https://localhost:8080/"
        },
        "id": "ybC80WxufXar",
        "outputId": "b8d8307c-669a-42d8-8328-09375a0db345"
      },
      "source": [
        "df[['col_1']]\n",
        "type(df[['col_1']])"
      ],
      "execution_count": 396,
      "outputs": [
        {
          "output_type": "execute_result",
          "data": {
            "text/plain": [
              "pandas.core.frame.DataFrame"
            ]
          },
          "metadata": {
            "tags": []
          },
          "execution_count": 396
        }
      ]
    },
    {
      "cell_type": "code",
      "metadata": {
        "id": "x8M3dFnqfuVj"
      },
      "source": [
        "df.columns = ['a', 'b', 'c']"
      ],
      "execution_count": 397,
      "outputs": []
    },
    {
      "cell_type": "code",
      "metadata": {
        "colab": {
          "base_uri": "https://localhost:8080/"
        },
        "id": "x1BO6HsPfx2r",
        "outputId": "22e2151e-07a7-4e57-c850-912e6579baa0"
      },
      "source": [
        "df.a"
      ],
      "execution_count": 398,
      "outputs": [
        {
          "output_type": "execute_result",
          "data": {
            "text/plain": [
              "first     10\n",
              "second    23\n",
              "Name: a, dtype: int64"
            ]
          },
          "metadata": {
            "tags": []
          },
          "execution_count": 398
        }
      ]
    },
    {
      "cell_type": "code",
      "metadata": {
        "id": "gbFuyBawf0ar"
      },
      "source": [
        "df['d'] = df.a + df.c"
      ],
      "execution_count": 399,
      "outputs": []
    },
    {
      "cell_type": "code",
      "metadata": {
        "colab": {
          "base_uri": "https://localhost:8080/",
          "height": 111
        },
        "id": "qNI97GkqgMxz",
        "outputId": "cc586730-ae0f-493e-d344-2041c58823b9"
      },
      "source": [
        "df"
      ],
      "execution_count": 400,
      "outputs": [
        {
          "output_type": "execute_result",
          "data": {
            "text/html": [
              "<div>\n",
              "<style scoped>\n",
              "    .dataframe tbody tr th:only-of-type {\n",
              "        vertical-align: middle;\n",
              "    }\n",
              "\n",
              "    .dataframe tbody tr th {\n",
              "        vertical-align: top;\n",
              "    }\n",
              "\n",
              "    .dataframe thead th {\n",
              "        text-align: right;\n",
              "    }\n",
              "</style>\n",
              "<table border=\"1\" class=\"dataframe\">\n",
              "  <thead>\n",
              "    <tr style=\"text-align: right;\">\n",
              "      <th></th>\n",
              "      <th>a</th>\n",
              "      <th>b</th>\n",
              "      <th>c</th>\n",
              "      <th>d</th>\n",
              "    </tr>\n",
              "  </thead>\n",
              "  <tbody>\n",
              "    <tr>\n",
              "      <th>first</th>\n",
              "      <td>10</td>\n",
              "      <td>12</td>\n",
              "      <td>13</td>\n",
              "      <td>23</td>\n",
              "    </tr>\n",
              "    <tr>\n",
              "      <th>second</th>\n",
              "      <td>23</td>\n",
              "      <td>12</td>\n",
              "      <td>10</td>\n",
              "      <td>33</td>\n",
              "    </tr>\n",
              "  </tbody>\n",
              "</table>\n",
              "</div>"
            ],
            "text/plain": [
              "         a   b   c   d\n",
              "first   10  12  13  23\n",
              "second  23  12  10  33"
            ]
          },
          "metadata": {
            "tags": []
          },
          "execution_count": 400
        }
      ]
    },
    {
      "cell_type": "code",
      "metadata": {
        "colab": {
          "base_uri": "https://localhost:8080/"
        },
        "id": "jWHeTtA5gNLL",
        "outputId": "a7a221a3-44f7-4180-ce11-5412e58531fb"
      },
      "source": [
        "df.loc['first']"
      ],
      "execution_count": 401,
      "outputs": [
        {
          "output_type": "execute_result",
          "data": {
            "text/plain": [
              "a    10\n",
              "b    12\n",
              "c    13\n",
              "d    23\n",
              "Name: first, dtype: int64"
            ]
          },
          "metadata": {
            "tags": []
          },
          "execution_count": 401
        }
      ]
    },
    {
      "cell_type": "code",
      "metadata": {
        "colab": {
          "base_uri": "https://localhost:8080/"
        },
        "id": "lf7d-3ywgaLj",
        "outputId": "5805d4ec-243e-4559-aada-9bef80c1c6d4"
      },
      "source": [
        "df.iloc[0]"
      ],
      "execution_count": 402,
      "outputs": [
        {
          "output_type": "execute_result",
          "data": {
            "text/plain": [
              "a    10\n",
              "b    12\n",
              "c    13\n",
              "d    23\n",
              "Name: first, dtype: int64"
            ]
          },
          "metadata": {
            "tags": []
          },
          "execution_count": 402
        }
      ]
    },
    {
      "cell_type": "code",
      "metadata": {
        "colab": {
          "base_uri": "https://localhost:8080/"
        },
        "id": "EVmCOV5xgfRj",
        "outputId": "38663fe9-00ec-44c3-b991-797e0249b537"
      },
      "source": [
        "df.loc['first', 'b']"
      ],
      "execution_count": 403,
      "outputs": [
        {
          "output_type": "execute_result",
          "data": {
            "text/plain": [
              "12"
            ]
          },
          "metadata": {
            "tags": []
          },
          "execution_count": 403
        }
      ]
    },
    {
      "cell_type": "code",
      "metadata": {
        "colab": {
          "base_uri": "https://localhost:8080/"
        },
        "id": "KKUUclKVgnxj",
        "outputId": "0dbf224c-975c-4408-a7b3-0d875b20137a"
      },
      "source": [
        "df.loc[:, 'b']"
      ],
      "execution_count": 404,
      "outputs": [
        {
          "output_type": "execute_result",
          "data": {
            "text/plain": [
              "first     12\n",
              "second    12\n",
              "Name: b, dtype: int64"
            ]
          },
          "metadata": {
            "tags": []
          },
          "execution_count": 404
        }
      ]
    },
    {
      "cell_type": "markdown",
      "metadata": {
        "id": "wQzFC9Gkgrxj"
      },
      "source": [
        "##**Przykład 1**  - dane giełdowe"
      ]
    },
    {
      "cell_type": "code",
      "metadata": {
        "id": "ocJ5MQcBh4X_"
      },
      "source": [
        "import numpy as np\n",
        "import pandas as pd"
      ],
      "execution_count": 405,
      "outputs": []
    },
    {
      "cell_type": "code",
      "metadata": {
        "colab": {
          "base_uri": "https://localhost:8080/"
        },
        "id": "bRpBwU7JiaZa",
        "outputId": "d508dd6a-36f5-4bd7-d608-917437420cb8"
      },
      "source": [
        "def fetch_financial_data(company='AMZN'):\n",
        "    import pandas_datareader.data as web\n",
        "    return web.DataReader(name=company, data_source='stooq')\n",
        "\n",
        "df = fetch_financial_data()\n",
        "df.info()"
      ],
      "execution_count": 406,
      "outputs": [
        {
          "output_type": "stream",
          "text": [
            "<class 'pandas.core.frame.DataFrame'>\n",
            "DatetimeIndex: 1258 entries, 2021-06-24 to 2016-06-27\n",
            "Data columns (total 5 columns):\n",
            " #   Column  Non-Null Count  Dtype  \n",
            "---  ------  --------------  -----  \n",
            " 0   Open    1258 non-null   float64\n",
            " 1   High    1258 non-null   float64\n",
            " 2   Low     1258 non-null   float64\n",
            " 3   Close   1258 non-null   float64\n",
            " 4   Volume  1258 non-null   int64  \n",
            "dtypes: float64(4), int64(1)\n",
            "memory usage: 59.0 KB\n"
          ],
          "name": "stdout"
        }
      ]
    },
    {
      "cell_type": "code",
      "metadata": {
        "colab": {
          "base_uri": "https://localhost:8080/",
          "height": 450
        },
        "id": "xwzG5F_binwL",
        "outputId": "7823ccc2-a564-4064-89c9-0697d6ef0fc4"
      },
      "source": [
        "df"
      ],
      "execution_count": 407,
      "outputs": [
        {
          "output_type": "execute_result",
          "data": {
            "text/html": [
              "<div>\n",
              "<style scoped>\n",
              "    .dataframe tbody tr th:only-of-type {\n",
              "        vertical-align: middle;\n",
              "    }\n",
              "\n",
              "    .dataframe tbody tr th {\n",
              "        vertical-align: top;\n",
              "    }\n",
              "\n",
              "    .dataframe thead th {\n",
              "        text-align: right;\n",
              "    }\n",
              "</style>\n",
              "<table border=\"1\" class=\"dataframe\">\n",
              "  <thead>\n",
              "    <tr style=\"text-align: right;\">\n",
              "      <th></th>\n",
              "      <th>Open</th>\n",
              "      <th>High</th>\n",
              "      <th>Low</th>\n",
              "      <th>Close</th>\n",
              "      <th>Volume</th>\n",
              "    </tr>\n",
              "    <tr>\n",
              "      <th>Date</th>\n",
              "      <th></th>\n",
              "      <th></th>\n",
              "      <th></th>\n",
              "      <th></th>\n",
              "      <th></th>\n",
              "    </tr>\n",
              "  </thead>\n",
              "  <tbody>\n",
              "    <tr>\n",
              "      <th>2021-06-24</th>\n",
              "      <td>3507.64</td>\n",
              "      <td>3524.86</td>\n",
              "      <td>3430.85</td>\n",
              "      <td>3449.08</td>\n",
              "      <td>3831999</td>\n",
              "    </tr>\n",
              "    <tr>\n",
              "      <th>2021-06-23</th>\n",
              "      <td>3505.00</td>\n",
              "      <td>3521.00</td>\n",
              "      <td>3483.20</td>\n",
              "      <td>3503.82</td>\n",
              "      <td>2813341</td>\n",
              "    </tr>\n",
              "    <tr>\n",
              "      <th>2021-06-22</th>\n",
              "      <td>3458.06</td>\n",
              "      <td>3523.78</td>\n",
              "      <td>3456.09</td>\n",
              "      <td>3505.44</td>\n",
              "      <td>3345082</td>\n",
              "    </tr>\n",
              "    <tr>\n",
              "      <th>2021-06-21</th>\n",
              "      <td>3476.42</td>\n",
              "      <td>3482.00</td>\n",
              "      <td>3434.00</td>\n",
              "      <td>3453.96</td>\n",
              "      <td>3277130</td>\n",
              "    </tr>\n",
              "    <tr>\n",
              "      <th>2021-06-18</th>\n",
              "      <td>3479.99</td>\n",
              "      <td>3507.00</td>\n",
              "      <td>3473.71</td>\n",
              "      <td>3486.90</td>\n",
              "      <td>5247737</td>\n",
              "    </tr>\n",
              "    <tr>\n",
              "      <th>...</th>\n",
              "      <td>...</td>\n",
              "      <td>...</td>\n",
              "      <td>...</td>\n",
              "      <td>...</td>\n",
              "      <td>...</td>\n",
              "    </tr>\n",
              "    <tr>\n",
              "      <th>2016-07-01</th>\n",
              "      <td>717.32</td>\n",
              "      <td>728.00</td>\n",
              "      <td>716.54</td>\n",
              "      <td>725.62</td>\n",
              "      <td>2583037</td>\n",
              "    </tr>\n",
              "    <tr>\n",
              "      <th>2016-06-30</th>\n",
              "      <td>717.20</td>\n",
              "      <td>719.37</td>\n",
              "      <td>712.54</td>\n",
              "      <td>715.62</td>\n",
              "      <td>2340528</td>\n",
              "    </tr>\n",
              "    <tr>\n",
              "      <th>2016-06-29</th>\n",
              "      <td>715.75</td>\n",
              "      <td>719.50</td>\n",
              "      <td>713.54</td>\n",
              "      <td>715.46</td>\n",
              "      <td>2183673</td>\n",
              "    </tr>\n",
              "    <tr>\n",
              "      <th>2016-06-28</th>\n",
              "      <td>700.00</td>\n",
              "      <td>708.00</td>\n",
              "      <td>698.17</td>\n",
              "      <td>707.95</td>\n",
              "      <td>3676311</td>\n",
              "    </tr>\n",
              "    <tr>\n",
              "      <th>2016-06-27</th>\n",
              "      <td>692.01</td>\n",
              "      <td>696.82</td>\n",
              "      <td>682.12</td>\n",
              "      <td>691.36</td>\n",
              "      <td>4966500</td>\n",
              "    </tr>\n",
              "  </tbody>\n",
              "</table>\n",
              "<p>1258 rows × 5 columns</p>\n",
              "</div>"
            ],
            "text/plain": [
              "              Open    High     Low   Close   Volume\n",
              "Date                                               \n",
              "2021-06-24 3507.64 3524.86 3430.85 3449.08  3831999\n",
              "2021-06-23 3505.00 3521.00 3483.20 3503.82  2813341\n",
              "2021-06-22 3458.06 3523.78 3456.09 3505.44  3345082\n",
              "2021-06-21 3476.42 3482.00 3434.00 3453.96  3277130\n",
              "2021-06-18 3479.99 3507.00 3473.71 3486.90  5247737\n",
              "...            ...     ...     ...     ...      ...\n",
              "2016-07-01  717.32  728.00  716.54  725.62  2583037\n",
              "2016-06-30  717.20  719.37  712.54  715.62  2340528\n",
              "2016-06-29  715.75  719.50  713.54  715.46  2183673\n",
              "2016-06-28  700.00  708.00  698.17  707.95  3676311\n",
              "2016-06-27  692.01  696.82  682.12  691.36  4966500\n",
              "\n",
              "[1258 rows x 5 columns]"
            ]
          },
          "metadata": {
            "tags": []
          },
          "execution_count": 407
        }
      ]
    },
    {
      "cell_type": "code",
      "metadata": {
        "colab": {
          "base_uri": "https://localhost:8080/",
          "height": 235
        },
        "id": "yjiwonj_jE_D",
        "outputId": "a3df60c7-d8e7-4f10-9042-569fbf0cb0b3"
      },
      "source": [
        "df.head() #domyślnie 5 wierszy"
      ],
      "execution_count": 408,
      "outputs": [
        {
          "output_type": "execute_result",
          "data": {
            "text/html": [
              "<div>\n",
              "<style scoped>\n",
              "    .dataframe tbody tr th:only-of-type {\n",
              "        vertical-align: middle;\n",
              "    }\n",
              "\n",
              "    .dataframe tbody tr th {\n",
              "        vertical-align: top;\n",
              "    }\n",
              "\n",
              "    .dataframe thead th {\n",
              "        text-align: right;\n",
              "    }\n",
              "</style>\n",
              "<table border=\"1\" class=\"dataframe\">\n",
              "  <thead>\n",
              "    <tr style=\"text-align: right;\">\n",
              "      <th></th>\n",
              "      <th>Open</th>\n",
              "      <th>High</th>\n",
              "      <th>Low</th>\n",
              "      <th>Close</th>\n",
              "      <th>Volume</th>\n",
              "    </tr>\n",
              "    <tr>\n",
              "      <th>Date</th>\n",
              "      <th></th>\n",
              "      <th></th>\n",
              "      <th></th>\n",
              "      <th></th>\n",
              "      <th></th>\n",
              "    </tr>\n",
              "  </thead>\n",
              "  <tbody>\n",
              "    <tr>\n",
              "      <th>2021-06-24</th>\n",
              "      <td>3507.64</td>\n",
              "      <td>3524.86</td>\n",
              "      <td>3430.85</td>\n",
              "      <td>3449.08</td>\n",
              "      <td>3831999</td>\n",
              "    </tr>\n",
              "    <tr>\n",
              "      <th>2021-06-23</th>\n",
              "      <td>3505.00</td>\n",
              "      <td>3521.00</td>\n",
              "      <td>3483.20</td>\n",
              "      <td>3503.82</td>\n",
              "      <td>2813341</td>\n",
              "    </tr>\n",
              "    <tr>\n",
              "      <th>2021-06-22</th>\n",
              "      <td>3458.06</td>\n",
              "      <td>3523.78</td>\n",
              "      <td>3456.09</td>\n",
              "      <td>3505.44</td>\n",
              "      <td>3345082</td>\n",
              "    </tr>\n",
              "    <tr>\n",
              "      <th>2021-06-21</th>\n",
              "      <td>3476.42</td>\n",
              "      <td>3482.00</td>\n",
              "      <td>3434.00</td>\n",
              "      <td>3453.96</td>\n",
              "      <td>3277130</td>\n",
              "    </tr>\n",
              "    <tr>\n",
              "      <th>2021-06-18</th>\n",
              "      <td>3479.99</td>\n",
              "      <td>3507.00</td>\n",
              "      <td>3473.71</td>\n",
              "      <td>3486.90</td>\n",
              "      <td>5247737</td>\n",
              "    </tr>\n",
              "  </tbody>\n",
              "</table>\n",
              "</div>"
            ],
            "text/plain": [
              "              Open    High     Low   Close   Volume\n",
              "Date                                               \n",
              "2021-06-24 3507.64 3524.86 3430.85 3449.08  3831999\n",
              "2021-06-23 3505.00 3521.00 3483.20 3503.82  2813341\n",
              "2021-06-22 3458.06 3523.78 3456.09 3505.44  3345082\n",
              "2021-06-21 3476.42 3482.00 3434.00 3453.96  3277130\n",
              "2021-06-18 3479.99 3507.00 3473.71 3486.90  5247737"
            ]
          },
          "metadata": {
            "tags": []
          },
          "execution_count": 408
        }
      ]
    },
    {
      "cell_type": "code",
      "metadata": {
        "colab": {
          "base_uri": "https://localhost:8080/",
          "height": 235
        },
        "id": "rkNhbaJQjYUT",
        "outputId": "7b680346-0453-4094-ce3c-03b5c186def4"
      },
      "source": [
        "df.tail() #domyślnie 5 ostatnich wierszy"
      ],
      "execution_count": 409,
      "outputs": [
        {
          "output_type": "execute_result",
          "data": {
            "text/html": [
              "<div>\n",
              "<style scoped>\n",
              "    .dataframe tbody tr th:only-of-type {\n",
              "        vertical-align: middle;\n",
              "    }\n",
              "\n",
              "    .dataframe tbody tr th {\n",
              "        vertical-align: top;\n",
              "    }\n",
              "\n",
              "    .dataframe thead th {\n",
              "        text-align: right;\n",
              "    }\n",
              "</style>\n",
              "<table border=\"1\" class=\"dataframe\">\n",
              "  <thead>\n",
              "    <tr style=\"text-align: right;\">\n",
              "      <th></th>\n",
              "      <th>Open</th>\n",
              "      <th>High</th>\n",
              "      <th>Low</th>\n",
              "      <th>Close</th>\n",
              "      <th>Volume</th>\n",
              "    </tr>\n",
              "    <tr>\n",
              "      <th>Date</th>\n",
              "      <th></th>\n",
              "      <th></th>\n",
              "      <th></th>\n",
              "      <th></th>\n",
              "      <th></th>\n",
              "    </tr>\n",
              "  </thead>\n",
              "  <tbody>\n",
              "    <tr>\n",
              "      <th>2016-07-01</th>\n",
              "      <td>717.32</td>\n",
              "      <td>728.00</td>\n",
              "      <td>716.54</td>\n",
              "      <td>725.62</td>\n",
              "      <td>2583037</td>\n",
              "    </tr>\n",
              "    <tr>\n",
              "      <th>2016-06-30</th>\n",
              "      <td>717.20</td>\n",
              "      <td>719.37</td>\n",
              "      <td>712.54</td>\n",
              "      <td>715.62</td>\n",
              "      <td>2340528</td>\n",
              "    </tr>\n",
              "    <tr>\n",
              "      <th>2016-06-29</th>\n",
              "      <td>715.75</td>\n",
              "      <td>719.50</td>\n",
              "      <td>713.54</td>\n",
              "      <td>715.46</td>\n",
              "      <td>2183673</td>\n",
              "    </tr>\n",
              "    <tr>\n",
              "      <th>2016-06-28</th>\n",
              "      <td>700.00</td>\n",
              "      <td>708.00</td>\n",
              "      <td>698.17</td>\n",
              "      <td>707.95</td>\n",
              "      <td>3676311</td>\n",
              "    </tr>\n",
              "    <tr>\n",
              "      <th>2016-06-27</th>\n",
              "      <td>692.01</td>\n",
              "      <td>696.82</td>\n",
              "      <td>682.12</td>\n",
              "      <td>691.36</td>\n",
              "      <td>4966500</td>\n",
              "    </tr>\n",
              "  </tbody>\n",
              "</table>\n",
              "</div>"
            ],
            "text/plain": [
              "             Open   High    Low  Close   Volume\n",
              "Date                                           \n",
              "2016-07-01 717.32 728.00 716.54 725.62  2583037\n",
              "2016-06-30 717.20 719.37 712.54 715.62  2340528\n",
              "2016-06-29 715.75 719.50 713.54 715.46  2183673\n",
              "2016-06-28 700.00 708.00 698.17 707.95  3676311\n",
              "2016-06-27 692.01 696.82 682.12 691.36  4966500"
            ]
          },
          "metadata": {
            "tags": []
          },
          "execution_count": 409
        }
      ]
    },
    {
      "cell_type": "code",
      "metadata": {
        "colab": {
          "base_uri": "https://localhost:8080/"
        },
        "id": "fnRCFRzMje0T",
        "outputId": "7c295e16-5243-490d-f924-4c75392e5c0d"
      },
      "source": [
        "df.columns"
      ],
      "execution_count": 410,
      "outputs": [
        {
          "output_type": "execute_result",
          "data": {
            "text/plain": [
              "Index(['Open', 'High', 'Low', 'Close', 'Volume'], dtype='object')"
            ]
          },
          "metadata": {
            "tags": []
          },
          "execution_count": 410
        }
      ]
    },
    {
      "cell_type": "code",
      "metadata": {
        "colab": {
          "base_uri": "https://localhost:8080/"
        },
        "id": "7IoBXQzxji5L",
        "outputId": "79b59958-a8bc-4c30-8350-1886a65cae61"
      },
      "source": [
        "df.columns = [col.lower() for col in df.columns]\n",
        "df.columns"
      ],
      "execution_count": 411,
      "outputs": [
        {
          "output_type": "execute_result",
          "data": {
            "text/plain": [
              "Index(['open', 'high', 'low', 'close', 'volume'], dtype='object')"
            ]
          },
          "metadata": {
            "tags": []
          },
          "execution_count": 411
        }
      ]
    },
    {
      "cell_type": "code",
      "metadata": {
        "colab": {
          "base_uri": "https://localhost:8080/",
          "height": 297
        },
        "id": "H1qW3yHqjwFb",
        "outputId": "0e292b1e-358e-458d-fe8b-70f8bed9af28"
      },
      "source": [
        "df.describe()"
      ],
      "execution_count": 412,
      "outputs": [
        {
          "output_type": "execute_result",
          "data": {
            "text/html": [
              "<div>\n",
              "<style scoped>\n",
              "    .dataframe tbody tr th:only-of-type {\n",
              "        vertical-align: middle;\n",
              "    }\n",
              "\n",
              "    .dataframe tbody tr th {\n",
              "        vertical-align: top;\n",
              "    }\n",
              "\n",
              "    .dataframe thead th {\n",
              "        text-align: right;\n",
              "    }\n",
              "</style>\n",
              "<table border=\"1\" class=\"dataframe\">\n",
              "  <thead>\n",
              "    <tr style=\"text-align: right;\">\n",
              "      <th></th>\n",
              "      <th>open</th>\n",
              "      <th>high</th>\n",
              "      <th>low</th>\n",
              "      <th>close</th>\n",
              "      <th>volume</th>\n",
              "    </tr>\n",
              "  </thead>\n",
              "  <tbody>\n",
              "    <tr>\n",
              "      <th>count</th>\n",
              "      <td>1258.00</td>\n",
              "      <td>1258.00</td>\n",
              "      <td>1258.00</td>\n",
              "      <td>1258.00</td>\n",
              "      <td>1258.00</td>\n",
              "    </tr>\n",
              "    <tr>\n",
              "      <th>mean</th>\n",
              "      <td>1808.74</td>\n",
              "      <td>1827.35</td>\n",
              "      <td>1787.60</td>\n",
              "      <td>1808.01</td>\n",
              "      <td>4258536.10</td>\n",
              "    </tr>\n",
              "    <tr>\n",
              "      <th>std</th>\n",
              "      <td>826.55</td>\n",
              "      <td>837.12</td>\n",
              "      <td>814.54</td>\n",
              "      <td>825.40</td>\n",
              "      <td>2099427.89</td>\n",
              "    </tr>\n",
              "    <tr>\n",
              "      <th>min</th>\n",
              "      <td>692.01</td>\n",
              "      <td>696.82</td>\n",
              "      <td>682.12</td>\n",
              "      <td>691.36</td>\n",
              "      <td>881337.00</td>\n",
              "    </tr>\n",
              "    <tr>\n",
              "      <th>25%</th>\n",
              "      <td>1003.06</td>\n",
              "      <td>1008.45</td>\n",
              "      <td>995.73</td>\n",
              "      <td>1001.02</td>\n",
              "      <td>2863111.25</td>\n",
              "    </tr>\n",
              "    <tr>\n",
              "      <th>50%</th>\n",
              "      <td>1744.50</td>\n",
              "      <td>1761.18</td>\n",
              "      <td>1724.40</td>\n",
              "      <td>1742.61</td>\n",
              "      <td>3676808.50</td>\n",
              "    </tr>\n",
              "    <tr>\n",
              "      <th>75%</th>\n",
              "      <td>2043.72</td>\n",
              "      <td>2068.22</td>\n",
              "      <td>2030.20</td>\n",
              "      <td>2050.09</td>\n",
              "      <td>5106140.75</td>\n",
              "    </tr>\n",
              "    <tr>\n",
              "      <th>max</th>\n",
              "      <td>3547.00</td>\n",
              "      <td>3554.00</td>\n",
              "      <td>3486.68</td>\n",
              "      <td>3531.45</td>\n",
              "      <td>16552598.00</td>\n",
              "    </tr>\n",
              "  </tbody>\n",
              "</table>\n",
              "</div>"
            ],
            "text/plain": [
              "         open    high     low   close      volume\n",
              "count 1258.00 1258.00 1258.00 1258.00     1258.00\n",
              "mean  1808.74 1827.35 1787.60 1808.01  4258536.10\n",
              "std    826.55  837.12  814.54  825.40  2099427.89\n",
              "min    692.01  696.82  682.12  691.36   881337.00\n",
              "25%   1003.06 1008.45  995.73 1001.02  2863111.25\n",
              "50%   1744.50 1761.18 1724.40 1742.61  3676808.50\n",
              "75%   2043.72 2068.22 2030.20 2050.09  5106140.75\n",
              "max   3547.00 3554.00 3486.68 3531.45 16552598.00"
            ]
          },
          "metadata": {
            "tags": []
          },
          "execution_count": 412
        }
      ]
    },
    {
      "cell_type": "code",
      "metadata": {
        "colab": {
          "base_uri": "https://localhost:8080/",
          "height": 390
        },
        "id": "PxUwq7dNj6u6",
        "outputId": "3e8dc9ce-61b7-4e60-d548-f3b728f3f73c"
      },
      "source": [
        "df = df.head(10)\n",
        "df"
      ],
      "execution_count": 413,
      "outputs": [
        {
          "output_type": "execute_result",
          "data": {
            "text/html": [
              "<div>\n",
              "<style scoped>\n",
              "    .dataframe tbody tr th:only-of-type {\n",
              "        vertical-align: middle;\n",
              "    }\n",
              "\n",
              "    .dataframe tbody tr th {\n",
              "        vertical-align: top;\n",
              "    }\n",
              "\n",
              "    .dataframe thead th {\n",
              "        text-align: right;\n",
              "    }\n",
              "</style>\n",
              "<table border=\"1\" class=\"dataframe\">\n",
              "  <thead>\n",
              "    <tr style=\"text-align: right;\">\n",
              "      <th></th>\n",
              "      <th>open</th>\n",
              "      <th>high</th>\n",
              "      <th>low</th>\n",
              "      <th>close</th>\n",
              "      <th>volume</th>\n",
              "    </tr>\n",
              "    <tr>\n",
              "      <th>Date</th>\n",
              "      <th></th>\n",
              "      <th></th>\n",
              "      <th></th>\n",
              "      <th></th>\n",
              "      <th></th>\n",
              "    </tr>\n",
              "  </thead>\n",
              "  <tbody>\n",
              "    <tr>\n",
              "      <th>2021-06-24</th>\n",
              "      <td>3507.64</td>\n",
              "      <td>3524.86</td>\n",
              "      <td>3430.85</td>\n",
              "      <td>3449.08</td>\n",
              "      <td>3831999</td>\n",
              "    </tr>\n",
              "    <tr>\n",
              "      <th>2021-06-23</th>\n",
              "      <td>3505.00</td>\n",
              "      <td>3521.00</td>\n",
              "      <td>3483.20</td>\n",
              "      <td>3503.82</td>\n",
              "      <td>2813341</td>\n",
              "    </tr>\n",
              "    <tr>\n",
              "      <th>2021-06-22</th>\n",
              "      <td>3458.06</td>\n",
              "      <td>3523.78</td>\n",
              "      <td>3456.09</td>\n",
              "      <td>3505.44</td>\n",
              "      <td>3345082</td>\n",
              "    </tr>\n",
              "    <tr>\n",
              "      <th>2021-06-21</th>\n",
              "      <td>3476.42</td>\n",
              "      <td>3482.00</td>\n",
              "      <td>3434.00</td>\n",
              "      <td>3453.96</td>\n",
              "      <td>3277130</td>\n",
              "    </tr>\n",
              "    <tr>\n",
              "      <th>2021-06-18</th>\n",
              "      <td>3479.99</td>\n",
              "      <td>3507.00</td>\n",
              "      <td>3473.71</td>\n",
              "      <td>3486.90</td>\n",
              "      <td>5247737</td>\n",
              "    </tr>\n",
              "    <tr>\n",
              "      <th>2021-06-17</th>\n",
              "      <td>3403.18</td>\n",
              "      <td>3497.20</td>\n",
              "      <td>3401.00</td>\n",
              "      <td>3489.24</td>\n",
              "      <td>5136531</td>\n",
              "    </tr>\n",
              "    <tr>\n",
              "      <th>2021-06-16</th>\n",
              "      <td>3392.00</td>\n",
              "      <td>3426.35</td>\n",
              "      <td>3360.53</td>\n",
              "      <td>3415.25</td>\n",
              "      <td>4202782</td>\n",
              "    </tr>\n",
              "    <tr>\n",
              "      <th>2021-06-15</th>\n",
              "      <td>3384.00</td>\n",
              "      <td>3396.99</td>\n",
              "      <td>3363.11</td>\n",
              "      <td>3383.13</td>\n",
              "      <td>2426200</td>\n",
              "    </tr>\n",
              "    <tr>\n",
              "      <th>2021-06-14</th>\n",
              "      <td>3346.83</td>\n",
              "      <td>3385.00</td>\n",
              "      <td>3335.50</td>\n",
              "      <td>3383.87</td>\n",
              "      <td>2569655</td>\n",
              "    </tr>\n",
              "    <tr>\n",
              "      <th>2021-06-11</th>\n",
              "      <td>3349.65</td>\n",
              "      <td>3366.58</td>\n",
              "      <td>3333.45</td>\n",
              "      <td>3346.83</td>\n",
              "      <td>2817352</td>\n",
              "    </tr>\n",
              "  </tbody>\n",
              "</table>\n",
              "</div>"
            ],
            "text/plain": [
              "              open    high     low   close   volume\n",
              "Date                                               \n",
              "2021-06-24 3507.64 3524.86 3430.85 3449.08  3831999\n",
              "2021-06-23 3505.00 3521.00 3483.20 3503.82  2813341\n",
              "2021-06-22 3458.06 3523.78 3456.09 3505.44  3345082\n",
              "2021-06-21 3476.42 3482.00 3434.00 3453.96  3277130\n",
              "2021-06-18 3479.99 3507.00 3473.71 3486.90  5247737\n",
              "2021-06-17 3403.18 3497.20 3401.00 3489.24  5136531\n",
              "2021-06-16 3392.00 3426.35 3360.53 3415.25  4202782\n",
              "2021-06-15 3384.00 3396.99 3363.11 3383.13  2426200\n",
              "2021-06-14 3346.83 3385.00 3335.50 3383.87  2569655\n",
              "2021-06-11 3349.65 3366.58 3333.45 3346.83  2817352"
            ]
          },
          "metadata": {
            "tags": []
          },
          "execution_count": 413
        }
      ]
    },
    {
      "cell_type": "code",
      "metadata": {
        "colab": {
          "base_uri": "https://localhost:8080/",
          "height": 450
        },
        "id": "pGnnTZ6rkPR6",
        "outputId": "4ddc7c70-fe8f-48ac-d30e-cf70b631e0be"
      },
      "source": [
        "df = fetch_financial_data('UBER')\n",
        "df"
      ],
      "execution_count": 414,
      "outputs": [
        {
          "output_type": "execute_result",
          "data": {
            "text/html": [
              "<div>\n",
              "<style scoped>\n",
              "    .dataframe tbody tr th:only-of-type {\n",
              "        vertical-align: middle;\n",
              "    }\n",
              "\n",
              "    .dataframe tbody tr th {\n",
              "        vertical-align: top;\n",
              "    }\n",
              "\n",
              "    .dataframe thead th {\n",
              "        text-align: right;\n",
              "    }\n",
              "</style>\n",
              "<table border=\"1\" class=\"dataframe\">\n",
              "  <thead>\n",
              "    <tr style=\"text-align: right;\">\n",
              "      <th></th>\n",
              "      <th>Open</th>\n",
              "      <th>High</th>\n",
              "      <th>Low</th>\n",
              "      <th>Close</th>\n",
              "      <th>Volume</th>\n",
              "    </tr>\n",
              "    <tr>\n",
              "      <th>Date</th>\n",
              "      <th></th>\n",
              "      <th></th>\n",
              "      <th></th>\n",
              "      <th></th>\n",
              "      <th></th>\n",
              "    </tr>\n",
              "  </thead>\n",
              "  <tbody>\n",
              "    <tr>\n",
              "      <th>2021-06-24</th>\n",
              "      <td>51.30</td>\n",
              "      <td>51.55</td>\n",
              "      <td>50.22</td>\n",
              "      <td>50.82</td>\n",
              "      <td>12403301</td>\n",
              "    </tr>\n",
              "    <tr>\n",
              "      <th>2021-06-23</th>\n",
              "      <td>49.06</td>\n",
              "      <td>50.77</td>\n",
              "      <td>49.01</td>\n",
              "      <td>50.51</td>\n",
              "      <td>19843277</td>\n",
              "    </tr>\n",
              "    <tr>\n",
              "      <th>2021-06-22</th>\n",
              "      <td>48.30</td>\n",
              "      <td>49.34</td>\n",
              "      <td>47.75</td>\n",
              "      <td>49.05</td>\n",
              "      <td>19472455</td>\n",
              "    </tr>\n",
              "    <tr>\n",
              "      <th>2021-06-21</th>\n",
              "      <td>49.72</td>\n",
              "      <td>49.86</td>\n",
              "      <td>47.90</td>\n",
              "      <td>48.12</td>\n",
              "      <td>30752163</td>\n",
              "    </tr>\n",
              "    <tr>\n",
              "      <th>2021-06-18</th>\n",
              "      <td>49.31</td>\n",
              "      <td>50.39</td>\n",
              "      <td>48.77</td>\n",
              "      <td>49.70</td>\n",
              "      <td>20633523</td>\n",
              "    </tr>\n",
              "    <tr>\n",
              "      <th>...</th>\n",
              "      <td>...</td>\n",
              "      <td>...</td>\n",
              "      <td>...</td>\n",
              "      <td>...</td>\n",
              "      <td>...</td>\n",
              "    </tr>\n",
              "    <tr>\n",
              "      <th>2019-05-16</th>\n",
              "      <td>41.48</td>\n",
              "      <td>44.06</td>\n",
              "      <td>41.25</td>\n",
              "      <td>43.00</td>\n",
              "      <td>38115524</td>\n",
              "    </tr>\n",
              "    <tr>\n",
              "      <th>2019-05-15</th>\n",
              "      <td>39.37</td>\n",
              "      <td>41.88</td>\n",
              "      <td>38.95</td>\n",
              "      <td>41.29</td>\n",
              "      <td>36086065</td>\n",
              "    </tr>\n",
              "    <tr>\n",
              "      <th>2019-05-14</th>\n",
              "      <td>38.31</td>\n",
              "      <td>39.96</td>\n",
              "      <td>36.85</td>\n",
              "      <td>39.96</td>\n",
              "      <td>46661147</td>\n",
              "    </tr>\n",
              "    <tr>\n",
              "      <th>2019-05-13</th>\n",
              "      <td>38.79</td>\n",
              "      <td>39.24</td>\n",
              "      <td>36.08</td>\n",
              "      <td>37.10</td>\n",
              "      <td>79442420</td>\n",
              "    </tr>\n",
              "    <tr>\n",
              "      <th>2019-05-10</th>\n",
              "      <td>42.00</td>\n",
              "      <td>45.00</td>\n",
              "      <td>41.06</td>\n",
              "      <td>41.57</td>\n",
              "      <td>186322536</td>\n",
              "    </tr>\n",
              "  </tbody>\n",
              "</table>\n",
              "<p>536 rows × 5 columns</p>\n",
              "</div>"
            ],
            "text/plain": [
              "            Open  High   Low  Close     Volume\n",
              "Date                                          \n",
              "2021-06-24 51.30 51.55 50.22  50.82   12403301\n",
              "2021-06-23 49.06 50.77 49.01  50.51   19843277\n",
              "2021-06-22 48.30 49.34 47.75  49.05   19472455\n",
              "2021-06-21 49.72 49.86 47.90  48.12   30752163\n",
              "2021-06-18 49.31 50.39 48.77  49.70   20633523\n",
              "...          ...   ...   ...    ...        ...\n",
              "2019-05-16 41.48 44.06 41.25  43.00   38115524\n",
              "2019-05-15 39.37 41.88 38.95  41.29   36086065\n",
              "2019-05-14 38.31 39.96 36.85  39.96   46661147\n",
              "2019-05-13 38.79 39.24 36.08  37.10   79442420\n",
              "2019-05-10 42.00 45.00 41.06  41.57  186322536\n",
              "\n",
              "[536 rows x 5 columns]"
            ]
          },
          "metadata": {
            "tags": []
          },
          "execution_count": 414
        }
      ]
    },
    {
      "cell_type": "code",
      "metadata": {
        "colab": {
          "base_uri": "https://localhost:8080/"
        },
        "id": "P3Ct-fjOkUlr",
        "outputId": "df6c83ef-c54a-4719-c703-25a01c2ab03e"
      },
      "source": [
        "df.info()"
      ],
      "execution_count": 415,
      "outputs": [
        {
          "output_type": "stream",
          "text": [
            "<class 'pandas.core.frame.DataFrame'>\n",
            "DatetimeIndex: 536 entries, 2021-06-24 to 2019-05-10\n",
            "Data columns (total 5 columns):\n",
            " #   Column  Non-Null Count  Dtype  \n",
            "---  ------  --------------  -----  \n",
            " 0   Open    536 non-null    float64\n",
            " 1   High    536 non-null    float64\n",
            " 2   Low     536 non-null    float64\n",
            " 3   Close   536 non-null    float64\n",
            " 4   Volume  536 non-null    int64  \n",
            "dtypes: float64(4), int64(1)\n",
            "memory usage: 25.1 KB\n"
          ],
          "name": "stdout"
        }
      ]
    },
    {
      "cell_type": "code",
      "metadata": {
        "colab": {
          "base_uri": "https://localhost:8080/",
          "height": 235
        },
        "id": "6aI_2QwrlxkK",
        "outputId": "11e4fdef-e7ff-457e-f8f4-80fda6be9162"
      },
      "source": [
        "df['Average'] = (df.Open + df.Close) / 2.0\n",
        "df.head()"
      ],
      "execution_count": 416,
      "outputs": [
        {
          "output_type": "execute_result",
          "data": {
            "text/html": [
              "<div>\n",
              "<style scoped>\n",
              "    .dataframe tbody tr th:only-of-type {\n",
              "        vertical-align: middle;\n",
              "    }\n",
              "\n",
              "    .dataframe tbody tr th {\n",
              "        vertical-align: top;\n",
              "    }\n",
              "\n",
              "    .dataframe thead th {\n",
              "        text-align: right;\n",
              "    }\n",
              "</style>\n",
              "<table border=\"1\" class=\"dataframe\">\n",
              "  <thead>\n",
              "    <tr style=\"text-align: right;\">\n",
              "      <th></th>\n",
              "      <th>Open</th>\n",
              "      <th>High</th>\n",
              "      <th>Low</th>\n",
              "      <th>Close</th>\n",
              "      <th>Volume</th>\n",
              "      <th>Average</th>\n",
              "    </tr>\n",
              "    <tr>\n",
              "      <th>Date</th>\n",
              "      <th></th>\n",
              "      <th></th>\n",
              "      <th></th>\n",
              "      <th></th>\n",
              "      <th></th>\n",
              "      <th></th>\n",
              "    </tr>\n",
              "  </thead>\n",
              "  <tbody>\n",
              "    <tr>\n",
              "      <th>2021-06-24</th>\n",
              "      <td>51.30</td>\n",
              "      <td>51.55</td>\n",
              "      <td>50.22</td>\n",
              "      <td>50.82</td>\n",
              "      <td>12403301</td>\n",
              "      <td>51.06</td>\n",
              "    </tr>\n",
              "    <tr>\n",
              "      <th>2021-06-23</th>\n",
              "      <td>49.06</td>\n",
              "      <td>50.77</td>\n",
              "      <td>49.01</td>\n",
              "      <td>50.51</td>\n",
              "      <td>19843277</td>\n",
              "      <td>49.78</td>\n",
              "    </tr>\n",
              "    <tr>\n",
              "      <th>2021-06-22</th>\n",
              "      <td>48.30</td>\n",
              "      <td>49.34</td>\n",
              "      <td>47.75</td>\n",
              "      <td>49.05</td>\n",
              "      <td>19472455</td>\n",
              "      <td>48.67</td>\n",
              "    </tr>\n",
              "    <tr>\n",
              "      <th>2021-06-21</th>\n",
              "      <td>49.72</td>\n",
              "      <td>49.86</td>\n",
              "      <td>47.90</td>\n",
              "      <td>48.12</td>\n",
              "      <td>30752163</td>\n",
              "      <td>48.92</td>\n",
              "    </tr>\n",
              "    <tr>\n",
              "      <th>2021-06-18</th>\n",
              "      <td>49.31</td>\n",
              "      <td>50.39</td>\n",
              "      <td>48.77</td>\n",
              "      <td>49.70</td>\n",
              "      <td>20633523</td>\n",
              "      <td>49.51</td>\n",
              "    </tr>\n",
              "  </tbody>\n",
              "</table>\n",
              "</div>"
            ],
            "text/plain": [
              "            Open  High   Low  Close    Volume  Average\n",
              "Date                                                  \n",
              "2021-06-24 51.30 51.55 50.22  50.82  12403301    51.06\n",
              "2021-06-23 49.06 50.77 49.01  50.51  19843277    49.78\n",
              "2021-06-22 48.30 49.34 47.75  49.05  19472455    48.67\n",
              "2021-06-21 49.72 49.86 47.90  48.12  30752163    48.92\n",
              "2021-06-18 49.31 50.39 48.77  49.70  20633523    49.51"
            ]
          },
          "metadata": {
            "tags": []
          },
          "execution_count": 416
        }
      ]
    },
    {
      "cell_type": "code",
      "metadata": {
        "colab": {
          "base_uri": "https://localhost:8080/",
          "height": 450
        },
        "id": "xtf5vlFkmDey",
        "outputId": "5ce4bb57-78cd-4b9e-f10e-3ffba08eb7b3"
      },
      "source": [
        "df = df.sort_index()\n",
        "df"
      ],
      "execution_count": 417,
      "outputs": [
        {
          "output_type": "execute_result",
          "data": {
            "text/html": [
              "<div>\n",
              "<style scoped>\n",
              "    .dataframe tbody tr th:only-of-type {\n",
              "        vertical-align: middle;\n",
              "    }\n",
              "\n",
              "    .dataframe tbody tr th {\n",
              "        vertical-align: top;\n",
              "    }\n",
              "\n",
              "    .dataframe thead th {\n",
              "        text-align: right;\n",
              "    }\n",
              "</style>\n",
              "<table border=\"1\" class=\"dataframe\">\n",
              "  <thead>\n",
              "    <tr style=\"text-align: right;\">\n",
              "      <th></th>\n",
              "      <th>Open</th>\n",
              "      <th>High</th>\n",
              "      <th>Low</th>\n",
              "      <th>Close</th>\n",
              "      <th>Volume</th>\n",
              "      <th>Average</th>\n",
              "    </tr>\n",
              "    <tr>\n",
              "      <th>Date</th>\n",
              "      <th></th>\n",
              "      <th></th>\n",
              "      <th></th>\n",
              "      <th></th>\n",
              "      <th></th>\n",
              "      <th></th>\n",
              "    </tr>\n",
              "  </thead>\n",
              "  <tbody>\n",
              "    <tr>\n",
              "      <th>2019-05-10</th>\n",
              "      <td>42.00</td>\n",
              "      <td>45.00</td>\n",
              "      <td>41.06</td>\n",
              "      <td>41.57</td>\n",
              "      <td>186322536</td>\n",
              "      <td>41.78</td>\n",
              "    </tr>\n",
              "    <tr>\n",
              "      <th>2019-05-13</th>\n",
              "      <td>38.79</td>\n",
              "      <td>39.24</td>\n",
              "      <td>36.08</td>\n",
              "      <td>37.10</td>\n",
              "      <td>79442420</td>\n",
              "      <td>37.95</td>\n",
              "    </tr>\n",
              "    <tr>\n",
              "      <th>2019-05-14</th>\n",
              "      <td>38.31</td>\n",
              "      <td>39.96</td>\n",
              "      <td>36.85</td>\n",
              "      <td>39.96</td>\n",
              "      <td>46661147</td>\n",
              "      <td>39.14</td>\n",
              "    </tr>\n",
              "    <tr>\n",
              "      <th>2019-05-15</th>\n",
              "      <td>39.37</td>\n",
              "      <td>41.88</td>\n",
              "      <td>38.95</td>\n",
              "      <td>41.29</td>\n",
              "      <td>36086065</td>\n",
              "      <td>40.33</td>\n",
              "    </tr>\n",
              "    <tr>\n",
              "      <th>2019-05-16</th>\n",
              "      <td>41.48</td>\n",
              "      <td>44.06</td>\n",
              "      <td>41.25</td>\n",
              "      <td>43.00</td>\n",
              "      <td>38115524</td>\n",
              "      <td>42.24</td>\n",
              "    </tr>\n",
              "    <tr>\n",
              "      <th>...</th>\n",
              "      <td>...</td>\n",
              "      <td>...</td>\n",
              "      <td>...</td>\n",
              "      <td>...</td>\n",
              "      <td>...</td>\n",
              "      <td>...</td>\n",
              "    </tr>\n",
              "    <tr>\n",
              "      <th>2021-06-18</th>\n",
              "      <td>49.31</td>\n",
              "      <td>50.39</td>\n",
              "      <td>48.77</td>\n",
              "      <td>49.70</td>\n",
              "      <td>20633523</td>\n",
              "      <td>49.51</td>\n",
              "    </tr>\n",
              "    <tr>\n",
              "      <th>2021-06-21</th>\n",
              "      <td>49.72</td>\n",
              "      <td>49.86</td>\n",
              "      <td>47.90</td>\n",
              "      <td>48.12</td>\n",
              "      <td>30752163</td>\n",
              "      <td>48.92</td>\n",
              "    </tr>\n",
              "    <tr>\n",
              "      <th>2021-06-22</th>\n",
              "      <td>48.30</td>\n",
              "      <td>49.34</td>\n",
              "      <td>47.75</td>\n",
              "      <td>49.05</td>\n",
              "      <td>19472455</td>\n",
              "      <td>48.67</td>\n",
              "    </tr>\n",
              "    <tr>\n",
              "      <th>2021-06-23</th>\n",
              "      <td>49.06</td>\n",
              "      <td>50.77</td>\n",
              "      <td>49.01</td>\n",
              "      <td>50.51</td>\n",
              "      <td>19843277</td>\n",
              "      <td>49.78</td>\n",
              "    </tr>\n",
              "    <tr>\n",
              "      <th>2021-06-24</th>\n",
              "      <td>51.30</td>\n",
              "      <td>51.55</td>\n",
              "      <td>50.22</td>\n",
              "      <td>50.82</td>\n",
              "      <td>12403301</td>\n",
              "      <td>51.06</td>\n",
              "    </tr>\n",
              "  </tbody>\n",
              "</table>\n",
              "<p>536 rows × 6 columns</p>\n",
              "</div>"
            ],
            "text/plain": [
              "            Open  High   Low  Close     Volume  Average\n",
              "Date                                                   \n",
              "2019-05-10 42.00 45.00 41.06  41.57  186322536    41.78\n",
              "2019-05-13 38.79 39.24 36.08  37.10   79442420    37.95\n",
              "2019-05-14 38.31 39.96 36.85  39.96   46661147    39.14\n",
              "2019-05-15 39.37 41.88 38.95  41.29   36086065    40.33\n",
              "2019-05-16 41.48 44.06 41.25  43.00   38115524    42.24\n",
              "...          ...   ...   ...    ...        ...      ...\n",
              "2021-06-18 49.31 50.39 48.77  49.70   20633523    49.51\n",
              "2021-06-21 49.72 49.86 47.90  48.12   30752163    48.92\n",
              "2021-06-22 48.30 49.34 47.75  49.05   19472455    48.67\n",
              "2021-06-23 49.06 50.77 49.01  50.51   19843277    49.78\n",
              "2021-06-24 51.30 51.55 50.22  50.82   12403301    51.06\n",
              "\n",
              "[536 rows x 6 columns]"
            ]
          },
          "metadata": {
            "tags": []
          },
          "execution_count": 417
        }
      ]
    },
    {
      "cell_type": "code",
      "metadata": {
        "colab": {
          "base_uri": "https://localhost:8080/"
        },
        "id": "_aJnuJZfmOmL",
        "outputId": "4f113f21-d3e8-4432-8eae-cb6e3161f933"
      },
      "source": [
        "df.Close.shift(1)"
      ],
      "execution_count": 418,
      "outputs": [
        {
          "output_type": "execute_result",
          "data": {
            "text/plain": [
              "Date\n",
              "2019-05-10     nan\n",
              "2019-05-13   41.57\n",
              "2019-05-14   37.10\n",
              "2019-05-15   39.96\n",
              "2019-05-16   41.29\n",
              "              ... \n",
              "2021-06-18   49.70\n",
              "2021-06-21   49.70\n",
              "2021-06-22   48.12\n",
              "2021-06-23   49.05\n",
              "2021-06-24   50.51\n",
              "Name: Close, Length: 536, dtype: float64"
            ]
          },
          "metadata": {
            "tags": []
          },
          "execution_count": 418
        }
      ]
    },
    {
      "cell_type": "code",
      "metadata": {
        "id": "XVzMmMZ_mcYr"
      },
      "source": [
        "df['Close_shift'] = df.Close.shift(1)"
      ],
      "execution_count": 419,
      "outputs": []
    },
    {
      "cell_type": "code",
      "metadata": {
        "colab": {
          "base_uri": "https://localhost:8080/",
          "height": 450
        },
        "id": "WZoLvuQZmpO7",
        "outputId": "b8c3dea5-0445-4d25-ed16-16d976b478bb"
      },
      "source": [
        "df"
      ],
      "execution_count": 420,
      "outputs": [
        {
          "output_type": "execute_result",
          "data": {
            "text/html": [
              "<div>\n",
              "<style scoped>\n",
              "    .dataframe tbody tr th:only-of-type {\n",
              "        vertical-align: middle;\n",
              "    }\n",
              "\n",
              "    .dataframe tbody tr th {\n",
              "        vertical-align: top;\n",
              "    }\n",
              "\n",
              "    .dataframe thead th {\n",
              "        text-align: right;\n",
              "    }\n",
              "</style>\n",
              "<table border=\"1\" class=\"dataframe\">\n",
              "  <thead>\n",
              "    <tr style=\"text-align: right;\">\n",
              "      <th></th>\n",
              "      <th>Open</th>\n",
              "      <th>High</th>\n",
              "      <th>Low</th>\n",
              "      <th>Close</th>\n",
              "      <th>Volume</th>\n",
              "      <th>Average</th>\n",
              "      <th>Close_shift</th>\n",
              "    </tr>\n",
              "    <tr>\n",
              "      <th>Date</th>\n",
              "      <th></th>\n",
              "      <th></th>\n",
              "      <th></th>\n",
              "      <th></th>\n",
              "      <th></th>\n",
              "      <th></th>\n",
              "      <th></th>\n",
              "    </tr>\n",
              "  </thead>\n",
              "  <tbody>\n",
              "    <tr>\n",
              "      <th>2019-05-10</th>\n",
              "      <td>42.00</td>\n",
              "      <td>45.00</td>\n",
              "      <td>41.06</td>\n",
              "      <td>41.57</td>\n",
              "      <td>186322536</td>\n",
              "      <td>41.78</td>\n",
              "      <td>nan</td>\n",
              "    </tr>\n",
              "    <tr>\n",
              "      <th>2019-05-13</th>\n",
              "      <td>38.79</td>\n",
              "      <td>39.24</td>\n",
              "      <td>36.08</td>\n",
              "      <td>37.10</td>\n",
              "      <td>79442420</td>\n",
              "      <td>37.95</td>\n",
              "      <td>41.57</td>\n",
              "    </tr>\n",
              "    <tr>\n",
              "      <th>2019-05-14</th>\n",
              "      <td>38.31</td>\n",
              "      <td>39.96</td>\n",
              "      <td>36.85</td>\n",
              "      <td>39.96</td>\n",
              "      <td>46661147</td>\n",
              "      <td>39.14</td>\n",
              "      <td>37.10</td>\n",
              "    </tr>\n",
              "    <tr>\n",
              "      <th>2019-05-15</th>\n",
              "      <td>39.37</td>\n",
              "      <td>41.88</td>\n",
              "      <td>38.95</td>\n",
              "      <td>41.29</td>\n",
              "      <td>36086065</td>\n",
              "      <td>40.33</td>\n",
              "      <td>39.96</td>\n",
              "    </tr>\n",
              "    <tr>\n",
              "      <th>2019-05-16</th>\n",
              "      <td>41.48</td>\n",
              "      <td>44.06</td>\n",
              "      <td>41.25</td>\n",
              "      <td>43.00</td>\n",
              "      <td>38115524</td>\n",
              "      <td>42.24</td>\n",
              "      <td>41.29</td>\n",
              "    </tr>\n",
              "    <tr>\n",
              "      <th>...</th>\n",
              "      <td>...</td>\n",
              "      <td>...</td>\n",
              "      <td>...</td>\n",
              "      <td>...</td>\n",
              "      <td>...</td>\n",
              "      <td>...</td>\n",
              "      <td>...</td>\n",
              "    </tr>\n",
              "    <tr>\n",
              "      <th>2021-06-18</th>\n",
              "      <td>49.31</td>\n",
              "      <td>50.39</td>\n",
              "      <td>48.77</td>\n",
              "      <td>49.70</td>\n",
              "      <td>20633523</td>\n",
              "      <td>49.51</td>\n",
              "      <td>49.70</td>\n",
              "    </tr>\n",
              "    <tr>\n",
              "      <th>2021-06-21</th>\n",
              "      <td>49.72</td>\n",
              "      <td>49.86</td>\n",
              "      <td>47.90</td>\n",
              "      <td>48.12</td>\n",
              "      <td>30752163</td>\n",
              "      <td>48.92</td>\n",
              "      <td>49.70</td>\n",
              "    </tr>\n",
              "    <tr>\n",
              "      <th>2021-06-22</th>\n",
              "      <td>48.30</td>\n",
              "      <td>49.34</td>\n",
              "      <td>47.75</td>\n",
              "      <td>49.05</td>\n",
              "      <td>19472455</td>\n",
              "      <td>48.67</td>\n",
              "      <td>48.12</td>\n",
              "    </tr>\n",
              "    <tr>\n",
              "      <th>2021-06-23</th>\n",
              "      <td>49.06</td>\n",
              "      <td>50.77</td>\n",
              "      <td>49.01</td>\n",
              "      <td>50.51</td>\n",
              "      <td>19843277</td>\n",
              "      <td>49.78</td>\n",
              "      <td>49.05</td>\n",
              "    </tr>\n",
              "    <tr>\n",
              "      <th>2021-06-24</th>\n",
              "      <td>51.30</td>\n",
              "      <td>51.55</td>\n",
              "      <td>50.22</td>\n",
              "      <td>50.82</td>\n",
              "      <td>12403301</td>\n",
              "      <td>51.06</td>\n",
              "      <td>50.51</td>\n",
              "    </tr>\n",
              "  </tbody>\n",
              "</table>\n",
              "<p>536 rows × 7 columns</p>\n",
              "</div>"
            ],
            "text/plain": [
              "            Open  High   Low  Close     Volume  Average  Close_shift\n",
              "Date                                                                \n",
              "2019-05-10 42.00 45.00 41.06  41.57  186322536    41.78          nan\n",
              "2019-05-13 38.79 39.24 36.08  37.10   79442420    37.95        41.57\n",
              "2019-05-14 38.31 39.96 36.85  39.96   46661147    39.14        37.10\n",
              "2019-05-15 39.37 41.88 38.95  41.29   36086065    40.33        39.96\n",
              "2019-05-16 41.48 44.06 41.25  43.00   38115524    42.24        41.29\n",
              "...          ...   ...   ...    ...        ...      ...          ...\n",
              "2021-06-18 49.31 50.39 48.77  49.70   20633523    49.51        49.70\n",
              "2021-06-21 49.72 49.86 47.90  48.12   30752163    48.92        49.70\n",
              "2021-06-22 48.30 49.34 47.75  49.05   19472455    48.67        48.12\n",
              "2021-06-23 49.06 50.77 49.01  50.51   19843277    49.78        49.05\n",
              "2021-06-24 51.30 51.55 50.22  50.82   12403301    51.06        50.51\n",
              "\n",
              "[536 rows x 7 columns]"
            ]
          },
          "metadata": {
            "tags": []
          },
          "execution_count": 420
        }
      ]
    },
    {
      "cell_type": "code",
      "metadata": {
        "colab": {
          "base_uri": "https://localhost:8080/",
          "height": 450
        },
        "id": "ReBVVBwUmpqb",
        "outputId": "6a8a255f-102f-43d3-a4f7-b4a3ed9ad6e3"
      },
      "source": [
        "df['Daily_Change'] = df.Close / df.Close_shift - 1\n",
        "df"
      ],
      "execution_count": 421,
      "outputs": [
        {
          "output_type": "execute_result",
          "data": {
            "text/html": [
              "<div>\n",
              "<style scoped>\n",
              "    .dataframe tbody tr th:only-of-type {\n",
              "        vertical-align: middle;\n",
              "    }\n",
              "\n",
              "    .dataframe tbody tr th {\n",
              "        vertical-align: top;\n",
              "    }\n",
              "\n",
              "    .dataframe thead th {\n",
              "        text-align: right;\n",
              "    }\n",
              "</style>\n",
              "<table border=\"1\" class=\"dataframe\">\n",
              "  <thead>\n",
              "    <tr style=\"text-align: right;\">\n",
              "      <th></th>\n",
              "      <th>Open</th>\n",
              "      <th>High</th>\n",
              "      <th>Low</th>\n",
              "      <th>Close</th>\n",
              "      <th>Volume</th>\n",
              "      <th>Average</th>\n",
              "      <th>Close_shift</th>\n",
              "      <th>Daily_Change</th>\n",
              "    </tr>\n",
              "    <tr>\n",
              "      <th>Date</th>\n",
              "      <th></th>\n",
              "      <th></th>\n",
              "      <th></th>\n",
              "      <th></th>\n",
              "      <th></th>\n",
              "      <th></th>\n",
              "      <th></th>\n",
              "      <th></th>\n",
              "    </tr>\n",
              "  </thead>\n",
              "  <tbody>\n",
              "    <tr>\n",
              "      <th>2019-05-10</th>\n",
              "      <td>42.00</td>\n",
              "      <td>45.00</td>\n",
              "      <td>41.06</td>\n",
              "      <td>41.57</td>\n",
              "      <td>186322536</td>\n",
              "      <td>41.78</td>\n",
              "      <td>nan</td>\n",
              "      <td>nan</td>\n",
              "    </tr>\n",
              "    <tr>\n",
              "      <th>2019-05-13</th>\n",
              "      <td>38.79</td>\n",
              "      <td>39.24</td>\n",
              "      <td>36.08</td>\n",
              "      <td>37.10</td>\n",
              "      <td>79442420</td>\n",
              "      <td>37.95</td>\n",
              "      <td>41.57</td>\n",
              "      <td>-0.11</td>\n",
              "    </tr>\n",
              "    <tr>\n",
              "      <th>2019-05-14</th>\n",
              "      <td>38.31</td>\n",
              "      <td>39.96</td>\n",
              "      <td>36.85</td>\n",
              "      <td>39.96</td>\n",
              "      <td>46661147</td>\n",
              "      <td>39.14</td>\n",
              "      <td>37.10</td>\n",
              "      <td>0.08</td>\n",
              "    </tr>\n",
              "    <tr>\n",
              "      <th>2019-05-15</th>\n",
              "      <td>39.37</td>\n",
              "      <td>41.88</td>\n",
              "      <td>38.95</td>\n",
              "      <td>41.29</td>\n",
              "      <td>36086065</td>\n",
              "      <td>40.33</td>\n",
              "      <td>39.96</td>\n",
              "      <td>0.03</td>\n",
              "    </tr>\n",
              "    <tr>\n",
              "      <th>2019-05-16</th>\n",
              "      <td>41.48</td>\n",
              "      <td>44.06</td>\n",
              "      <td>41.25</td>\n",
              "      <td>43.00</td>\n",
              "      <td>38115524</td>\n",
              "      <td>42.24</td>\n",
              "      <td>41.29</td>\n",
              "      <td>0.04</td>\n",
              "    </tr>\n",
              "    <tr>\n",
              "      <th>...</th>\n",
              "      <td>...</td>\n",
              "      <td>...</td>\n",
              "      <td>...</td>\n",
              "      <td>...</td>\n",
              "      <td>...</td>\n",
              "      <td>...</td>\n",
              "      <td>...</td>\n",
              "      <td>...</td>\n",
              "    </tr>\n",
              "    <tr>\n",
              "      <th>2021-06-18</th>\n",
              "      <td>49.31</td>\n",
              "      <td>50.39</td>\n",
              "      <td>48.77</td>\n",
              "      <td>49.70</td>\n",
              "      <td>20633523</td>\n",
              "      <td>49.51</td>\n",
              "      <td>49.70</td>\n",
              "      <td>0.00</td>\n",
              "    </tr>\n",
              "    <tr>\n",
              "      <th>2021-06-21</th>\n",
              "      <td>49.72</td>\n",
              "      <td>49.86</td>\n",
              "      <td>47.90</td>\n",
              "      <td>48.12</td>\n",
              "      <td>30752163</td>\n",
              "      <td>48.92</td>\n",
              "      <td>49.70</td>\n",
              "      <td>-0.03</td>\n",
              "    </tr>\n",
              "    <tr>\n",
              "      <th>2021-06-22</th>\n",
              "      <td>48.30</td>\n",
              "      <td>49.34</td>\n",
              "      <td>47.75</td>\n",
              "      <td>49.05</td>\n",
              "      <td>19472455</td>\n",
              "      <td>48.67</td>\n",
              "      <td>48.12</td>\n",
              "      <td>0.02</td>\n",
              "    </tr>\n",
              "    <tr>\n",
              "      <th>2021-06-23</th>\n",
              "      <td>49.06</td>\n",
              "      <td>50.77</td>\n",
              "      <td>49.01</td>\n",
              "      <td>50.51</td>\n",
              "      <td>19843277</td>\n",
              "      <td>49.78</td>\n",
              "      <td>49.05</td>\n",
              "      <td>0.03</td>\n",
              "    </tr>\n",
              "    <tr>\n",
              "      <th>2021-06-24</th>\n",
              "      <td>51.30</td>\n",
              "      <td>51.55</td>\n",
              "      <td>50.22</td>\n",
              "      <td>50.82</td>\n",
              "      <td>12403301</td>\n",
              "      <td>51.06</td>\n",
              "      <td>50.51</td>\n",
              "      <td>0.01</td>\n",
              "    </tr>\n",
              "  </tbody>\n",
              "</table>\n",
              "<p>536 rows × 8 columns</p>\n",
              "</div>"
            ],
            "text/plain": [
              "            Open  High   Low  ...  Average  Close_shift  Daily_Change\n",
              "Date                          ...                                    \n",
              "2019-05-10 42.00 45.00 41.06  ...    41.78          nan           nan\n",
              "2019-05-13 38.79 39.24 36.08  ...    37.95        41.57         -0.11\n",
              "2019-05-14 38.31 39.96 36.85  ...    39.14        37.10          0.08\n",
              "2019-05-15 39.37 41.88 38.95  ...    40.33        39.96          0.03\n",
              "2019-05-16 41.48 44.06 41.25  ...    42.24        41.29          0.04\n",
              "...          ...   ...   ...  ...      ...          ...           ...\n",
              "2021-06-18 49.31 50.39 48.77  ...    49.51        49.70          0.00\n",
              "2021-06-21 49.72 49.86 47.90  ...    48.92        49.70         -0.03\n",
              "2021-06-22 48.30 49.34 47.75  ...    48.67        48.12          0.02\n",
              "2021-06-23 49.06 50.77 49.01  ...    49.78        49.05          0.03\n",
              "2021-06-24 51.30 51.55 50.22  ...    51.06        50.51          0.01\n",
              "\n",
              "[536 rows x 8 columns]"
            ]
          },
          "metadata": {
            "tags": []
          },
          "execution_count": 421
        }
      ]
    },
    {
      "cell_type": "code",
      "metadata": {
        "colab": {
          "base_uri": "https://localhost:8080/"
        },
        "id": "mNSbiW2Fmx5r",
        "outputId": "d17bda58-5333-45f0-bdae-19a5673628a4"
      },
      "source": [
        "df.Daily_Change.min()"
      ],
      "execution_count": 422,
      "outputs": [
        {
          "output_type": "execute_result",
          "data": {
            "text/plain": [
              "-0.21628767847699626"
            ]
          },
          "metadata": {
            "tags": []
          },
          "execution_count": 422
        }
      ]
    },
    {
      "cell_type": "code",
      "metadata": {
        "colab": {
          "base_uri": "https://localhost:8080/"
        },
        "id": "VANUOLY-nDtv",
        "outputId": "56a206fb-45f3-4c63-d454-6f20e9a225de"
      },
      "source": [
        "df.Daily_Change.max()"
      ],
      "execution_count": 423,
      "outputs": [
        {
          "output_type": "execute_result",
          "data": {
            "text/plain": [
              "0.3825910931174088"
            ]
          },
          "metadata": {
            "tags": []
          },
          "execution_count": 423
        }
      ]
    },
    {
      "cell_type": "code",
      "metadata": {
        "colab": {
          "base_uri": "https://localhost:8080/",
          "height": 285
        },
        "id": "K_YHNexFnMTk",
        "outputId": "8315dbbd-fb7e-43b3-bd1c-9c6490d5ba19"
      },
      "source": [
        "import seaborn as sns\n",
        "sns.set()\n",
        "\n",
        "df.Daily_Change.hist(bins=100)"
      ],
      "execution_count": 424,
      "outputs": [
        {
          "output_type": "execute_result",
          "data": {
            "text/plain": [
              "<matplotlib.axes._subplots.AxesSubplot at 0x7f1db3752610>"
            ]
          },
          "metadata": {
            "tags": []
          },
          "execution_count": 424
        },
        {
          "output_type": "display_data",
          "data": {
            "image/png": "[encoded data removed]",
            "text/plain": [
              "<Figure size 432x288 with 1 Axes>"
            ]
          },
          "metadata": {
            "tags": []
          }
        }
      ]
    },
    {
      "cell_type": "code",
      "metadata": {
        "colab": {
          "base_uri": "https://localhost:8080/",
          "height": 302
        },
        "id": "yXAPsxNUnQjE",
        "outputId": "dd934341-1772-4c83-c80e-9a38bb6400f9"
      },
      "source": [
        "df.Close.plot()"
      ],
      "execution_count": 425,
      "outputs": [
        {
          "output_type": "execute_result",
          "data": {
            "text/plain": [
              "<matplotlib.axes._subplots.AxesSubplot at 0x7f1db3564290>"
            ]
          },
          "metadata": {
            "tags": []
          },
          "execution_count": 425
        },
        {
          "output_type": "display_data",
          "data": {
            "image/png": "[encoded data removed]",
            "text/plain": [
              "<Figure size 432x288 with 1 Axes>"
            ]
          },
          "metadata": {
            "tags": []
          }
        }
      ]
    },
    {
      "cell_type": "code",
      "metadata": {
        "colab": {
          "base_uri": "https://localhost:8080/",
          "height": 235
        },
        "id": "ob6tD8NbnZD0",
        "outputId": "181aa557-7a2b-4af4-dfdc-09b6413b3b9a"
      },
      "source": [
        "df.head()"
      ],
      "execution_count": 426,
      "outputs": [
        {
          "output_type": "execute_result",
          "data": {
            "text/html": [
              "<div>\n",
              "<style scoped>\n",
              "    .dataframe tbody tr th:only-of-type {\n",
              "        vertical-align: middle;\n",
              "    }\n",
              "\n",
              "    .dataframe tbody tr th {\n",
              "        vertical-align: top;\n",
              "    }\n",
              "\n",
              "    .dataframe thead th {\n",
              "        text-align: right;\n",
              "    }\n",
              "</style>\n",
              "<table border=\"1\" class=\"dataframe\">\n",
              "  <thead>\n",
              "    <tr style=\"text-align: right;\">\n",
              "      <th></th>\n",
              "      <th>Open</th>\n",
              "      <th>High</th>\n",
              "      <th>Low</th>\n",
              "      <th>Close</th>\n",
              "      <th>Volume</th>\n",
              "      <th>Average</th>\n",
              "      <th>Close_shift</th>\n",
              "      <th>Daily_Change</th>\n",
              "    </tr>\n",
              "    <tr>\n",
              "      <th>Date</th>\n",
              "      <th></th>\n",
              "      <th></th>\n",
              "      <th></th>\n",
              "      <th></th>\n",
              "      <th></th>\n",
              "      <th></th>\n",
              "      <th></th>\n",
              "      <th></th>\n",
              "    </tr>\n",
              "  </thead>\n",
              "  <tbody>\n",
              "    <tr>\n",
              "      <th>2019-05-10</th>\n",
              "      <td>42.00</td>\n",
              "      <td>45.00</td>\n",
              "      <td>41.06</td>\n",
              "      <td>41.57</td>\n",
              "      <td>186322536</td>\n",
              "      <td>41.78</td>\n",
              "      <td>nan</td>\n",
              "      <td>nan</td>\n",
              "    </tr>\n",
              "    <tr>\n",
              "      <th>2019-05-13</th>\n",
              "      <td>38.79</td>\n",
              "      <td>39.24</td>\n",
              "      <td>36.08</td>\n",
              "      <td>37.10</td>\n",
              "      <td>79442420</td>\n",
              "      <td>37.95</td>\n",
              "      <td>41.57</td>\n",
              "      <td>-0.11</td>\n",
              "    </tr>\n",
              "    <tr>\n",
              "      <th>2019-05-14</th>\n",
              "      <td>38.31</td>\n",
              "      <td>39.96</td>\n",
              "      <td>36.85</td>\n",
              "      <td>39.96</td>\n",
              "      <td>46661147</td>\n",
              "      <td>39.14</td>\n",
              "      <td>37.10</td>\n",
              "      <td>0.08</td>\n",
              "    </tr>\n",
              "    <tr>\n",
              "      <th>2019-05-15</th>\n",
              "      <td>39.37</td>\n",
              "      <td>41.88</td>\n",
              "      <td>38.95</td>\n",
              "      <td>41.29</td>\n",
              "      <td>36086065</td>\n",
              "      <td>40.33</td>\n",
              "      <td>39.96</td>\n",
              "      <td>0.03</td>\n",
              "    </tr>\n",
              "    <tr>\n",
              "      <th>2019-05-16</th>\n",
              "      <td>41.48</td>\n",
              "      <td>44.06</td>\n",
              "      <td>41.25</td>\n",
              "      <td>43.00</td>\n",
              "      <td>38115524</td>\n",
              "      <td>42.24</td>\n",
              "      <td>41.29</td>\n",
              "      <td>0.04</td>\n",
              "    </tr>\n",
              "  </tbody>\n",
              "</table>\n",
              "</div>"
            ],
            "text/plain": [
              "            Open  High   Low  ...  Average  Close_shift  Daily_Change\n",
              "Date                          ...                                    \n",
              "2019-05-10 42.00 45.00 41.06  ...    41.78          nan           nan\n",
              "2019-05-13 38.79 39.24 36.08  ...    37.95        41.57         -0.11\n",
              "2019-05-14 38.31 39.96 36.85  ...    39.14        37.10          0.08\n",
              "2019-05-15 39.37 41.88 38.95  ...    40.33        39.96          0.03\n",
              "2019-05-16 41.48 44.06 41.25  ...    42.24        41.29          0.04\n",
              "\n",
              "[5 rows x 8 columns]"
            ]
          },
          "metadata": {
            "tags": []
          },
          "execution_count": 426
        }
      ]
    },
    {
      "cell_type": "code",
      "metadata": {
        "id": "pozZe59anwO0"
      },
      "source": [
        "df_positive = df[df.Daily_Change > 0]"
      ],
      "execution_count": 427,
      "outputs": []
    },
    {
      "cell_type": "code",
      "metadata": {
        "colab": {
          "base_uri": "https://localhost:8080/"
        },
        "id": "D4zoZrkFn0Ck",
        "outputId": "bc7f21e0-9510-4179-f89d-30194ccc7f52"
      },
      "source": [
        "df_positive.Daily_Change.mean()"
      ],
      "execution_count": 428,
      "outputs": [
        {
          "output_type": "execute_result",
          "data": {
            "text/plain": [
              "0.027155963577950182"
            ]
          },
          "metadata": {
            "tags": []
          },
          "execution_count": 428
        }
      ]
    },
    {
      "cell_type": "code",
      "metadata": {
        "id": "eHWZN3-9n_EM"
      },
      "source": [
        "df_negative = df[df.Daily_Change < 0]"
      ],
      "execution_count": 429,
      "outputs": []
    },
    {
      "cell_type": "code",
      "metadata": {
        "colab": {
          "base_uri": "https://localhost:8080/"
        },
        "id": "VxgR-NwMoNF7",
        "outputId": "f7312400-a8b3-4d74-d722-895db33e90b4"
      },
      "source": [
        "df_negative.Daily_Change.mean()"
      ],
      "execution_count": 430,
      "outputs": [
        {
          "output_type": "execute_result",
          "data": {
            "text/plain": [
              "-0.02461438093500447"
            ]
          },
          "metadata": {
            "tags": []
          },
          "execution_count": 430
        }
      ]
    },
    {
      "cell_type": "code",
      "metadata": {
        "colab": {
          "base_uri": "https://localhost:8080/",
          "height": 235
        },
        "id": "eWVXYmZIoP3E",
        "outputId": "37ffdd63-359c-49aa-bd06-f5aa0fb9efc3"
      },
      "source": [
        "df[df.Close == df.High]"
      ],
      "execution_count": 431,
      "outputs": [
        {
          "output_type": "execute_result",
          "data": {
            "text/html": [
              "<div>\n",
              "<style scoped>\n",
              "    .dataframe tbody tr th:only-of-type {\n",
              "        vertical-align: middle;\n",
              "    }\n",
              "\n",
              "    .dataframe tbody tr th {\n",
              "        vertical-align: top;\n",
              "    }\n",
              "\n",
              "    .dataframe thead th {\n",
              "        text-align: right;\n",
              "    }\n",
              "</style>\n",
              "<table border=\"1\" class=\"dataframe\">\n",
              "  <thead>\n",
              "    <tr style=\"text-align: right;\">\n",
              "      <th></th>\n",
              "      <th>Open</th>\n",
              "      <th>High</th>\n",
              "      <th>Low</th>\n",
              "      <th>Close</th>\n",
              "      <th>Volume</th>\n",
              "      <th>Average</th>\n",
              "      <th>Close_shift</th>\n",
              "      <th>Daily_Change</th>\n",
              "    </tr>\n",
              "    <tr>\n",
              "      <th>Date</th>\n",
              "      <th></th>\n",
              "      <th></th>\n",
              "      <th></th>\n",
              "      <th></th>\n",
              "      <th></th>\n",
              "      <th></th>\n",
              "      <th></th>\n",
              "      <th></th>\n",
              "    </tr>\n",
              "  </thead>\n",
              "  <tbody>\n",
              "    <tr>\n",
              "      <th>2019-05-14</th>\n",
              "      <td>38.31</td>\n",
              "      <td>39.96</td>\n",
              "      <td>36.85</td>\n",
              "      <td>39.96</td>\n",
              "      <td>46661147</td>\n",
              "      <td>39.14</td>\n",
              "      <td>37.10</td>\n",
              "      <td>0.08</td>\n",
              "    </tr>\n",
              "    <tr>\n",
              "      <th>2019-05-24</th>\n",
              "      <td>41.28</td>\n",
              "      <td>41.51</td>\n",
              "      <td>40.50</td>\n",
              "      <td>41.51</td>\n",
              "      <td>8786751</td>\n",
              "      <td>41.39</td>\n",
              "      <td>40.47</td>\n",
              "      <td>0.03</td>\n",
              "    </tr>\n",
              "    <tr>\n",
              "      <th>2020-08-25</th>\n",
              "      <td>31.04</td>\n",
              "      <td>31.19</td>\n",
              "      <td>30.60</td>\n",
              "      <td>31.19</td>\n",
              "      <td>10056762</td>\n",
              "      <td>31.12</td>\n",
              "      <td>31.04</td>\n",
              "      <td>0.00</td>\n",
              "    </tr>\n",
              "    <tr>\n",
              "      <th>2020-12-04</th>\n",
              "      <td>52.71</td>\n",
              "      <td>54.86</td>\n",
              "      <td>52.71</td>\n",
              "      <td>54.86</td>\n",
              "      <td>22207887</td>\n",
              "      <td>53.78</td>\n",
              "      <td>52.52</td>\n",
              "      <td>0.04</td>\n",
              "    </tr>\n",
              "    <tr>\n",
              "      <th>2021-02-04</th>\n",
              "      <td>56.45</td>\n",
              "      <td>57.85</td>\n",
              "      <td>56.11</td>\n",
              "      <td>57.85</td>\n",
              "      <td>13847255</td>\n",
              "      <td>57.15</td>\n",
              "      <td>57.12</td>\n",
              "      <td>0.01</td>\n",
              "    </tr>\n",
              "  </tbody>\n",
              "</table>\n",
              "</div>"
            ],
            "text/plain": [
              "            Open  High   Low  ...  Average  Close_shift  Daily_Change\n",
              "Date                          ...                                    \n",
              "2019-05-14 38.31 39.96 36.85  ...    39.14        37.10          0.08\n",
              "2019-05-24 41.28 41.51 40.50  ...    41.39        40.47          0.03\n",
              "2020-08-25 31.04 31.19 30.60  ...    31.12        31.04          0.00\n",
              "2020-12-04 52.71 54.86 52.71  ...    53.78        52.52          0.04\n",
              "2021-02-04 56.45 57.85 56.11  ...    57.15        57.12          0.01\n",
              "\n",
              "[5 rows x 8 columns]"
            ]
          },
          "metadata": {
            "tags": []
          },
          "execution_count": 431
        }
      ]
    },
    {
      "cell_type": "code",
      "metadata": {
        "colab": {
          "base_uri": "https://localhost:8080/",
          "height": 450
        },
        "id": "gh92xak5oW3r",
        "outputId": "0a50a878-30bb-4478-ddd7-37166ae612f3"
      },
      "source": [
        "df[df.index > '2019-11-01']"
      ],
      "execution_count": 432,
      "outputs": [
        {
          "output_type": "execute_result",
          "data": {
            "text/html": [
              "<div>\n",
              "<style scoped>\n",
              "    .dataframe tbody tr th:only-of-type {\n",
              "        vertical-align: middle;\n",
              "    }\n",
              "\n",
              "    .dataframe tbody tr th {\n",
              "        vertical-align: top;\n",
              "    }\n",
              "\n",
              "    .dataframe thead th {\n",
              "        text-align: right;\n",
              "    }\n",
              "</style>\n",
              "<table border=\"1\" class=\"dataframe\">\n",
              "  <thead>\n",
              "    <tr style=\"text-align: right;\">\n",
              "      <th></th>\n",
              "      <th>Open</th>\n",
              "      <th>High</th>\n",
              "      <th>Low</th>\n",
              "      <th>Close</th>\n",
              "      <th>Volume</th>\n",
              "      <th>Average</th>\n",
              "      <th>Close_shift</th>\n",
              "      <th>Daily_Change</th>\n",
              "    </tr>\n",
              "    <tr>\n",
              "      <th>Date</th>\n",
              "      <th></th>\n",
              "      <th></th>\n",
              "      <th></th>\n",
              "      <th></th>\n",
              "      <th></th>\n",
              "      <th></th>\n",
              "      <th></th>\n",
              "      <th></th>\n",
              "    </tr>\n",
              "  </thead>\n",
              "  <tbody>\n",
              "    <tr>\n",
              "      <th>2019-11-04</th>\n",
              "      <td>31.45</td>\n",
              "      <td>31.75</td>\n",
              "      <td>30.12</td>\n",
              "      <td>31.08</td>\n",
              "      <td>32330121</td>\n",
              "      <td>31.27</td>\n",
              "      <td>31.37</td>\n",
              "      <td>-0.01</td>\n",
              "    </tr>\n",
              "    <tr>\n",
              "      <th>2019-11-05</th>\n",
              "      <td>29.13</td>\n",
              "      <td>29.30</td>\n",
              "      <td>27.97</td>\n",
              "      <td>28.02</td>\n",
              "      <td>52180615</td>\n",
              "      <td>28.57</td>\n",
              "      <td>31.08</td>\n",
              "      <td>-0.10</td>\n",
              "    </tr>\n",
              "    <tr>\n",
              "      <th>2019-11-06</th>\n",
              "      <td>26.06</td>\n",
              "      <td>27.55</td>\n",
              "      <td>25.58</td>\n",
              "      <td>26.94</td>\n",
              "      <td>133569790</td>\n",
              "      <td>26.50</td>\n",
              "      <td>28.02</td>\n",
              "      <td>-0.04</td>\n",
              "    </tr>\n",
              "    <tr>\n",
              "      <th>2019-11-07</th>\n",
              "      <td>26.80</td>\n",
              "      <td>27.42</td>\n",
              "      <td>26.45</td>\n",
              "      <td>27.38</td>\n",
              "      <td>65949472</td>\n",
              "      <td>27.09</td>\n",
              "      <td>26.94</td>\n",
              "      <td>0.02</td>\n",
              "    </tr>\n",
              "    <tr>\n",
              "      <th>2019-11-08</th>\n",
              "      <td>27.48</td>\n",
              "      <td>27.62</td>\n",
              "      <td>26.91</td>\n",
              "      <td>27.01</td>\n",
              "      <td>45263118</td>\n",
              "      <td>27.25</td>\n",
              "      <td>27.38</td>\n",
              "      <td>-0.01</td>\n",
              "    </tr>\n",
              "    <tr>\n",
              "      <th>...</th>\n",
              "      <td>...</td>\n",
              "      <td>...</td>\n",
              "      <td>...</td>\n",
              "      <td>...</td>\n",
              "      <td>...</td>\n",
              "      <td>...</td>\n",
              "      <td>...</td>\n",
              "      <td>...</td>\n",
              "    </tr>\n",
              "    <tr>\n",
              "      <th>2021-06-18</th>\n",
              "      <td>49.31</td>\n",
              "      <td>50.39</td>\n",
              "      <td>48.77</td>\n",
              "      <td>49.70</td>\n",
              "      <td>20633523</td>\n",
              "      <td>49.51</td>\n",
              "      <td>49.70</td>\n",
              "      <td>0.00</td>\n",
              "    </tr>\n",
              "    <tr>\n",
              "      <th>2021-06-21</th>\n",
              "      <td>49.72</td>\n",
              "      <td>49.86</td>\n",
              "      <td>47.90</td>\n",
              "      <td>48.12</td>\n",
              "      <td>30752163</td>\n",
              "      <td>48.92</td>\n",
              "      <td>49.70</td>\n",
              "      <td>-0.03</td>\n",
              "    </tr>\n",
              "    <tr>\n",
              "      <th>2021-06-22</th>\n",
              "      <td>48.30</td>\n",
              "      <td>49.34</td>\n",
              "      <td>47.75</td>\n",
              "      <td>49.05</td>\n",
              "      <td>19472455</td>\n",
              "      <td>48.67</td>\n",
              "      <td>48.12</td>\n",
              "      <td>0.02</td>\n",
              "    </tr>\n",
              "    <tr>\n",
              "      <th>2021-06-23</th>\n",
              "      <td>49.06</td>\n",
              "      <td>50.77</td>\n",
              "      <td>49.01</td>\n",
              "      <td>50.51</td>\n",
              "      <td>19843277</td>\n",
              "      <td>49.78</td>\n",
              "      <td>49.05</td>\n",
              "      <td>0.03</td>\n",
              "    </tr>\n",
              "    <tr>\n",
              "      <th>2021-06-24</th>\n",
              "      <td>51.30</td>\n",
              "      <td>51.55</td>\n",
              "      <td>50.22</td>\n",
              "      <td>50.82</td>\n",
              "      <td>12403301</td>\n",
              "      <td>51.06</td>\n",
              "      <td>50.51</td>\n",
              "      <td>0.01</td>\n",
              "    </tr>\n",
              "  </tbody>\n",
              "</table>\n",
              "<p>413 rows × 8 columns</p>\n",
              "</div>"
            ],
            "text/plain": [
              "            Open  High   Low  ...  Average  Close_shift  Daily_Change\n",
              "Date                          ...                                    \n",
              "2019-11-04 31.45 31.75 30.12  ...    31.27        31.37         -0.01\n",
              "2019-11-05 29.13 29.30 27.97  ...    28.57        31.08         -0.10\n",
              "2019-11-06 26.06 27.55 25.58  ...    26.50        28.02         -0.04\n",
              "2019-11-07 26.80 27.42 26.45  ...    27.09        26.94          0.02\n",
              "2019-11-08 27.48 27.62 26.91  ...    27.25        27.38         -0.01\n",
              "...          ...   ...   ...  ...      ...          ...           ...\n",
              "2021-06-18 49.31 50.39 48.77  ...    49.51        49.70          0.00\n",
              "2021-06-21 49.72 49.86 47.90  ...    48.92        49.70         -0.03\n",
              "2021-06-22 48.30 49.34 47.75  ...    48.67        48.12          0.02\n",
              "2021-06-23 49.06 50.77 49.01  ...    49.78        49.05          0.03\n",
              "2021-06-24 51.30 51.55 50.22  ...    51.06        50.51          0.01\n",
              "\n",
              "[413 rows x 8 columns]"
            ]
          },
          "metadata": {
            "tags": []
          },
          "execution_count": 432
        }
      ]
    },
    {
      "cell_type": "code",
      "metadata": {
        "colab": {
          "base_uri": "https://localhost:8080/",
          "height": 142
        },
        "id": "SHJex_4noe9c",
        "outputId": "d8b68f2d-fd95-4e64-8b78-dbbdacfa20e3"
      },
      "source": [
        "df[(df.index == '2019-11-01') | (df.index == '2019-11-05')]"
      ],
      "execution_count": 433,
      "outputs": [
        {
          "output_type": "execute_result",
          "data": {
            "text/html": [
              "<div>\n",
              "<style scoped>\n",
              "    .dataframe tbody tr th:only-of-type {\n",
              "        vertical-align: middle;\n",
              "    }\n",
              "\n",
              "    .dataframe tbody tr th {\n",
              "        vertical-align: top;\n",
              "    }\n",
              "\n",
              "    .dataframe thead th {\n",
              "        text-align: right;\n",
              "    }\n",
              "</style>\n",
              "<table border=\"1\" class=\"dataframe\">\n",
              "  <thead>\n",
              "    <tr style=\"text-align: right;\">\n",
              "      <th></th>\n",
              "      <th>Open</th>\n",
              "      <th>High</th>\n",
              "      <th>Low</th>\n",
              "      <th>Close</th>\n",
              "      <th>Volume</th>\n",
              "      <th>Average</th>\n",
              "      <th>Close_shift</th>\n",
              "      <th>Daily_Change</th>\n",
              "    </tr>\n",
              "    <tr>\n",
              "      <th>Date</th>\n",
              "      <th></th>\n",
              "      <th></th>\n",
              "      <th></th>\n",
              "      <th></th>\n",
              "      <th></th>\n",
              "      <th></th>\n",
              "      <th></th>\n",
              "      <th></th>\n",
              "    </tr>\n",
              "  </thead>\n",
              "  <tbody>\n",
              "    <tr>\n",
              "      <th>2019-11-01</th>\n",
              "      <td>31.45</td>\n",
              "      <td>31.70</td>\n",
              "      <td>30.74</td>\n",
              "      <td>31.37</td>\n",
              "      <td>10460430</td>\n",
              "      <td>31.41</td>\n",
              "      <td>31.50</td>\n",
              "      <td>-0.00</td>\n",
              "    </tr>\n",
              "    <tr>\n",
              "      <th>2019-11-05</th>\n",
              "      <td>29.13</td>\n",
              "      <td>29.30</td>\n",
              "      <td>27.97</td>\n",
              "      <td>28.02</td>\n",
              "      <td>52180615</td>\n",
              "      <td>28.57</td>\n",
              "      <td>31.08</td>\n",
              "      <td>-0.10</td>\n",
              "    </tr>\n",
              "  </tbody>\n",
              "</table>\n",
              "</div>"
            ],
            "text/plain": [
              "            Open  High   Low  ...  Average  Close_shift  Daily_Change\n",
              "Date                          ...                                    \n",
              "2019-11-01 31.45 31.70 30.74  ...    31.41        31.50         -0.00\n",
              "2019-11-05 29.13 29.30 27.97  ...    28.57        31.08         -0.10\n",
              "\n",
              "[2 rows x 8 columns]"
            ]
          },
          "metadata": {
            "tags": []
          },
          "execution_count": 433
        }
      ]
    },
    {
      "cell_type": "code",
      "metadata": {
        "id": "bTQXErQopHFM"
      },
      "source": [
        "#df.index.month == 5"
      ],
      "execution_count": 434,
      "outputs": []
    },
    {
      "cell_type": "markdown",
      "metadata": {
        "id": "MMcdDtAKpMy8"
      },
      "source": [
        "##Zapis/odczyt CSV, XLSX"
      ]
    },
    {
      "cell_type": "code",
      "metadata": {
        "colab": {
          "base_uri": "https://localhost:8080/",
          "height": 235
        },
        "id": "lqXhQco2peud",
        "outputId": "afce8db7-78c5-43f3-99ab-bc2db23b69db"
      },
      "source": [
        "df = fetch_financial_data('FB')\n",
        "df.head()"
      ],
      "execution_count": 435,
      "outputs": [
        {
          "output_type": "execute_result",
          "data": {
            "text/html": [
              "<div>\n",
              "<style scoped>\n",
              "    .dataframe tbody tr th:only-of-type {\n",
              "        vertical-align: middle;\n",
              "    }\n",
              "\n",
              "    .dataframe tbody tr th {\n",
              "        vertical-align: top;\n",
              "    }\n",
              "\n",
              "    .dataframe thead th {\n",
              "        text-align: right;\n",
              "    }\n",
              "</style>\n",
              "<table border=\"1\" class=\"dataframe\">\n",
              "  <thead>\n",
              "    <tr style=\"text-align: right;\">\n",
              "      <th></th>\n",
              "      <th>Open</th>\n",
              "      <th>High</th>\n",
              "      <th>Low</th>\n",
              "      <th>Close</th>\n",
              "      <th>Volume</th>\n",
              "    </tr>\n",
              "    <tr>\n",
              "      <th>Date</th>\n",
              "      <th></th>\n",
              "      <th></th>\n",
              "      <th></th>\n",
              "      <th></th>\n",
              "      <th></th>\n",
              "    </tr>\n",
              "  </thead>\n",
              "  <tbody>\n",
              "    <tr>\n",
              "      <th>2021-06-24</th>\n",
              "      <td>341.85</td>\n",
              "      <td>344.90</td>\n",
              "      <td>341.79</td>\n",
              "      <td>343.18</td>\n",
              "      <td>12329096</td>\n",
              "    </tr>\n",
              "    <tr>\n",
              "      <th>2021-06-23</th>\n",
              "      <td>339.35</td>\n",
              "      <td>343.42</td>\n",
              "      <td>338.20</td>\n",
              "      <td>340.59</td>\n",
              "      <td>14817824</td>\n",
              "    </tr>\n",
              "    <tr>\n",
              "      <th>2021-06-22</th>\n",
              "      <td>332.69</td>\n",
              "      <td>339.92</td>\n",
              "      <td>332.60</td>\n",
              "      <td>339.03</td>\n",
              "      <td>15345299</td>\n",
              "    </tr>\n",
              "    <tr>\n",
              "      <th>2021-06-21</th>\n",
              "      <td>331.09</td>\n",
              "      <td>332.92</td>\n",
              "      <td>327.65</td>\n",
              "      <td>332.29</td>\n",
              "      <td>11337522</td>\n",
              "    </tr>\n",
              "    <tr>\n",
              "      <th>2021-06-18</th>\n",
              "      <td>334.53</td>\n",
              "      <td>336.15</td>\n",
              "      <td>329.00</td>\n",
              "      <td>329.66</td>\n",
              "      <td>23039457</td>\n",
              "    </tr>\n",
              "  </tbody>\n",
              "</table>\n",
              "</div>"
            ],
            "text/plain": [
              "             Open   High    Low  Close    Volume\n",
              "Date                                            \n",
              "2021-06-24 341.85 344.90 341.79 343.18  12329096\n",
              "2021-06-23 339.35 343.42 338.20 340.59  14817824\n",
              "2021-06-22 332.69 339.92 332.60 339.03  15345299\n",
              "2021-06-21 331.09 332.92 327.65 332.29  11337522\n",
              "2021-06-18 334.53 336.15 329.00 329.66  23039457"
            ]
          },
          "metadata": {
            "tags": []
          },
          "execution_count": 435
        }
      ]
    },
    {
      "cell_type": "code",
      "metadata": {
        "colab": {
          "base_uri": "https://localhost:8080/"
        },
        "id": "1BMFacZupmEc",
        "outputId": "bbe77756-edf2-48f0-a476-011dc043f466"
      },
      "source": [
        "df.info()"
      ],
      "execution_count": 436,
      "outputs": [
        {
          "output_type": "stream",
          "text": [
            "<class 'pandas.core.frame.DataFrame'>\n",
            "DatetimeIndex: 1258 entries, 2021-06-24 to 2016-06-27\n",
            "Data columns (total 5 columns):\n",
            " #   Column  Non-Null Count  Dtype  \n",
            "---  ------  --------------  -----  \n",
            " 0   Open    1258 non-null   float64\n",
            " 1   High    1258 non-null   float64\n",
            " 2   Low     1258 non-null   float64\n",
            " 3   Close   1258 non-null   float64\n",
            " 4   Volume  1258 non-null   int64  \n",
            "dtypes: float64(4), int64(1)\n",
            "memory usage: 59.0 KB\n"
          ],
          "name": "stdout"
        }
      ]
    },
    {
      "cell_type": "code",
      "metadata": {
        "id": "oL1m5G7Hpni0"
      },
      "source": [
        "df.to_csv('fb.csv')"
      ],
      "execution_count": 437,
      "outputs": []
    },
    {
      "cell_type": "code",
      "metadata": {
        "colab": {
          "base_uri": "https://localhost:8080/",
          "height": 700
        },
        "id": "jcvT7gxjprOZ",
        "outputId": "5f4ff2df-ccb3-466d-89f3-0bea2f597801"
      },
      "source": [
        "df_nov = df[(df.index.month == 11) & (df.index.year == 2019)]\n",
        "df_nov"
      ],
      "execution_count": 438,
      "outputs": [
        {
          "output_type": "execute_result",
          "data": {
            "text/html": [
              "<div>\n",
              "<style scoped>\n",
              "    .dataframe tbody tr th:only-of-type {\n",
              "        vertical-align: middle;\n",
              "    }\n",
              "\n",
              "    .dataframe tbody tr th {\n",
              "        vertical-align: top;\n",
              "    }\n",
              "\n",
              "    .dataframe thead th {\n",
              "        text-align: right;\n",
              "    }\n",
              "</style>\n",
              "<table border=\"1\" class=\"dataframe\">\n",
              "  <thead>\n",
              "    <tr style=\"text-align: right;\">\n",
              "      <th></th>\n",
              "      <th>Open</th>\n",
              "      <th>High</th>\n",
              "      <th>Low</th>\n",
              "      <th>Close</th>\n",
              "      <th>Volume</th>\n",
              "    </tr>\n",
              "    <tr>\n",
              "      <th>Date</th>\n",
              "      <th></th>\n",
              "      <th></th>\n",
              "      <th></th>\n",
              "      <th></th>\n",
              "      <th></th>\n",
              "    </tr>\n",
              "  </thead>\n",
              "  <tbody>\n",
              "    <tr>\n",
              "      <th>2019-11-29</th>\n",
              "      <td>201.60</td>\n",
              "      <td>203.80</td>\n",
              "      <td>201.21</td>\n",
              "      <td>201.64</td>\n",
              "      <td>7985231</td>\n",
              "    </tr>\n",
              "    <tr>\n",
              "      <th>2019-11-27</th>\n",
              "      <td>199.90</td>\n",
              "      <td>203.14</td>\n",
              "      <td>199.42</td>\n",
              "      <td>202.00</td>\n",
              "      <td>12729462</td>\n",
              "    </tr>\n",
              "    <tr>\n",
              "      <th>2019-11-26</th>\n",
              "      <td>200.00</td>\n",
              "      <td>200.15</td>\n",
              "      <td>198.04</td>\n",
              "      <td>198.97</td>\n",
              "      <td>11748664</td>\n",
              "    </tr>\n",
              "    <tr>\n",
              "      <th>2019-11-25</th>\n",
              "      <td>199.51</td>\n",
              "      <td>200.97</td>\n",
              "      <td>199.25</td>\n",
              "      <td>199.79</td>\n",
              "      <td>15286442</td>\n",
              "    </tr>\n",
              "    <tr>\n",
              "      <th>2019-11-22</th>\n",
              "      <td>198.38</td>\n",
              "      <td>199.30</td>\n",
              "      <td>197.62</td>\n",
              "      <td>198.82</td>\n",
              "      <td>9959817</td>\n",
              "    </tr>\n",
              "    <tr>\n",
              "      <th>2019-11-21</th>\n",
              "      <td>197.42</td>\n",
              "      <td>199.09</td>\n",
              "      <td>196.86</td>\n",
              "      <td>197.93</td>\n",
              "      <td>12130985</td>\n",
              "    </tr>\n",
              "    <tr>\n",
              "      <th>2019-11-20</th>\n",
              "      <td>198.58</td>\n",
              "      <td>199.59</td>\n",
              "      <td>195.43</td>\n",
              "      <td>197.51</td>\n",
              "      <td>12370240</td>\n",
              "    </tr>\n",
              "    <tr>\n",
              "      <th>2019-11-19</th>\n",
              "      <td>197.40</td>\n",
              "      <td>200.00</td>\n",
              "      <td>196.86</td>\n",
              "      <td>199.32</td>\n",
              "      <td>19070291</td>\n",
              "    </tr>\n",
              "    <tr>\n",
              "      <th>2019-11-18</th>\n",
              "      <td>194.56</td>\n",
              "      <td>198.63</td>\n",
              "      <td>193.05</td>\n",
              "      <td>197.40</td>\n",
              "      <td>16176107</td>\n",
              "    </tr>\n",
              "    <tr>\n",
              "      <th>2019-11-15</th>\n",
              "      <td>194.26</td>\n",
              "      <td>195.30</td>\n",
              "      <td>193.38</td>\n",
              "      <td>195.10</td>\n",
              "      <td>11530232</td>\n",
              "    </tr>\n",
              "    <tr>\n",
              "      <th>2019-11-14</th>\n",
              "      <td>192.93</td>\n",
              "      <td>194.03</td>\n",
              "      <td>191.45</td>\n",
              "      <td>193.15</td>\n",
              "      <td>9059897</td>\n",
              "    </tr>\n",
              "    <tr>\n",
              "      <th>2019-11-13</th>\n",
              "      <td>194.70</td>\n",
              "      <td>195.70</td>\n",
              "      <td>192.74</td>\n",
              "      <td>193.19</td>\n",
              "      <td>11009800</td>\n",
              "    </tr>\n",
              "    <tr>\n",
              "      <th>2019-11-12</th>\n",
              "      <td>190.00</td>\n",
              "      <td>195.06</td>\n",
              "      <td>189.74</td>\n",
              "      <td>194.47</td>\n",
              "      <td>17615454</td>\n",
              "    </tr>\n",
              "    <tr>\n",
              "      <th>2019-11-11</th>\n",
              "      <td>189.93</td>\n",
              "      <td>190.08</td>\n",
              "      <td>188.54</td>\n",
              "      <td>189.61</td>\n",
              "      <td>8637768</td>\n",
              "    </tr>\n",
              "    <tr>\n",
              "      <th>2019-11-08</th>\n",
              "      <td>190.00</td>\n",
              "      <td>192.34</td>\n",
              "      <td>189.70</td>\n",
              "      <td>190.84</td>\n",
              "      <td>10764784</td>\n",
              "    </tr>\n",
              "    <tr>\n",
              "      <th>2019-11-07</th>\n",
              "      <td>191.91</td>\n",
              "      <td>193.44</td>\n",
              "      <td>189.47</td>\n",
              "      <td>190.42</td>\n",
              "      <td>13472998</td>\n",
              "    </tr>\n",
              "    <tr>\n",
              "      <th>2019-11-06</th>\n",
              "      <td>194.03</td>\n",
              "      <td>194.37</td>\n",
              "      <td>191.35</td>\n",
              "      <td>191.55</td>\n",
              "      <td>10973019</td>\n",
              "    </tr>\n",
              "    <tr>\n",
              "      <th>2019-11-05</th>\n",
              "      <td>195.37</td>\n",
              "      <td>195.75</td>\n",
              "      <td>193.60</td>\n",
              "      <td>194.32</td>\n",
              "      <td>9941954</td>\n",
              "    </tr>\n",
              "    <tr>\n",
              "      <th>2019-11-04</th>\n",
              "      <td>194.55</td>\n",
              "      <td>197.37</td>\n",
              "      <td>193.81</td>\n",
              "      <td>194.72</td>\n",
              "      <td>16371292</td>\n",
              "    </tr>\n",
              "    <tr>\n",
              "      <th>2019-11-01</th>\n",
              "      <td>192.85</td>\n",
              "      <td>194.11</td>\n",
              "      <td>189.91</td>\n",
              "      <td>193.62</td>\n",
              "      <td>21711829</td>\n",
              "    </tr>\n",
              "  </tbody>\n",
              "</table>\n",
              "</div>"
            ],
            "text/plain": [
              "             Open   High    Low  Close    Volume\n",
              "Date                                            \n",
              "2019-11-29 201.60 203.80 201.21 201.64   7985231\n",
              "2019-11-27 199.90 203.14 199.42 202.00  12729462\n",
              "2019-11-26 200.00 200.15 198.04 198.97  11748664\n",
              "2019-11-25 199.51 200.97 199.25 199.79  15286442\n",
              "2019-11-22 198.38 199.30 197.62 198.82   9959817\n",
              "2019-11-21 197.42 199.09 196.86 197.93  12130985\n",
              "2019-11-20 198.58 199.59 195.43 197.51  12370240\n",
              "2019-11-19 197.40 200.00 196.86 199.32  19070291\n",
              "2019-11-18 194.56 198.63 193.05 197.40  16176107\n",
              "2019-11-15 194.26 195.30 193.38 195.10  11530232\n",
              "2019-11-14 192.93 194.03 191.45 193.15   9059897\n",
              "2019-11-13 194.70 195.70 192.74 193.19  11009800\n",
              "2019-11-12 190.00 195.06 189.74 194.47  17615454\n",
              "2019-11-11 189.93 190.08 188.54 189.61   8637768\n",
              "2019-11-08 190.00 192.34 189.70 190.84  10764784\n",
              "2019-11-07 191.91 193.44 189.47 190.42  13472998\n",
              "2019-11-06 194.03 194.37 191.35 191.55  10973019\n",
              "2019-11-05 195.37 195.75 193.60 194.32   9941954\n",
              "2019-11-04 194.55 197.37 193.81 194.72  16371292\n",
              "2019-11-01 192.85 194.11 189.91 193.62  21711829"
            ]
          },
          "metadata": {
            "tags": []
          },
          "execution_count": 438
        }
      ]
    },
    {
      "cell_type": "code",
      "metadata": {
        "id": "37uynZyVvHRA"
      },
      "source": [
        "df_nov.to_csv('fb_nov.csv')"
      ],
      "execution_count": 439,
      "outputs": []
    },
    {
      "cell_type": "code",
      "metadata": {
        "colab": {
          "base_uri": "https://localhost:8080/",
          "height": 669
        },
        "id": "AGEgbUcjvVh1",
        "outputId": "de77535e-9b2f-4016-eef4-04ef9fa2adb4"
      },
      "source": [
        "new_df = pd.read_csv('fb_nov.csv')\n",
        "new_df"
      ],
      "execution_count": 440,
      "outputs": [
        {
          "output_type": "execute_result",
          "data": {
            "text/html": [
              "<div>\n",
              "<style scoped>\n",
              "    .dataframe tbody tr th:only-of-type {\n",
              "        vertical-align: middle;\n",
              "    }\n",
              "\n",
              "    .dataframe tbody tr th {\n",
              "        vertical-align: top;\n",
              "    }\n",
              "\n",
              "    .dataframe thead th {\n",
              "        text-align: right;\n",
              "    }\n",
              "</style>\n",
              "<table border=\"1\" class=\"dataframe\">\n",
              "  <thead>\n",
              "    <tr style=\"text-align: right;\">\n",
              "      <th></th>\n",
              "      <th>Date</th>\n",
              "      <th>Open</th>\n",
              "      <th>High</th>\n",
              "      <th>Low</th>\n",
              "      <th>Close</th>\n",
              "      <th>Volume</th>\n",
              "    </tr>\n",
              "  </thead>\n",
              "  <tbody>\n",
              "    <tr>\n",
              "      <th>0</th>\n",
              "      <td>2019-11-29</td>\n",
              "      <td>201.60</td>\n",
              "      <td>203.80</td>\n",
              "      <td>201.21</td>\n",
              "      <td>201.64</td>\n",
              "      <td>7985231</td>\n",
              "    </tr>\n",
              "    <tr>\n",
              "      <th>1</th>\n",
              "      <td>2019-11-27</td>\n",
              "      <td>199.90</td>\n",
              "      <td>203.14</td>\n",
              "      <td>199.42</td>\n",
              "      <td>202.00</td>\n",
              "      <td>12729462</td>\n",
              "    </tr>\n",
              "    <tr>\n",
              "      <th>2</th>\n",
              "      <td>2019-11-26</td>\n",
              "      <td>200.00</td>\n",
              "      <td>200.15</td>\n",
              "      <td>198.04</td>\n",
              "      <td>198.97</td>\n",
              "      <td>11748664</td>\n",
              "    </tr>\n",
              "    <tr>\n",
              "      <th>3</th>\n",
              "      <td>2019-11-25</td>\n",
              "      <td>199.51</td>\n",
              "      <td>200.97</td>\n",
              "      <td>199.25</td>\n",
              "      <td>199.79</td>\n",
              "      <td>15286442</td>\n",
              "    </tr>\n",
              "    <tr>\n",
              "      <th>4</th>\n",
              "      <td>2019-11-22</td>\n",
              "      <td>198.38</td>\n",
              "      <td>199.30</td>\n",
              "      <td>197.62</td>\n",
              "      <td>198.82</td>\n",
              "      <td>9959817</td>\n",
              "    </tr>\n",
              "    <tr>\n",
              "      <th>5</th>\n",
              "      <td>2019-11-21</td>\n",
              "      <td>197.42</td>\n",
              "      <td>199.09</td>\n",
              "      <td>196.86</td>\n",
              "      <td>197.93</td>\n",
              "      <td>12130985</td>\n",
              "    </tr>\n",
              "    <tr>\n",
              "      <th>6</th>\n",
              "      <td>2019-11-20</td>\n",
              "      <td>198.58</td>\n",
              "      <td>199.59</td>\n",
              "      <td>195.43</td>\n",
              "      <td>197.51</td>\n",
              "      <td>12370240</td>\n",
              "    </tr>\n",
              "    <tr>\n",
              "      <th>7</th>\n",
              "      <td>2019-11-19</td>\n",
              "      <td>197.40</td>\n",
              "      <td>200.00</td>\n",
              "      <td>196.86</td>\n",
              "      <td>199.32</td>\n",
              "      <td>19070291</td>\n",
              "    </tr>\n",
              "    <tr>\n",
              "      <th>8</th>\n",
              "      <td>2019-11-18</td>\n",
              "      <td>194.56</td>\n",
              "      <td>198.63</td>\n",
              "      <td>193.05</td>\n",
              "      <td>197.40</td>\n",
              "      <td>16176107</td>\n",
              "    </tr>\n",
              "    <tr>\n",
              "      <th>9</th>\n",
              "      <td>2019-11-15</td>\n",
              "      <td>194.26</td>\n",
              "      <td>195.30</td>\n",
              "      <td>193.38</td>\n",
              "      <td>195.10</td>\n",
              "      <td>11530232</td>\n",
              "    </tr>\n",
              "    <tr>\n",
              "      <th>10</th>\n",
              "      <td>2019-11-14</td>\n",
              "      <td>192.93</td>\n",
              "      <td>194.03</td>\n",
              "      <td>191.45</td>\n",
              "      <td>193.15</td>\n",
              "      <td>9059897</td>\n",
              "    </tr>\n",
              "    <tr>\n",
              "      <th>11</th>\n",
              "      <td>2019-11-13</td>\n",
              "      <td>194.70</td>\n",
              "      <td>195.70</td>\n",
              "      <td>192.74</td>\n",
              "      <td>193.19</td>\n",
              "      <td>11009800</td>\n",
              "    </tr>\n",
              "    <tr>\n",
              "      <th>12</th>\n",
              "      <td>2019-11-12</td>\n",
              "      <td>190.00</td>\n",
              "      <td>195.06</td>\n",
              "      <td>189.74</td>\n",
              "      <td>194.47</td>\n",
              "      <td>17615454</td>\n",
              "    </tr>\n",
              "    <tr>\n",
              "      <th>13</th>\n",
              "      <td>2019-11-11</td>\n",
              "      <td>189.93</td>\n",
              "      <td>190.08</td>\n",
              "      <td>188.54</td>\n",
              "      <td>189.61</td>\n",
              "      <td>8637768</td>\n",
              "    </tr>\n",
              "    <tr>\n",
              "      <th>14</th>\n",
              "      <td>2019-11-08</td>\n",
              "      <td>190.00</td>\n",
              "      <td>192.34</td>\n",
              "      <td>189.70</td>\n",
              "      <td>190.84</td>\n",
              "      <td>10764784</td>\n",
              "    </tr>\n",
              "    <tr>\n",
              "      <th>15</th>\n",
              "      <td>2019-11-07</td>\n",
              "      <td>191.91</td>\n",
              "      <td>193.44</td>\n",
              "      <td>189.47</td>\n",
              "      <td>190.42</td>\n",
              "      <td>13472998</td>\n",
              "    </tr>\n",
              "    <tr>\n",
              "      <th>16</th>\n",
              "      <td>2019-11-06</td>\n",
              "      <td>194.03</td>\n",
              "      <td>194.37</td>\n",
              "      <td>191.35</td>\n",
              "      <td>191.55</td>\n",
              "      <td>10973019</td>\n",
              "    </tr>\n",
              "    <tr>\n",
              "      <th>17</th>\n",
              "      <td>2019-11-05</td>\n",
              "      <td>195.37</td>\n",
              "      <td>195.75</td>\n",
              "      <td>193.60</td>\n",
              "      <td>194.32</td>\n",
              "      <td>9941954</td>\n",
              "    </tr>\n",
              "    <tr>\n",
              "      <th>18</th>\n",
              "      <td>2019-11-04</td>\n",
              "      <td>194.55</td>\n",
              "      <td>197.37</td>\n",
              "      <td>193.81</td>\n",
              "      <td>194.72</td>\n",
              "      <td>16371292</td>\n",
              "    </tr>\n",
              "    <tr>\n",
              "      <th>19</th>\n",
              "      <td>2019-11-01</td>\n",
              "      <td>192.85</td>\n",
              "      <td>194.11</td>\n",
              "      <td>189.91</td>\n",
              "      <td>193.62</td>\n",
              "      <td>21711829</td>\n",
              "    </tr>\n",
              "  </tbody>\n",
              "</table>\n",
              "</div>"
            ],
            "text/plain": [
              "          Date   Open   High    Low  Close    Volume\n",
              "0   2019-11-29 201.60 203.80 201.21 201.64   7985231\n",
              "1   2019-11-27 199.90 203.14 199.42 202.00  12729462\n",
              "2   2019-11-26 200.00 200.15 198.04 198.97  11748664\n",
              "3   2019-11-25 199.51 200.97 199.25 199.79  15286442\n",
              "4   2019-11-22 198.38 199.30 197.62 198.82   9959817\n",
              "5   2019-11-21 197.42 199.09 196.86 197.93  12130985\n",
              "6   2019-11-20 198.58 199.59 195.43 197.51  12370240\n",
              "7   2019-11-19 197.40 200.00 196.86 199.32  19070291\n",
              "8   2019-11-18 194.56 198.63 193.05 197.40  16176107\n",
              "9   2019-11-15 194.26 195.30 193.38 195.10  11530232\n",
              "10  2019-11-14 192.93 194.03 191.45 193.15   9059897\n",
              "11  2019-11-13 194.70 195.70 192.74 193.19  11009800\n",
              "12  2019-11-12 190.00 195.06 189.74 194.47  17615454\n",
              "13  2019-11-11 189.93 190.08 188.54 189.61   8637768\n",
              "14  2019-11-08 190.00 192.34 189.70 190.84  10764784\n",
              "15  2019-11-07 191.91 193.44 189.47 190.42  13472998\n",
              "16  2019-11-06 194.03 194.37 191.35 191.55  10973019\n",
              "17  2019-11-05 195.37 195.75 193.60 194.32   9941954\n",
              "18  2019-11-04 194.55 197.37 193.81 194.72  16371292\n",
              "19  2019-11-01 192.85 194.11 189.91 193.62  21711829"
            ]
          },
          "metadata": {
            "tags": []
          },
          "execution_count": 440
        }
      ]
    },
    {
      "cell_type": "code",
      "metadata": {
        "id": "2zD9-e-Gvdp9"
      },
      "source": [
        "df_nov.to_excel('fb_nov.xlsx')  #read_excel()"
      ],
      "execution_count": 441,
      "outputs": []
    },
    {
      "cell_type": "code",
      "metadata": {
        "colab": {
          "base_uri": "https://localhost:8080/",
          "height": 700
        },
        "id": "s2uUIrkbvi0l",
        "outputId": "0b154766-7f5f-486d-c9f3-70b97d3c9079"
      },
      "source": [
        "new_df = pd.read_excel('fb_nov.xlsx', index_col=0)\n",
        "new_df"
      ],
      "execution_count": 442,
      "outputs": [
        {
          "output_type": "execute_result",
          "data": {
            "text/html": [
              "<div>\n",
              "<style scoped>\n",
              "    .dataframe tbody tr th:only-of-type {\n",
              "        vertical-align: middle;\n",
              "    }\n",
              "\n",
              "    .dataframe tbody tr th {\n",
              "        vertical-align: top;\n",
              "    }\n",
              "\n",
              "    .dataframe thead th {\n",
              "        text-align: right;\n",
              "    }\n",
              "</style>\n",
              "<table border=\"1\" class=\"dataframe\">\n",
              "  <thead>\n",
              "    <tr style=\"text-align: right;\">\n",
              "      <th></th>\n",
              "      <th>Open</th>\n",
              "      <th>High</th>\n",
              "      <th>Low</th>\n",
              "      <th>Close</th>\n",
              "      <th>Volume</th>\n",
              "    </tr>\n",
              "    <tr>\n",
              "      <th>Date</th>\n",
              "      <th></th>\n",
              "      <th></th>\n",
              "      <th></th>\n",
              "      <th></th>\n",
              "      <th></th>\n",
              "    </tr>\n",
              "  </thead>\n",
              "  <tbody>\n",
              "    <tr>\n",
              "      <th>2019-11-29</th>\n",
              "      <td>201.60</td>\n",
              "      <td>203.80</td>\n",
              "      <td>201.21</td>\n",
              "      <td>201.64</td>\n",
              "      <td>7985231</td>\n",
              "    </tr>\n",
              "    <tr>\n",
              "      <th>2019-11-27</th>\n",
              "      <td>199.90</td>\n",
              "      <td>203.14</td>\n",
              "      <td>199.42</td>\n",
              "      <td>202.00</td>\n",
              "      <td>12729462</td>\n",
              "    </tr>\n",
              "    <tr>\n",
              "      <th>2019-11-26</th>\n",
              "      <td>200.00</td>\n",
              "      <td>200.15</td>\n",
              "      <td>198.04</td>\n",
              "      <td>198.97</td>\n",
              "      <td>11748664</td>\n",
              "    </tr>\n",
              "    <tr>\n",
              "      <th>2019-11-25</th>\n",
              "      <td>199.51</td>\n",
              "      <td>200.97</td>\n",
              "      <td>199.25</td>\n",
              "      <td>199.79</td>\n",
              "      <td>15286442</td>\n",
              "    </tr>\n",
              "    <tr>\n",
              "      <th>2019-11-22</th>\n",
              "      <td>198.38</td>\n",
              "      <td>199.30</td>\n",
              "      <td>197.62</td>\n",
              "      <td>198.82</td>\n",
              "      <td>9959817</td>\n",
              "    </tr>\n",
              "    <tr>\n",
              "      <th>2019-11-21</th>\n",
              "      <td>197.42</td>\n",
              "      <td>199.09</td>\n",
              "      <td>196.86</td>\n",
              "      <td>197.93</td>\n",
              "      <td>12130985</td>\n",
              "    </tr>\n",
              "    <tr>\n",
              "      <th>2019-11-20</th>\n",
              "      <td>198.58</td>\n",
              "      <td>199.59</td>\n",
              "      <td>195.43</td>\n",
              "      <td>197.51</td>\n",
              "      <td>12370240</td>\n",
              "    </tr>\n",
              "    <tr>\n",
              "      <th>2019-11-19</th>\n",
              "      <td>197.40</td>\n",
              "      <td>200.00</td>\n",
              "      <td>196.86</td>\n",
              "      <td>199.32</td>\n",
              "      <td>19070291</td>\n",
              "    </tr>\n",
              "    <tr>\n",
              "      <th>2019-11-18</th>\n",
              "      <td>194.56</td>\n",
              "      <td>198.63</td>\n",
              "      <td>193.05</td>\n",
              "      <td>197.40</td>\n",
              "      <td>16176107</td>\n",
              "    </tr>\n",
              "    <tr>\n",
              "      <th>2019-11-15</th>\n",
              "      <td>194.26</td>\n",
              "      <td>195.30</td>\n",
              "      <td>193.38</td>\n",
              "      <td>195.10</td>\n",
              "      <td>11530232</td>\n",
              "    </tr>\n",
              "    <tr>\n",
              "      <th>2019-11-14</th>\n",
              "      <td>192.93</td>\n",
              "      <td>194.03</td>\n",
              "      <td>191.45</td>\n",
              "      <td>193.15</td>\n",
              "      <td>9059897</td>\n",
              "    </tr>\n",
              "    <tr>\n",
              "      <th>2019-11-13</th>\n",
              "      <td>194.70</td>\n",
              "      <td>195.70</td>\n",
              "      <td>192.74</td>\n",
              "      <td>193.19</td>\n",
              "      <td>11009800</td>\n",
              "    </tr>\n",
              "    <tr>\n",
              "      <th>2019-11-12</th>\n",
              "      <td>190.00</td>\n",
              "      <td>195.06</td>\n",
              "      <td>189.74</td>\n",
              "      <td>194.47</td>\n",
              "      <td>17615454</td>\n",
              "    </tr>\n",
              "    <tr>\n",
              "      <th>2019-11-11</th>\n",
              "      <td>189.93</td>\n",
              "      <td>190.08</td>\n",
              "      <td>188.54</td>\n",
              "      <td>189.61</td>\n",
              "      <td>8637768</td>\n",
              "    </tr>\n",
              "    <tr>\n",
              "      <th>2019-11-08</th>\n",
              "      <td>190.00</td>\n",
              "      <td>192.34</td>\n",
              "      <td>189.70</td>\n",
              "      <td>190.84</td>\n",
              "      <td>10764784</td>\n",
              "    </tr>\n",
              "    <tr>\n",
              "      <th>2019-11-07</th>\n",
              "      <td>191.91</td>\n",
              "      <td>193.44</td>\n",
              "      <td>189.47</td>\n",
              "      <td>190.42</td>\n",
              "      <td>13472998</td>\n",
              "    </tr>\n",
              "    <tr>\n",
              "      <th>2019-11-06</th>\n",
              "      <td>194.03</td>\n",
              "      <td>194.37</td>\n",
              "      <td>191.35</td>\n",
              "      <td>191.55</td>\n",
              "      <td>10973019</td>\n",
              "    </tr>\n",
              "    <tr>\n",
              "      <th>2019-11-05</th>\n",
              "      <td>195.37</td>\n",
              "      <td>195.75</td>\n",
              "      <td>193.60</td>\n",
              "      <td>194.32</td>\n",
              "      <td>9941954</td>\n",
              "    </tr>\n",
              "    <tr>\n",
              "      <th>2019-11-04</th>\n",
              "      <td>194.55</td>\n",
              "      <td>197.37</td>\n",
              "      <td>193.81</td>\n",
              "      <td>194.72</td>\n",
              "      <td>16371292</td>\n",
              "    </tr>\n",
              "    <tr>\n",
              "      <th>2019-11-01</th>\n",
              "      <td>192.85</td>\n",
              "      <td>194.11</td>\n",
              "      <td>189.91</td>\n",
              "      <td>193.62</td>\n",
              "      <td>21711829</td>\n",
              "    </tr>\n",
              "  </tbody>\n",
              "</table>\n",
              "</div>"
            ],
            "text/plain": [
              "             Open   High    Low  Close    Volume\n",
              "Date                                            \n",
              "2019-11-29 201.60 203.80 201.21 201.64   7985231\n",
              "2019-11-27 199.90 203.14 199.42 202.00  12729462\n",
              "2019-11-26 200.00 200.15 198.04 198.97  11748664\n",
              "2019-11-25 199.51 200.97 199.25 199.79  15286442\n",
              "2019-11-22 198.38 199.30 197.62 198.82   9959817\n",
              "2019-11-21 197.42 199.09 196.86 197.93  12130985\n",
              "2019-11-20 198.58 199.59 195.43 197.51  12370240\n",
              "2019-11-19 197.40 200.00 196.86 199.32  19070291\n",
              "2019-11-18 194.56 198.63 193.05 197.40  16176107\n",
              "2019-11-15 194.26 195.30 193.38 195.10  11530232\n",
              "2019-11-14 192.93 194.03 191.45 193.15   9059897\n",
              "2019-11-13 194.70 195.70 192.74 193.19  11009800\n",
              "2019-11-12 190.00 195.06 189.74 194.47  17615454\n",
              "2019-11-11 189.93 190.08 188.54 189.61   8637768\n",
              "2019-11-08 190.00 192.34 189.70 190.84  10764784\n",
              "2019-11-07 191.91 193.44 189.47 190.42  13472998\n",
              "2019-11-06 194.03 194.37 191.35 191.55  10973019\n",
              "2019-11-05 195.37 195.75 193.60 194.32   9941954\n",
              "2019-11-04 194.55 197.37 193.81 194.72  16371292\n",
              "2019-11-01 192.85 194.11 189.91 193.62  21711829"
            ]
          },
          "metadata": {
            "tags": []
          },
          "execution_count": 442
        }
      ]
    },
    {
      "cell_type": "markdown",
      "metadata": {
        "id": "D-4BNx_4v5dl"
      },
      "source": [
        "##**Przykład 2**"
      ]
    },
    {
      "cell_type": "code",
      "metadata": {
        "id": "m8FwHQVfwDqX"
      },
      "source": [
        "apple = fetch_financial_data('AAPL')\n",
        "amazon = fetch_financial_data('AMZN')\n",
        "google = fetch_financial_data('GOOGL')\n",
        "uber = fetch_financial_data('UBER')"
      ],
      "execution_count": 443,
      "outputs": []
    },
    {
      "cell_type": "code",
      "metadata": {
        "colab": {
          "base_uri": "https://localhost:8080/"
        },
        "id": "aa71R7kawYDP",
        "outputId": "b1980a31-c5fb-46da-9764-8113561b5ca1"
      },
      "source": [
        "apple.info()"
      ],
      "execution_count": 444,
      "outputs": [
        {
          "output_type": "stream",
          "text": [
            "<class 'pandas.core.frame.DataFrame'>\n",
            "DatetimeIndex: 1258 entries, 2021-06-24 to 2016-06-27\n",
            "Data columns (total 5 columns):\n",
            " #   Column  Non-Null Count  Dtype  \n",
            "---  ------  --------------  -----  \n",
            " 0   Open    1258 non-null   float64\n",
            " 1   High    1258 non-null   float64\n",
            " 2   Low     1258 non-null   float64\n",
            " 3   Close   1258 non-null   float64\n",
            " 4   Volume  1258 non-null   int64  \n",
            "dtypes: float64(4), int64(1)\n",
            "memory usage: 59.0 KB\n"
          ],
          "name": "stdout"
        }
      ]
    },
    {
      "cell_type": "code",
      "metadata": {
        "id": "7GTUGwc2wcTl"
      },
      "source": [
        "apple.columns = ['apple_' + col.lower() for col in apple.columns]\n",
        "amazon.columns = ['amazon_' + col.lower() for col in amazon.columns]\n",
        "google.columns = ['google_' + col.lower() for col in google.columns]\n",
        "uber.columns = ['uber_' + col.lower() for col in uber.columns]"
      ],
      "execution_count": 445,
      "outputs": []
    },
    {
      "cell_type": "code",
      "metadata": {
        "colab": {
          "base_uri": "https://localhost:8080/",
          "height": 235
        },
        "id": "8XLzznDiwmOl",
        "outputId": "b57700d1-db67-4387-b86c-92bfc669ae7a"
      },
      "source": [
        "apple.head()"
      ],
      "execution_count": 446,
      "outputs": [
        {
          "output_type": "execute_result",
          "data": {
            "text/html": [
              "<div>\n",
              "<style scoped>\n",
              "    .dataframe tbody tr th:only-of-type {\n",
              "        vertical-align: middle;\n",
              "    }\n",
              "\n",
              "    .dataframe tbody tr th {\n",
              "        vertical-align: top;\n",
              "    }\n",
              "\n",
              "    .dataframe thead th {\n",
              "        text-align: right;\n",
              "    }\n",
              "</style>\n",
              "<table border=\"1\" class=\"dataframe\">\n",
              "  <thead>\n",
              "    <tr style=\"text-align: right;\">\n",
              "      <th></th>\n",
              "      <th>apple_open</th>\n",
              "      <th>apple_high</th>\n",
              "      <th>apple_low</th>\n",
              "      <th>apple_close</th>\n",
              "      <th>apple_volume</th>\n",
              "    </tr>\n",
              "    <tr>\n",
              "      <th>Date</th>\n",
              "      <th></th>\n",
              "      <th></th>\n",
              "      <th></th>\n",
              "      <th></th>\n",
              "      <th></th>\n",
              "    </tr>\n",
              "  </thead>\n",
              "  <tbody>\n",
              "    <tr>\n",
              "      <th>2021-06-24</th>\n",
              "      <td>134.45</td>\n",
              "      <td>134.64</td>\n",
              "      <td>132.93</td>\n",
              "      <td>133.41</td>\n",
              "      <td>68710998</td>\n",
              "    </tr>\n",
              "    <tr>\n",
              "      <th>2021-06-23</th>\n",
              "      <td>133.77</td>\n",
              "      <td>134.32</td>\n",
              "      <td>133.23</td>\n",
              "      <td>133.70</td>\n",
              "      <td>60214200</td>\n",
              "    </tr>\n",
              "    <tr>\n",
              "      <th>2021-06-22</th>\n",
              "      <td>132.13</td>\n",
              "      <td>134.08</td>\n",
              "      <td>131.62</td>\n",
              "      <td>133.98</td>\n",
              "      <td>74783618</td>\n",
              "    </tr>\n",
              "    <tr>\n",
              "      <th>2021-06-21</th>\n",
              "      <td>130.30</td>\n",
              "      <td>132.41</td>\n",
              "      <td>129.21</td>\n",
              "      <td>132.30</td>\n",
              "      <td>79663316</td>\n",
              "    </tr>\n",
              "    <tr>\n",
              "      <th>2021-06-18</th>\n",
              "      <td>130.71</td>\n",
              "      <td>131.51</td>\n",
              "      <td>130.24</td>\n",
              "      <td>130.46</td>\n",
              "      <td>108953309</td>\n",
              "    </tr>\n",
              "  </tbody>\n",
              "</table>\n",
              "</div>"
            ],
            "text/plain": [
              "            apple_open  apple_high  apple_low  apple_close  apple_volume\n",
              "Date                                                                    \n",
              "2021-06-24      134.45      134.64     132.93       133.41      68710998\n",
              "2021-06-23      133.77      134.32     133.23       133.70      60214200\n",
              "2021-06-22      132.13      134.08     131.62       133.98      74783618\n",
              "2021-06-21      130.30      132.41     129.21       132.30      79663316\n",
              "2021-06-18      130.71      131.51     130.24       130.46     108953309"
            ]
          },
          "metadata": {
            "tags": []
          },
          "execution_count": 446
        }
      ]
    },
    {
      "cell_type": "code",
      "metadata": {
        "id": "x-eNXiM-x7eG"
      },
      "source": [
        "df = pd.concat(objs=[apple, amazon, google, uber], axis=1)"
      ],
      "execution_count": 447,
      "outputs": []
    },
    {
      "cell_type": "code",
      "metadata": {
        "colab": {
          "base_uri": "https://localhost:8080/",
          "height": 669
        },
        "id": "HMF7VjXLyH6u",
        "outputId": "115a830b-1ade-492c-b3da-2b8fa49fbca9"
      },
      "source": [
        "pd.set_option('display.float_format', lambda x: f'{x:.2f}')\n",
        "df.describe().T"
      ],
      "execution_count": 448,
      "outputs": [
        {
          "output_type": "execute_result",
          "data": {
            "text/html": [
              "<div>\n",
              "<style scoped>\n",
              "    .dataframe tbody tr th:only-of-type {\n",
              "        vertical-align: middle;\n",
              "    }\n",
              "\n",
              "    .dataframe tbody tr th {\n",
              "        vertical-align: top;\n",
              "    }\n",
              "\n",
              "    .dataframe thead th {\n",
              "        text-align: right;\n",
              "    }\n",
              "</style>\n",
              "<table border=\"1\" class=\"dataframe\">\n",
              "  <thead>\n",
              "    <tr style=\"text-align: right;\">\n",
              "      <th></th>\n",
              "      <th>count</th>\n",
              "      <th>mean</th>\n",
              "      <th>std</th>\n",
              "      <th>min</th>\n",
              "      <th>25%</th>\n",
              "      <th>50%</th>\n",
              "      <th>75%</th>\n",
              "      <th>max</th>\n",
              "    </tr>\n",
              "  </thead>\n",
              "  <tbody>\n",
              "    <tr>\n",
              "      <th>apple_open</th>\n",
              "      <td>1258.00</td>\n",
              "      <td>60.57</td>\n",
              "      <td>33.39</td>\n",
              "      <td>21.73</td>\n",
              "      <td>37.55</td>\n",
              "      <td>46.70</td>\n",
              "      <td>75.29</td>\n",
              "      <td>143.39</td>\n",
              "    </tr>\n",
              "    <tr>\n",
              "      <th>apple_high</th>\n",
              "      <td>1258.00</td>\n",
              "      <td>61.23</td>\n",
              "      <td>33.82</td>\n",
              "      <td>21.77</td>\n",
              "      <td>37.84</td>\n",
              "      <td>47.08</td>\n",
              "      <td>76.37</td>\n",
              "      <td>144.87</td>\n",
              "    </tr>\n",
              "    <tr>\n",
              "      <th>apple_low</th>\n",
              "      <td>1258.00</td>\n",
              "      <td>59.92</td>\n",
              "      <td>32.87</td>\n",
              "      <td>21.41</td>\n",
              "      <td>37.22</td>\n",
              "      <td>46.26</td>\n",
              "      <td>74.77</td>\n",
              "      <td>141.16</td>\n",
              "    </tr>\n",
              "    <tr>\n",
              "      <th>apple_close</th>\n",
              "      <td>1258.00</td>\n",
              "      <td>60.60</td>\n",
              "      <td>33.35</td>\n",
              "      <td>21.53</td>\n",
              "      <td>37.48</td>\n",
              "      <td>46.73</td>\n",
              "      <td>76.13</td>\n",
              "      <td>142.95</td>\n",
              "    </tr>\n",
              "    <tr>\n",
              "      <th>apple_volume</th>\n",
              "      <td>1258.00</td>\n",
              "      <td>128589782.29</td>\n",
              "      <td>58355165.81</td>\n",
              "      <td>46221963.00</td>\n",
              "      <td>90062686.25</td>\n",
              "      <td>112400664.00</td>\n",
              "      <td>148178648.25</td>\n",
              "      <td>466389604.00</td>\n",
              "    </tr>\n",
              "    <tr>\n",
              "      <th>amazon_open</th>\n",
              "      <td>1258.00</td>\n",
              "      <td>1808.74</td>\n",
              "      <td>826.55</td>\n",
              "      <td>692.01</td>\n",
              "      <td>1003.06</td>\n",
              "      <td>1744.50</td>\n",
              "      <td>2043.72</td>\n",
              "      <td>3547.00</td>\n",
              "    </tr>\n",
              "    <tr>\n",
              "      <th>amazon_high</th>\n",
              "      <td>1258.00</td>\n",
              "      <td>1827.35</td>\n",
              "      <td>837.12</td>\n",
              "      <td>696.82</td>\n",
              "      <td>1008.45</td>\n",
              "      <td>1761.18</td>\n",
              "      <td>2068.22</td>\n",
              "      <td>3554.00</td>\n",
              "    </tr>\n",
              "    <tr>\n",
              "      <th>amazon_low</th>\n",
              "      <td>1258.00</td>\n",
              "      <td>1787.60</td>\n",
              "      <td>814.54</td>\n",
              "      <td>682.12</td>\n",
              "      <td>995.73</td>\n",
              "      <td>1724.40</td>\n",
              "      <td>2030.20</td>\n",
              "      <td>3486.68</td>\n",
              "    </tr>\n",
              "    <tr>\n",
              "      <th>amazon_close</th>\n",
              "      <td>1258.00</td>\n",
              "      <td>1808.01</td>\n",
              "      <td>825.40</td>\n",
              "      <td>691.36</td>\n",
              "      <td>1001.02</td>\n",
              "      <td>1742.61</td>\n",
              "      <td>2050.09</td>\n",
              "      <td>3531.45</td>\n",
              "    </tr>\n",
              "    <tr>\n",
              "      <th>amazon_volume</th>\n",
              "      <td>1258.00</td>\n",
              "      <td>4258536.10</td>\n",
              "      <td>2099427.89</td>\n",
              "      <td>881337.00</td>\n",
              "      <td>2863111.25</td>\n",
              "      <td>3676808.50</td>\n",
              "      <td>5106140.75</td>\n",
              "      <td>16552598.00</td>\n",
              "    </tr>\n",
              "    <tr>\n",
              "      <th>google_open</th>\n",
              "      <td>1258.00</td>\n",
              "      <td>1233.71</td>\n",
              "      <td>382.10</td>\n",
              "      <td>682.49</td>\n",
              "      <td>989.28</td>\n",
              "      <td>1141.62</td>\n",
              "      <td>1380.56</td>\n",
              "      <td>2454.00</td>\n",
              "    </tr>\n",
              "    <tr>\n",
              "      <th>google_high</th>\n",
              "      <td>1258.00</td>\n",
              "      <td>1245.78</td>\n",
              "      <td>386.77</td>\n",
              "      <td>683.33</td>\n",
              "      <td>995.93</td>\n",
              "      <td>1151.32</td>\n",
              "      <td>1398.24</td>\n",
              "      <td>2461.91</td>\n",
              "    </tr>\n",
              "    <tr>\n",
              "      <th>google_low</th>\n",
              "      <td>1258.00</td>\n",
              "      <td>1221.97</td>\n",
              "      <td>378.23</td>\n",
              "      <td>672.66</td>\n",
              "      <td>981.13</td>\n",
              "      <td>1129.77</td>\n",
              "      <td>1354.80</td>\n",
              "      <td>2446.00</td>\n",
              "    </tr>\n",
              "    <tr>\n",
              "      <th>google_close</th>\n",
              "      <td>1258.00</td>\n",
              "      <td>1234.40</td>\n",
              "      <td>382.66</td>\n",
              "      <td>681.14</td>\n",
              "      <td>989.18</td>\n",
              "      <td>1142.80</td>\n",
              "      <td>1384.97</td>\n",
              "      <td>2450.00</td>\n",
              "    </tr>\n",
              "    <tr>\n",
              "      <th>google_volume</th>\n",
              "      <td>1258.00</td>\n",
              "      <td>1735255.30</td>\n",
              "      <td>824156.47</td>\n",
              "      <td>465638.00</td>\n",
              "      <td>1212329.75</td>\n",
              "      <td>1534586.50</td>\n",
              "      <td>1980996.25</td>\n",
              "      <td>6658855.00</td>\n",
              "    </tr>\n",
              "    <tr>\n",
              "      <th>uber_open</th>\n",
              "      <td>536.00</td>\n",
              "      <td>39.73</td>\n",
              "      <td>10.21</td>\n",
              "      <td>15.96</td>\n",
              "      <td>31.78</td>\n",
              "      <td>36.46</td>\n",
              "      <td>49.14</td>\n",
              "      <td>63.25</td>\n",
              "    </tr>\n",
              "    <tr>\n",
              "      <th>uber_high</th>\n",
              "      <td>536.00</td>\n",
              "      <td>40.51</td>\n",
              "      <td>10.30</td>\n",
              "      <td>17.80</td>\n",
              "      <td>32.58</td>\n",
              "      <td>37.08</td>\n",
              "      <td>49.95</td>\n",
              "      <td>64.05</td>\n",
              "    </tr>\n",
              "    <tr>\n",
              "      <th>uber_low</th>\n",
              "      <td>536.00</td>\n",
              "      <td>38.82</td>\n",
              "      <td>10.05</td>\n",
              "      <td>13.71</td>\n",
              "      <td>30.99</td>\n",
              "      <td>35.59</td>\n",
              "      <td>48.48</td>\n",
              "      <td>60.80</td>\n",
              "    </tr>\n",
              "    <tr>\n",
              "      <th>uber_close</th>\n",
              "      <td>536.00</td>\n",
              "      <td>39.68</td>\n",
              "      <td>10.15</td>\n",
              "      <td>14.82</td>\n",
              "      <td>31.71</td>\n",
              "      <td>36.44</td>\n",
              "      <td>49.15</td>\n",
              "      <td>63.18</td>\n",
              "    </tr>\n",
              "    <tr>\n",
              "      <th>uber_volume</th>\n",
              "      <td>536.00</td>\n",
              "      <td>23479944.21</td>\n",
              "      <td>17639072.10</td>\n",
              "      <td>3380003.00</td>\n",
              "      <td>13159619.50</td>\n",
              "      <td>19069923.50</td>\n",
              "      <td>28736242.25</td>\n",
              "      <td>186322536.00</td>\n",
              "    </tr>\n",
              "  </tbody>\n",
              "</table>\n",
              "</div>"
            ],
            "text/plain": [
              "                count         mean  ...          75%          max\n",
              "apple_open    1258.00        60.57  ...        75.29       143.39\n",
              "apple_high    1258.00        61.23  ...        76.37       144.87\n",
              "apple_low     1258.00        59.92  ...        74.77       141.16\n",
              "apple_close   1258.00        60.60  ...        76.13       142.95\n",
              "apple_volume  1258.00 128589782.29  ... 148178648.25 466389604.00\n",
              "amazon_open   1258.00      1808.74  ...      2043.72      3547.00\n",
              "amazon_high   1258.00      1827.35  ...      2068.22      3554.00\n",
              "amazon_low    1258.00      1787.60  ...      2030.20      3486.68\n",
              "amazon_close  1258.00      1808.01  ...      2050.09      3531.45\n",
              "amazon_volume 1258.00   4258536.10  ...   5106140.75  16552598.00\n",
              "google_open   1258.00      1233.71  ...      1380.56      2454.00\n",
              "google_high   1258.00      1245.78  ...      1398.24      2461.91\n",
              "google_low    1258.00      1221.97  ...      1354.80      2446.00\n",
              "google_close  1258.00      1234.40  ...      1384.97      2450.00\n",
              "google_volume 1258.00   1735255.30  ...   1980996.25   6658855.00\n",
              "uber_open      536.00        39.73  ...        49.14        63.25\n",
              "uber_high      536.00        40.51  ...        49.95        64.05\n",
              "uber_low       536.00        38.82  ...        48.48        60.80\n",
              "uber_close     536.00        39.68  ...        49.15        63.18\n",
              "uber_volume    536.00  23479944.21  ...  28736242.25 186322536.00\n",
              "\n",
              "[20 rows x 8 columns]"
            ]
          },
          "metadata": {
            "tags": []
          },
          "execution_count": 448
        }
      ]
    },
    {
      "cell_type": "code",
      "metadata": {
        "colab": {
          "base_uri": "https://localhost:8080/",
          "height": 689
        },
        "id": "t9mtBv7ByKW2",
        "outputId": "e324b9f9-b06a-446b-c61a-90c68f399fd6"
      },
      "source": [
        "df.corr()"
      ],
      "execution_count": 449,
      "outputs": [
        {
          "output_type": "execute_result",
          "data": {
            "text/html": [
              "<div>\n",
              "<style scoped>\n",
              "    .dataframe tbody tr th:only-of-type {\n",
              "        vertical-align: middle;\n",
              "    }\n",
              "\n",
              "    .dataframe tbody tr th {\n",
              "        vertical-align: top;\n",
              "    }\n",
              "\n",
              "    .dataframe thead th {\n",
              "        text-align: right;\n",
              "    }\n",
              "</style>\n",
              "<table border=\"1\" class=\"dataframe\">\n",
              "  <thead>\n",
              "    <tr style=\"text-align: right;\">\n",
              "      <th></th>\n",
              "      <th>apple_open</th>\n",
              "      <th>apple_high</th>\n",
              "      <th>apple_low</th>\n",
              "      <th>apple_close</th>\n",
              "      <th>apple_volume</th>\n",
              "      <th>amazon_open</th>\n",
              "      <th>amazon_high</th>\n",
              "      <th>amazon_low</th>\n",
              "      <th>amazon_close</th>\n",
              "      <th>amazon_volume</th>\n",
              "      <th>google_open</th>\n",
              "      <th>google_high</th>\n",
              "      <th>google_low</th>\n",
              "      <th>google_close</th>\n",
              "      <th>google_volume</th>\n",
              "      <th>uber_open</th>\n",
              "      <th>uber_high</th>\n",
              "      <th>uber_low</th>\n",
              "      <th>uber_close</th>\n",
              "      <th>uber_volume</th>\n",
              "    </tr>\n",
              "  </thead>\n",
              "  <tbody>\n",
              "    <tr>\n",
              "      <th>apple_open</th>\n",
              "      <td>1.00</td>\n",
              "      <td>1.00</td>\n",
              "      <td>1.00</td>\n",
              "      <td>1.00</td>\n",
              "      <td>-0.04</td>\n",
              "      <td>0.96</td>\n",
              "      <td>0.96</td>\n",
              "      <td>0.96</td>\n",
              "      <td>0.96</td>\n",
              "      <td>0.02</td>\n",
              "      <td>0.94</td>\n",
              "      <td>0.94</td>\n",
              "      <td>0.94</td>\n",
              "      <td>0.94</td>\n",
              "      <td>0.02</td>\n",
              "      <td>0.63</td>\n",
              "      <td>0.63</td>\n",
              "      <td>0.63</td>\n",
              "      <td>0.63</td>\n",
              "      <td>-0.04</td>\n",
              "    </tr>\n",
              "    <tr>\n",
              "      <th>apple_high</th>\n",
              "      <td>1.00</td>\n",
              "      <td>1.00</td>\n",
              "      <td>1.00</td>\n",
              "      <td>1.00</td>\n",
              "      <td>-0.03</td>\n",
              "      <td>0.96</td>\n",
              "      <td>0.96</td>\n",
              "      <td>0.96</td>\n",
              "      <td>0.96</td>\n",
              "      <td>0.02</td>\n",
              "      <td>0.94</td>\n",
              "      <td>0.94</td>\n",
              "      <td>0.94</td>\n",
              "      <td>0.94</td>\n",
              "      <td>0.03</td>\n",
              "      <td>0.63</td>\n",
              "      <td>0.63</td>\n",
              "      <td>0.63</td>\n",
              "      <td>0.63</td>\n",
              "      <td>-0.04</td>\n",
              "    </tr>\n",
              "    <tr>\n",
              "      <th>apple_low</th>\n",
              "      <td>1.00</td>\n",
              "      <td>1.00</td>\n",
              "      <td>1.00</td>\n",
              "      <td>1.00</td>\n",
              "      <td>-0.05</td>\n",
              "      <td>0.96</td>\n",
              "      <td>0.96</td>\n",
              "      <td>0.96</td>\n",
              "      <td>0.96</td>\n",
              "      <td>0.01</td>\n",
              "      <td>0.94</td>\n",
              "      <td>0.94</td>\n",
              "      <td>0.94</td>\n",
              "      <td>0.94</td>\n",
              "      <td>0.02</td>\n",
              "      <td>0.63</td>\n",
              "      <td>0.64</td>\n",
              "      <td>0.64</td>\n",
              "      <td>0.64</td>\n",
              "      <td>-0.05</td>\n",
              "    </tr>\n",
              "    <tr>\n",
              "      <th>apple_close</th>\n",
              "      <td>1.00</td>\n",
              "      <td>1.00</td>\n",
              "      <td>1.00</td>\n",
              "      <td>1.00</td>\n",
              "      <td>-0.04</td>\n",
              "      <td>0.96</td>\n",
              "      <td>0.96</td>\n",
              "      <td>0.96</td>\n",
              "      <td>0.96</td>\n",
              "      <td>0.01</td>\n",
              "      <td>0.94</td>\n",
              "      <td>0.94</td>\n",
              "      <td>0.94</td>\n",
              "      <td>0.94</td>\n",
              "      <td>0.02</td>\n",
              "      <td>0.63</td>\n",
              "      <td>0.63</td>\n",
              "      <td>0.63</td>\n",
              "      <td>0.63</td>\n",
              "      <td>-0.05</td>\n",
              "    </tr>\n",
              "    <tr>\n",
              "      <th>apple_volume</th>\n",
              "      <td>-0.04</td>\n",
              "      <td>-0.03</td>\n",
              "      <td>-0.05</td>\n",
              "      <td>-0.04</td>\n",
              "      <td>1.00</td>\n",
              "      <td>-0.01</td>\n",
              "      <td>-0.00</td>\n",
              "      <td>-0.02</td>\n",
              "      <td>-0.01</td>\n",
              "      <td>0.50</td>\n",
              "      <td>-0.11</td>\n",
              "      <td>-0.11</td>\n",
              "      <td>-0.12</td>\n",
              "      <td>-0.12</td>\n",
              "      <td>0.47</td>\n",
              "      <td>-0.42</td>\n",
              "      <td>-0.41</td>\n",
              "      <td>-0.44</td>\n",
              "      <td>-0.42</td>\n",
              "      <td>0.36</td>\n",
              "    </tr>\n",
              "    <tr>\n",
              "      <th>amazon_open</th>\n",
              "      <td>0.96</td>\n",
              "      <td>0.96</td>\n",
              "      <td>0.96</td>\n",
              "      <td>0.96</td>\n",
              "      <td>-0.01</td>\n",
              "      <td>1.00</td>\n",
              "      <td>1.00</td>\n",
              "      <td>1.00</td>\n",
              "      <td>1.00</td>\n",
              "      <td>0.10</td>\n",
              "      <td>0.91</td>\n",
              "      <td>0.92</td>\n",
              "      <td>0.91</td>\n",
              "      <td>0.91</td>\n",
              "      <td>0.06</td>\n",
              "      <td>0.59</td>\n",
              "      <td>0.59</td>\n",
              "      <td>0.59</td>\n",
              "      <td>0.59</td>\n",
              "      <td>-0.10</td>\n",
              "    </tr>\n",
              "    <tr>\n",
              "      <th>amazon_high</th>\n",
              "      <td>0.96</td>\n",
              "      <td>0.96</td>\n",
              "      <td>0.96</td>\n",
              "      <td>0.96</td>\n",
              "      <td>-0.00</td>\n",
              "      <td>1.00</td>\n",
              "      <td>1.00</td>\n",
              "      <td>1.00</td>\n",
              "      <td>1.00</td>\n",
              "      <td>0.11</td>\n",
              "      <td>0.91</td>\n",
              "      <td>0.92</td>\n",
              "      <td>0.91</td>\n",
              "      <td>0.91</td>\n",
              "      <td>0.07</td>\n",
              "      <td>0.58</td>\n",
              "      <td>0.58</td>\n",
              "      <td>0.58</td>\n",
              "      <td>0.58</td>\n",
              "      <td>-0.10</td>\n",
              "    </tr>\n",
              "    <tr>\n",
              "      <th>amazon_low</th>\n",
              "      <td>0.96</td>\n",
              "      <td>0.96</td>\n",
              "      <td>0.96</td>\n",
              "      <td>0.96</td>\n",
              "      <td>-0.02</td>\n",
              "      <td>1.00</td>\n",
              "      <td>1.00</td>\n",
              "      <td>1.00</td>\n",
              "      <td>1.00</td>\n",
              "      <td>0.09</td>\n",
              "      <td>0.92</td>\n",
              "      <td>0.92</td>\n",
              "      <td>0.91</td>\n",
              "      <td>0.92</td>\n",
              "      <td>0.05</td>\n",
              "      <td>0.59</td>\n",
              "      <td>0.60</td>\n",
              "      <td>0.60</td>\n",
              "      <td>0.60</td>\n",
              "      <td>-0.11</td>\n",
              "    </tr>\n",
              "    <tr>\n",
              "      <th>amazon_close</th>\n",
              "      <td>0.96</td>\n",
              "      <td>0.96</td>\n",
              "      <td>0.96</td>\n",
              "      <td>0.96</td>\n",
              "      <td>-0.01</td>\n",
              "      <td>1.00</td>\n",
              "      <td>1.00</td>\n",
              "      <td>1.00</td>\n",
              "      <td>1.00</td>\n",
              "      <td>0.10</td>\n",
              "      <td>0.91</td>\n",
              "      <td>0.92</td>\n",
              "      <td>0.91</td>\n",
              "      <td>0.91</td>\n",
              "      <td>0.06</td>\n",
              "      <td>0.58</td>\n",
              "      <td>0.59</td>\n",
              "      <td>0.59</td>\n",
              "      <td>0.59</td>\n",
              "      <td>-0.10</td>\n",
              "    </tr>\n",
              "    <tr>\n",
              "      <th>amazon_volume</th>\n",
              "      <td>0.02</td>\n",
              "      <td>0.02</td>\n",
              "      <td>0.01</td>\n",
              "      <td>0.01</td>\n",
              "      <td>0.50</td>\n",
              "      <td>0.10</td>\n",
              "      <td>0.11</td>\n",
              "      <td>0.09</td>\n",
              "      <td>0.10</td>\n",
              "      <td>1.00</td>\n",
              "      <td>-0.00</td>\n",
              "      <td>0.01</td>\n",
              "      <td>-0.01</td>\n",
              "      <td>-0.01</td>\n",
              "      <td>0.64</td>\n",
              "      <td>-0.26</td>\n",
              "      <td>-0.25</td>\n",
              "      <td>-0.28</td>\n",
              "      <td>-0.27</td>\n",
              "      <td>0.29</td>\n",
              "    </tr>\n",
              "    <tr>\n",
              "      <th>google_open</th>\n",
              "      <td>0.94</td>\n",
              "      <td>0.94</td>\n",
              "      <td>0.94</td>\n",
              "      <td>0.94</td>\n",
              "      <td>-0.11</td>\n",
              "      <td>0.91</td>\n",
              "      <td>0.91</td>\n",
              "      <td>0.92</td>\n",
              "      <td>0.91</td>\n",
              "      <td>-0.00</td>\n",
              "      <td>1.00</td>\n",
              "      <td>1.00</td>\n",
              "      <td>1.00</td>\n",
              "      <td>1.00</td>\n",
              "      <td>0.00</td>\n",
              "      <td>0.74</td>\n",
              "      <td>0.74</td>\n",
              "      <td>0.74</td>\n",
              "      <td>0.74</td>\n",
              "      <td>-0.07</td>\n",
              "    </tr>\n",
              "    <tr>\n",
              "      <th>google_high</th>\n",
              "      <td>0.94</td>\n",
              "      <td>0.94</td>\n",
              "      <td>0.94</td>\n",
              "      <td>0.94</td>\n",
              "      <td>-0.11</td>\n",
              "      <td>0.92</td>\n",
              "      <td>0.92</td>\n",
              "      <td>0.92</td>\n",
              "      <td>0.92</td>\n",
              "      <td>0.01</td>\n",
              "      <td>1.00</td>\n",
              "      <td>1.00</td>\n",
              "      <td>1.00</td>\n",
              "      <td>1.00</td>\n",
              "      <td>0.01</td>\n",
              "      <td>0.74</td>\n",
              "      <td>0.74</td>\n",
              "      <td>0.74</td>\n",
              "      <td>0.74</td>\n",
              "      <td>-0.07</td>\n",
              "    </tr>\n",
              "    <tr>\n",
              "      <th>google_low</th>\n",
              "      <td>0.94</td>\n",
              "      <td>0.94</td>\n",
              "      <td>0.94</td>\n",
              "      <td>0.94</td>\n",
              "      <td>-0.12</td>\n",
              "      <td>0.91</td>\n",
              "      <td>0.91</td>\n",
              "      <td>0.91</td>\n",
              "      <td>0.91</td>\n",
              "      <td>-0.01</td>\n",
              "      <td>1.00</td>\n",
              "      <td>1.00</td>\n",
              "      <td>1.00</td>\n",
              "      <td>1.00</td>\n",
              "      <td>-0.01</td>\n",
              "      <td>0.74</td>\n",
              "      <td>0.74</td>\n",
              "      <td>0.74</td>\n",
              "      <td>0.74</td>\n",
              "      <td>-0.08</td>\n",
              "    </tr>\n",
              "    <tr>\n",
              "      <th>google_close</th>\n",
              "      <td>0.94</td>\n",
              "      <td>0.94</td>\n",
              "      <td>0.94</td>\n",
              "      <td>0.94</td>\n",
              "      <td>-0.12</td>\n",
              "      <td>0.91</td>\n",
              "      <td>0.91</td>\n",
              "      <td>0.92</td>\n",
              "      <td>0.91</td>\n",
              "      <td>-0.01</td>\n",
              "      <td>1.00</td>\n",
              "      <td>1.00</td>\n",
              "      <td>1.00</td>\n",
              "      <td>1.00</td>\n",
              "      <td>-0.00</td>\n",
              "      <td>0.74</td>\n",
              "      <td>0.74</td>\n",
              "      <td>0.74</td>\n",
              "      <td>0.74</td>\n",
              "      <td>-0.07</td>\n",
              "    </tr>\n",
              "    <tr>\n",
              "      <th>google_volume</th>\n",
              "      <td>0.02</td>\n",
              "      <td>0.03</td>\n",
              "      <td>0.02</td>\n",
              "      <td>0.02</td>\n",
              "      <td>0.47</td>\n",
              "      <td>0.06</td>\n",
              "      <td>0.07</td>\n",
              "      <td>0.05</td>\n",
              "      <td>0.06</td>\n",
              "      <td>0.64</td>\n",
              "      <td>0.00</td>\n",
              "      <td>0.01</td>\n",
              "      <td>-0.01</td>\n",
              "      <td>-0.00</td>\n",
              "      <td>1.00</td>\n",
              "      <td>-0.20</td>\n",
              "      <td>-0.19</td>\n",
              "      <td>-0.22</td>\n",
              "      <td>-0.20</td>\n",
              "      <td>0.32</td>\n",
              "    </tr>\n",
              "    <tr>\n",
              "      <th>uber_open</th>\n",
              "      <td>0.63</td>\n",
              "      <td>0.63</td>\n",
              "      <td>0.63</td>\n",
              "      <td>0.63</td>\n",
              "      <td>-0.42</td>\n",
              "      <td>0.59</td>\n",
              "      <td>0.58</td>\n",
              "      <td>0.59</td>\n",
              "      <td>0.58</td>\n",
              "      <td>-0.26</td>\n",
              "      <td>0.74</td>\n",
              "      <td>0.74</td>\n",
              "      <td>0.74</td>\n",
              "      <td>0.74</td>\n",
              "      <td>-0.20</td>\n",
              "      <td>1.00</td>\n",
              "      <td>1.00</td>\n",
              "      <td>1.00</td>\n",
              "      <td>0.99</td>\n",
              "      <td>-0.22</td>\n",
              "    </tr>\n",
              "    <tr>\n",
              "      <th>uber_high</th>\n",
              "      <td>0.63</td>\n",
              "      <td>0.63</td>\n",
              "      <td>0.64</td>\n",
              "      <td>0.63</td>\n",
              "      <td>-0.41</td>\n",
              "      <td>0.59</td>\n",
              "      <td>0.58</td>\n",
              "      <td>0.60</td>\n",
              "      <td>0.59</td>\n",
              "      <td>-0.25</td>\n",
              "      <td>0.74</td>\n",
              "      <td>0.74</td>\n",
              "      <td>0.74</td>\n",
              "      <td>0.74</td>\n",
              "      <td>-0.19</td>\n",
              "      <td>1.00</td>\n",
              "      <td>1.00</td>\n",
              "      <td>1.00</td>\n",
              "      <td>1.00</td>\n",
              "      <td>-0.20</td>\n",
              "    </tr>\n",
              "    <tr>\n",
              "      <th>uber_low</th>\n",
              "      <td>0.63</td>\n",
              "      <td>0.63</td>\n",
              "      <td>0.64</td>\n",
              "      <td>0.63</td>\n",
              "      <td>-0.44</td>\n",
              "      <td>0.59</td>\n",
              "      <td>0.58</td>\n",
              "      <td>0.60</td>\n",
              "      <td>0.59</td>\n",
              "      <td>-0.28</td>\n",
              "      <td>0.74</td>\n",
              "      <td>0.74</td>\n",
              "      <td>0.74</td>\n",
              "      <td>0.74</td>\n",
              "      <td>-0.22</td>\n",
              "      <td>1.00</td>\n",
              "      <td>1.00</td>\n",
              "      <td>1.00</td>\n",
              "      <td>1.00</td>\n",
              "      <td>-0.24</td>\n",
              "    </tr>\n",
              "    <tr>\n",
              "      <th>uber_close</th>\n",
              "      <td>0.63</td>\n",
              "      <td>0.63</td>\n",
              "      <td>0.64</td>\n",
              "      <td>0.63</td>\n",
              "      <td>-0.42</td>\n",
              "      <td>0.59</td>\n",
              "      <td>0.58</td>\n",
              "      <td>0.60</td>\n",
              "      <td>0.59</td>\n",
              "      <td>-0.27</td>\n",
              "      <td>0.74</td>\n",
              "      <td>0.74</td>\n",
              "      <td>0.74</td>\n",
              "      <td>0.74</td>\n",
              "      <td>-0.20</td>\n",
              "      <td>0.99</td>\n",
              "      <td>1.00</td>\n",
              "      <td>1.00</td>\n",
              "      <td>1.00</td>\n",
              "      <td>-0.22</td>\n",
              "    </tr>\n",
              "    <tr>\n",
              "      <th>uber_volume</th>\n",
              "      <td>-0.04</td>\n",
              "      <td>-0.04</td>\n",
              "      <td>-0.05</td>\n",
              "      <td>-0.05</td>\n",
              "      <td>0.36</td>\n",
              "      <td>-0.10</td>\n",
              "      <td>-0.10</td>\n",
              "      <td>-0.11</td>\n",
              "      <td>-0.10</td>\n",
              "      <td>0.29</td>\n",
              "      <td>-0.07</td>\n",
              "      <td>-0.07</td>\n",
              "      <td>-0.08</td>\n",
              "      <td>-0.07</td>\n",
              "      <td>0.32</td>\n",
              "      <td>-0.22</td>\n",
              "      <td>-0.20</td>\n",
              "      <td>-0.24</td>\n",
              "      <td>-0.22</td>\n",
              "      <td>1.00</td>\n",
              "    </tr>\n",
              "  </tbody>\n",
              "</table>\n",
              "</div>"
            ],
            "text/plain": [
              "               apple_open  apple_high  ...  uber_close  uber_volume\n",
              "apple_open           1.00        1.00  ...        0.63        -0.04\n",
              "apple_high           1.00        1.00  ...        0.63        -0.04\n",
              "apple_low            1.00        1.00  ...        0.64        -0.05\n",
              "apple_close          1.00        1.00  ...        0.63        -0.05\n",
              "apple_volume        -0.04       -0.03  ...       -0.42         0.36\n",
              "amazon_open          0.96        0.96  ...        0.59        -0.10\n",
              "amazon_high          0.96        0.96  ...        0.58        -0.10\n",
              "amazon_low           0.96        0.96  ...        0.60        -0.11\n",
              "amazon_close         0.96        0.96  ...        0.59        -0.10\n",
              "amazon_volume        0.02        0.02  ...       -0.27         0.29\n",
              "google_open          0.94        0.94  ...        0.74        -0.07\n",
              "google_high          0.94        0.94  ...        0.74        -0.07\n",
              "google_low           0.94        0.94  ...        0.74        -0.08\n",
              "google_close         0.94        0.94  ...        0.74        -0.07\n",
              "google_volume        0.02        0.03  ...       -0.20         0.32\n",
              "uber_open            0.63        0.63  ...        0.99        -0.22\n",
              "uber_high            0.63        0.63  ...        1.00        -0.20\n",
              "uber_low             0.63        0.63  ...        1.00        -0.24\n",
              "uber_close           0.63        0.63  ...        1.00        -0.22\n",
              "uber_volume         -0.04       -0.04  ...       -0.22         1.00\n",
              "\n",
              "[20 rows x 20 columns]"
            ]
          },
          "metadata": {
            "tags": []
          },
          "execution_count": 449
        }
      ]
    },
    {
      "cell_type": "code",
      "metadata": {
        "colab": {
          "base_uri": "https://localhost:8080/"
        },
        "id": "vBQAKfL2yhYu",
        "outputId": "ae555280-c5cc-4b48-cea8-f5a8988aa372"
      },
      "source": [
        "closes = [col for col in df.columns if col.endswith('close')]\n",
        "closes"
      ],
      "execution_count": 450,
      "outputs": [
        {
          "output_type": "execute_result",
          "data": {
            "text/plain": [
              "['apple_close', 'amazon_close', 'google_close', 'uber_close']"
            ]
          },
          "metadata": {
            "tags": []
          },
          "execution_count": 450
        }
      ]
    },
    {
      "cell_type": "code",
      "metadata": {
        "colab": {
          "base_uri": "https://localhost:8080/",
          "height": 173
        },
        "id": "9_BsmDFryuV_",
        "outputId": "f5fdd7bf-2e8d-4614-f283-e6a8bf019f6d"
      },
      "source": [
        "df[closes].corr()"
      ],
      "execution_count": 451,
      "outputs": [
        {
          "output_type": "execute_result",
          "data": {
            "text/html": [
              "<div>\n",
              "<style scoped>\n",
              "    .dataframe tbody tr th:only-of-type {\n",
              "        vertical-align: middle;\n",
              "    }\n",
              "\n",
              "    .dataframe tbody tr th {\n",
              "        vertical-align: top;\n",
              "    }\n",
              "\n",
              "    .dataframe thead th {\n",
              "        text-align: right;\n",
              "    }\n",
              "</style>\n",
              "<table border=\"1\" class=\"dataframe\">\n",
              "  <thead>\n",
              "    <tr style=\"text-align: right;\">\n",
              "      <th></th>\n",
              "      <th>apple_close</th>\n",
              "      <th>amazon_close</th>\n",
              "      <th>google_close</th>\n",
              "      <th>uber_close</th>\n",
              "    </tr>\n",
              "  </thead>\n",
              "  <tbody>\n",
              "    <tr>\n",
              "      <th>apple_close</th>\n",
              "      <td>1.00</td>\n",
              "      <td>0.96</td>\n",
              "      <td>0.94</td>\n",
              "      <td>0.63</td>\n",
              "    </tr>\n",
              "    <tr>\n",
              "      <th>amazon_close</th>\n",
              "      <td>0.96</td>\n",
              "      <td>1.00</td>\n",
              "      <td>0.91</td>\n",
              "      <td>0.59</td>\n",
              "    </tr>\n",
              "    <tr>\n",
              "      <th>google_close</th>\n",
              "      <td>0.94</td>\n",
              "      <td>0.91</td>\n",
              "      <td>1.00</td>\n",
              "      <td>0.74</td>\n",
              "    </tr>\n",
              "    <tr>\n",
              "      <th>uber_close</th>\n",
              "      <td>0.63</td>\n",
              "      <td>0.59</td>\n",
              "      <td>0.74</td>\n",
              "      <td>1.00</td>\n",
              "    </tr>\n",
              "  </tbody>\n",
              "</table>\n",
              "</div>"
            ],
            "text/plain": [
              "              apple_close  amazon_close  google_close  uber_close\n",
              "apple_close          1.00          0.96          0.94        0.63\n",
              "amazon_close         0.96          1.00          0.91        0.59\n",
              "google_close         0.94          0.91          1.00        0.74\n",
              "uber_close           0.63          0.59          0.74        1.00"
            ]
          },
          "metadata": {
            "tags": []
          },
          "execution_count": 451
        }
      ]
    },
    {
      "cell_type": "code",
      "metadata": {
        "colab": {
          "base_uri": "https://localhost:8080/"
        },
        "id": "P9oad26gyxk-",
        "outputId": "23e9f491-0093-41fa-f7a2-4c79789aee21"
      },
      "source": [
        "closes = [col for col in df.columns if col.endswith('close')]\n",
        "closes"
      ],
      "execution_count": 452,
      "outputs": [
        {
          "output_type": "execute_result",
          "data": {
            "text/plain": [
              "['apple_close', 'amazon_close', 'google_close', 'uber_close']"
            ]
          },
          "metadata": {
            "tags": []
          },
          "execution_count": 452
        }
      ]
    },
    {
      "cell_type": "code",
      "metadata": {
        "colab": {
          "base_uri": "https://localhost:8080/",
          "height": 173
        },
        "id": "VdEHQs5by7im",
        "outputId": "df599f00-d5c7-493d-d0c4-b1b2930ff4ec"
      },
      "source": [
        "df[closes].corr()"
      ],
      "execution_count": 453,
      "outputs": [
        {
          "output_type": "execute_result",
          "data": {
            "text/html": [
              "<div>\n",
              "<style scoped>\n",
              "    .dataframe tbody tr th:only-of-type {\n",
              "        vertical-align: middle;\n",
              "    }\n",
              "\n",
              "    .dataframe tbody tr th {\n",
              "        vertical-align: top;\n",
              "    }\n",
              "\n",
              "    .dataframe thead th {\n",
              "        text-align: right;\n",
              "    }\n",
              "</style>\n",
              "<table border=\"1\" class=\"dataframe\">\n",
              "  <thead>\n",
              "    <tr style=\"text-align: right;\">\n",
              "      <th></th>\n",
              "      <th>apple_close</th>\n",
              "      <th>amazon_close</th>\n",
              "      <th>google_close</th>\n",
              "      <th>uber_close</th>\n",
              "    </tr>\n",
              "  </thead>\n",
              "  <tbody>\n",
              "    <tr>\n",
              "      <th>apple_close</th>\n",
              "      <td>1.00</td>\n",
              "      <td>0.96</td>\n",
              "      <td>0.94</td>\n",
              "      <td>0.63</td>\n",
              "    </tr>\n",
              "    <tr>\n",
              "      <th>amazon_close</th>\n",
              "      <td>0.96</td>\n",
              "      <td>1.00</td>\n",
              "      <td>0.91</td>\n",
              "      <td>0.59</td>\n",
              "    </tr>\n",
              "    <tr>\n",
              "      <th>google_close</th>\n",
              "      <td>0.94</td>\n",
              "      <td>0.91</td>\n",
              "      <td>1.00</td>\n",
              "      <td>0.74</td>\n",
              "    </tr>\n",
              "    <tr>\n",
              "      <th>uber_close</th>\n",
              "      <td>0.63</td>\n",
              "      <td>0.59</td>\n",
              "      <td>0.74</td>\n",
              "      <td>1.00</td>\n",
              "    </tr>\n",
              "  </tbody>\n",
              "</table>\n",
              "</div>"
            ],
            "text/plain": [
              "              apple_close  amazon_close  google_close  uber_close\n",
              "apple_close          1.00          0.96          0.94        0.63\n",
              "amazon_close         0.96          1.00          0.91        0.59\n",
              "google_close         0.94          0.91          1.00        0.74\n",
              "uber_close           0.63          0.59          0.74        1.00"
            ]
          },
          "metadata": {
            "tags": []
          },
          "execution_count": 453
        }
      ]
    },
    {
      "cell_type": "code",
      "metadata": {
        "colab": {
          "base_uri": "https://localhost:8080/",
          "height": 235
        },
        "id": "9nVQ0FLoy_vP",
        "outputId": "820b8cf0-ab00-467e-ddc8-31eea29226d5"
      },
      "source": [
        "uber.head()"
      ],
      "execution_count": 454,
      "outputs": [
        {
          "output_type": "execute_result",
          "data": {
            "text/html": [
              "<div>\n",
              "<style scoped>\n",
              "    .dataframe tbody tr th:only-of-type {\n",
              "        vertical-align: middle;\n",
              "    }\n",
              "\n",
              "    .dataframe tbody tr th {\n",
              "        vertical-align: top;\n",
              "    }\n",
              "\n",
              "    .dataframe thead th {\n",
              "        text-align: right;\n",
              "    }\n",
              "</style>\n",
              "<table border=\"1\" class=\"dataframe\">\n",
              "  <thead>\n",
              "    <tr style=\"text-align: right;\">\n",
              "      <th></th>\n",
              "      <th>uber_open</th>\n",
              "      <th>uber_high</th>\n",
              "      <th>uber_low</th>\n",
              "      <th>uber_close</th>\n",
              "      <th>uber_volume</th>\n",
              "    </tr>\n",
              "    <tr>\n",
              "      <th>Date</th>\n",
              "      <th></th>\n",
              "      <th></th>\n",
              "      <th></th>\n",
              "      <th></th>\n",
              "      <th></th>\n",
              "    </tr>\n",
              "  </thead>\n",
              "  <tbody>\n",
              "    <tr>\n",
              "      <th>2021-06-24</th>\n",
              "      <td>51.30</td>\n",
              "      <td>51.55</td>\n",
              "      <td>50.22</td>\n",
              "      <td>50.82</td>\n",
              "      <td>12403301</td>\n",
              "    </tr>\n",
              "    <tr>\n",
              "      <th>2021-06-23</th>\n",
              "      <td>49.06</td>\n",
              "      <td>50.77</td>\n",
              "      <td>49.01</td>\n",
              "      <td>50.51</td>\n",
              "      <td>19843277</td>\n",
              "    </tr>\n",
              "    <tr>\n",
              "      <th>2021-06-22</th>\n",
              "      <td>48.30</td>\n",
              "      <td>49.34</td>\n",
              "      <td>47.75</td>\n",
              "      <td>49.05</td>\n",
              "      <td>19472455</td>\n",
              "    </tr>\n",
              "    <tr>\n",
              "      <th>2021-06-21</th>\n",
              "      <td>49.72</td>\n",
              "      <td>49.86</td>\n",
              "      <td>47.90</td>\n",
              "      <td>48.12</td>\n",
              "      <td>30752163</td>\n",
              "    </tr>\n",
              "    <tr>\n",
              "      <th>2021-06-18</th>\n",
              "      <td>49.31</td>\n",
              "      <td>50.39</td>\n",
              "      <td>48.77</td>\n",
              "      <td>49.70</td>\n",
              "      <td>20633523</td>\n",
              "    </tr>\n",
              "  </tbody>\n",
              "</table>\n",
              "</div>"
            ],
            "text/plain": [
              "            uber_open  uber_high  uber_low  uber_close  uber_volume\n",
              "Date                                                               \n",
              "2021-06-24      51.30      51.55     50.22       50.82     12403301\n",
              "2021-06-23      49.06      50.77     49.01       50.51     19843277\n",
              "2021-06-22      48.30      49.34     47.75       49.05     19472455\n",
              "2021-06-21      49.72      49.86     47.90       48.12     30752163\n",
              "2021-06-18      49.31      50.39     48.77       49.70     20633523"
            ]
          },
          "metadata": {
            "tags": []
          },
          "execution_count": 454
        }
      ]
    },
    {
      "cell_type": "code",
      "metadata": {
        "id": "U3WYhgrdzDkm"
      },
      "source": [
        "uber_6 = uber[(uber.index.month == 6) & (uber.index.year == 2019)]\n",
        "uber_7 = uber[(uber.index.month == 7) & (uber.index.year == 2019)]"
      ],
      "execution_count": 455,
      "outputs": []
    },
    {
      "cell_type": "code",
      "metadata": {
        "id": "n0BMT3BqzJhf"
      },
      "source": [
        "uber_6_7 = uber_6.append(uber_7)"
      ],
      "execution_count": 456,
      "outputs": []
    },
    {
      "cell_type": "markdown",
      "metadata": {
        "id": "e3GrWaPvzcNW"
      },
      "source": [
        "##**Przykład 3** - google app store"
      ]
    },
    {
      "cell_type": "code",
      "metadata": {
        "colab": {
          "base_uri": "https://localhost:8080/",
          "height": 666
        },
        "id": "S8sEO6VqzmYv",
        "outputId": "f2ea61a9-216d-4c4a-dfa5-66631bf2043c"
      },
      "source": [
        "url = 'https://storage.googleapis.com/esmartdata-courses-files/ds-bootcamp/appstore_games.csv'\n",
        "df_raw = pd.read_csv(url)\n",
        "df_raw.head()"
      ],
      "execution_count": 457,
      "outputs": [
        {
          "output_type": "execute_result",
          "data": {
            "text/html": [
              "<div>\n",
              "<style scoped>\n",
              "    .dataframe tbody tr th:only-of-type {\n",
              "        vertical-align: middle;\n",
              "    }\n",
              "\n",
              "    .dataframe tbody tr th {\n",
              "        vertical-align: top;\n",
              "    }\n",
              "\n",
              "    .dataframe thead th {\n",
              "        text-align: right;\n",
              "    }\n",
              "</style>\n",
              "<table border=\"1\" class=\"dataframe\">\n",
              "  <thead>\n",
              "    <tr style=\"text-align: right;\">\n",
              "      <th></th>\n",
              "      <th>URL</th>\n",
              "      <th>ID</th>\n",
              "      <th>Name</th>\n",
              "      <th>Subtitle</th>\n",
              "      <th>Icon URL</th>\n",
              "      <th>Average User Rating</th>\n",
              "      <th>User Rating Count</th>\n",
              "      <th>Price</th>\n",
              "      <th>In-app Purchases</th>\n",
              "      <th>Description</th>\n",
              "      <th>Developer</th>\n",
              "      <th>Age Rating</th>\n",
              "      <th>Languages</th>\n",
              "      <th>Size</th>\n",
              "      <th>Primary Genre</th>\n",
              "      <th>Genres</th>\n",
              "      <th>Original Release Date</th>\n",
              "      <th>Current Version Release Date</th>\n",
              "    </tr>\n",
              "  </thead>\n",
              "  <tbody>\n",
              "    <tr>\n",
              "      <th>0</th>\n",
              "      <td>https://apps.apple.com/us/app/sudoku/id284921427</td>\n",
              "      <td>284921427</td>\n",
              "      <td>Sudoku</td>\n",
              "      <td>NaN</td>\n",
              "      <td>https://is2-ssl.mzstatic.com/image/thumb/Purpl...</td>\n",
              "      <td>4.00</td>\n",
              "      <td>3553.00</td>\n",
              "      <td>2.99</td>\n",
              "      <td>NaN</td>\n",
              "      <td>Join over 21,000,000 of our fans and download ...</td>\n",
              "      <td>Mighty Mighty Good Games</td>\n",
              "      <td>4+</td>\n",
              "      <td>DA, NL, EN, FI, FR, DE, IT, JA, KO, NB, PL, PT...</td>\n",
              "      <td>15853568.00</td>\n",
              "      <td>Games</td>\n",
              "      <td>Games, Strategy, Puzzle</td>\n",
              "      <td>11/07/2008</td>\n",
              "      <td>30/05/2017</td>\n",
              "    </tr>\n",
              "    <tr>\n",
              "      <th>1</th>\n",
              "      <td>https://apps.apple.com/us/app/reversi/id284926400</td>\n",
              "      <td>284926400</td>\n",
              "      <td>Reversi</td>\n",
              "      <td>NaN</td>\n",
              "      <td>https://is4-ssl.mzstatic.com/image/thumb/Purpl...</td>\n",
              "      <td>3.50</td>\n",
              "      <td>284.00</td>\n",
              "      <td>1.99</td>\n",
              "      <td>NaN</td>\n",
              "      <td>The classic game of Reversi, also known as Oth...</td>\n",
              "      <td>Kiss The Machine</td>\n",
              "      <td>4+</td>\n",
              "      <td>EN</td>\n",
              "      <td>12328960.00</td>\n",
              "      <td>Games</td>\n",
              "      <td>Games, Strategy, Board</td>\n",
              "      <td>11/07/2008</td>\n",
              "      <td>17/05/2018</td>\n",
              "    </tr>\n",
              "    <tr>\n",
              "      <th>2</th>\n",
              "      <td>https://apps.apple.com/us/app/morocco/id284946595</td>\n",
              "      <td>284946595</td>\n",
              "      <td>Morocco</td>\n",
              "      <td>NaN</td>\n",
              "      <td>https://is5-ssl.mzstatic.com/image/thumb/Purpl...</td>\n",
              "      <td>3.00</td>\n",
              "      <td>8376.00</td>\n",
              "      <td>0.00</td>\n",
              "      <td>NaN</td>\n",
              "      <td>Play the classic strategy game Othello (also k...</td>\n",
              "      <td>Bayou Games</td>\n",
              "      <td>4+</td>\n",
              "      <td>EN</td>\n",
              "      <td>674816.00</td>\n",
              "      <td>Games</td>\n",
              "      <td>Games, Board, Strategy</td>\n",
              "      <td>11/07/2008</td>\n",
              "      <td>5/09/2017</td>\n",
              "    </tr>\n",
              "    <tr>\n",
              "      <th>3</th>\n",
              "      <td>https://apps.apple.com/us/app/sudoku-free/id28...</td>\n",
              "      <td>285755462</td>\n",
              "      <td>Sudoku (Free)</td>\n",
              "      <td>NaN</td>\n",
              "      <td>https://is3-ssl.mzstatic.com/image/thumb/Purpl...</td>\n",
              "      <td>3.50</td>\n",
              "      <td>190394.00</td>\n",
              "      <td>0.00</td>\n",
              "      <td>NaN</td>\n",
              "      <td>Top 100 free app for over a year.\\nRated \"Best...</td>\n",
              "      <td>Mighty Mighty Good Games</td>\n",
              "      <td>4+</td>\n",
              "      <td>DA, NL, EN, FI, FR, DE, IT, JA, KO, NB, PL, PT...</td>\n",
              "      <td>21552128.00</td>\n",
              "      <td>Games</td>\n",
              "      <td>Games, Strategy, Puzzle</td>\n",
              "      <td>23/07/2008</td>\n",
              "      <td>30/05/2017</td>\n",
              "    </tr>\n",
              "    <tr>\n",
              "      <th>4</th>\n",
              "      <td>https://apps.apple.com/us/app/senet-deluxe/id2...</td>\n",
              "      <td>285831220</td>\n",
              "      <td>Senet Deluxe</td>\n",
              "      <td>NaN</td>\n",
              "      <td>https://is1-ssl.mzstatic.com/image/thumb/Purpl...</td>\n",
              "      <td>3.50</td>\n",
              "      <td>28.00</td>\n",
              "      <td>2.99</td>\n",
              "      <td>NaN</td>\n",
              "      <td>\"Senet Deluxe - The Ancient Game of Life and A...</td>\n",
              "      <td>RoGame Software</td>\n",
              "      <td>4+</td>\n",
              "      <td>DA, NL, EN, FR, DE, EL, IT, JA, KO, NO, PT, RU...</td>\n",
              "      <td>34689024.00</td>\n",
              "      <td>Games</td>\n",
              "      <td>Games, Strategy, Board, Education</td>\n",
              "      <td>18/07/2008</td>\n",
              "      <td>22/07/2018</td>\n",
              "    </tr>\n",
              "  </tbody>\n",
              "</table>\n",
              "</div>"
            ],
            "text/plain": [
              "                                                 URL  ...  Current Version Release Date\n",
              "0   https://apps.apple.com/us/app/sudoku/id284921427  ...                    30/05/2017\n",
              "1  https://apps.apple.com/us/app/reversi/id284926400  ...                    17/05/2018\n",
              "2  https://apps.apple.com/us/app/morocco/id284946595  ...                     5/09/2017\n",
              "3  https://apps.apple.com/us/app/sudoku-free/id28...  ...                    30/05/2017\n",
              "4  https://apps.apple.com/us/app/senet-deluxe/id2...  ...                    22/07/2018\n",
              "\n",
              "[5 rows x 18 columns]"
            ]
          },
          "metadata": {
            "tags": []
          },
          "execution_count": 457
        }
      ]
    },
    {
      "cell_type": "code",
      "metadata": {
        "colab": {
          "base_uri": "https://localhost:8080/"
        },
        "id": "jgg25YMYz6im",
        "outputId": "807ccf47-ad1f-4ebf-8288-e5d366ca169c"
      },
      "source": [
        "df_raw.info()"
      ],
      "execution_count": 458,
      "outputs": [
        {
          "output_type": "stream",
          "text": [
            "<class 'pandas.core.frame.DataFrame'>\n",
            "RangeIndex: 17007 entries, 0 to 17006\n",
            "Data columns (total 18 columns):\n",
            " #   Column                        Non-Null Count  Dtype  \n",
            "---  ------                        --------------  -----  \n",
            " 0   URL                           17007 non-null  object \n",
            " 1   ID                            17007 non-null  int64  \n",
            " 2   Name                          17007 non-null  object \n",
            " 3   Subtitle                      5261 non-null   object \n",
            " 4   Icon URL                      17007 non-null  object \n",
            " 5   Average User Rating           7561 non-null   float64\n",
            " 6   User Rating Count             7561 non-null   float64\n",
            " 7   Price                         16983 non-null  float64\n",
            " 8   In-app Purchases              7683 non-null   object \n",
            " 9   Description                   17007 non-null  object \n",
            " 10  Developer                     17007 non-null  object \n",
            " 11  Age Rating                    17007 non-null  object \n",
            " 12  Languages                     16947 non-null  object \n",
            " 13  Size                          17006 non-null  float64\n",
            " 14  Primary Genre                 17007 non-null  object \n",
            " 15  Genres                        17007 non-null  object \n",
            " 16  Original Release Date         17007 non-null  object \n",
            " 17  Current Version Release Date  17007 non-null  object \n",
            "dtypes: float64(4), int64(1), object(13)\n",
            "memory usage: 2.3+ MB\n"
          ],
          "name": "stdout"
        }
      ]
    },
    {
      "cell_type": "code",
      "metadata": {
        "colab": {
          "base_uri": "https://localhost:8080/"
        },
        "id": "eD3vkXMez-vm",
        "outputId": "ca529b8c-b124-4741-c832-15842ce2b1d1"
      },
      "source": [
        "df_raw.columns"
      ],
      "execution_count": 459,
      "outputs": [
        {
          "output_type": "execute_result",
          "data": {
            "text/plain": [
              "Index(['URL', 'ID', 'Name', 'Subtitle', 'Icon URL', 'Average User Rating',\n",
              "       'User Rating Count', 'Price', 'In-app Purchases', 'Description',\n",
              "       'Developer', 'Age Rating', 'Languages', 'Size', 'Primary Genre',\n",
              "       'Genres', 'Original Release Date', 'Current Version Release Date'],\n",
              "      dtype='object')"
            ]
          },
          "metadata": {
            "tags": []
          },
          "execution_count": 459
        }
      ]
    },
    {
      "cell_type": "code",
      "metadata": {
        "id": "S33y0WL60P1H"
      },
      "source": [
        "df = df_raw.copy()"
      ],
      "execution_count": 460,
      "outputs": []
    },
    {
      "cell_type": "code",
      "metadata": {
        "id": "KpC5Qb-M0XVf"
      },
      "source": [
        "df = df.drop(columns=['URL', 'Icon URL', 'Subtitle', 'Description'])"
      ],
      "execution_count": 461,
      "outputs": []
    },
    {
      "cell_type": "code",
      "metadata": {
        "id": "Tqq7poD000Bv"
      },
      "source": [
        "df = df.drop(columns=['In-app Purchases'])"
      ],
      "execution_count": 462,
      "outputs": []
    },
    {
      "cell_type": "code",
      "metadata": {
        "colab": {
          "base_uri": "https://localhost:8080/"
        },
        "id": "23mj7qrl05jH",
        "outputId": "f270716c-00c6-409e-8b61-370caf4f1b0f"
      },
      "source": [
        "df.columns"
      ],
      "execution_count": 463,
      "outputs": [
        {
          "output_type": "execute_result",
          "data": {
            "text/plain": [
              "Index(['ID', 'Name', 'Average User Rating', 'User Rating Count', 'Price',\n",
              "       'Developer', 'Age Rating', 'Languages', 'Size', 'Primary Genre',\n",
              "       'Genres', 'Original Release Date', 'Current Version Release Date'],\n",
              "      dtype='object')"
            ]
          },
          "metadata": {
            "tags": []
          },
          "execution_count": 463
        }
      ]
    },
    {
      "cell_type": "code",
      "metadata": {
        "colab": {
          "base_uri": "https://localhost:8080/",
          "height": 569
        },
        "id": "zNCMyJ4L06A_",
        "outputId": "73081678-4ba6-4227-a8d1-b9b4caa356d8"
      },
      "source": [
        "df.set_index('ID')"
      ],
      "execution_count": 464,
      "outputs": [
        {
          "output_type": "execute_result",
          "data": {
            "text/html": [
              "<div>\n",
              "<style scoped>\n",
              "    .dataframe tbody tr th:only-of-type {\n",
              "        vertical-align: middle;\n",
              "    }\n",
              "\n",
              "    .dataframe tbody tr th {\n",
              "        vertical-align: top;\n",
              "    }\n",
              "\n",
              "    .dataframe thead th {\n",
              "        text-align: right;\n",
              "    }\n",
              "</style>\n",
              "<table border=\"1\" class=\"dataframe\">\n",
              "  <thead>\n",
              "    <tr style=\"text-align: right;\">\n",
              "      <th></th>\n",
              "      <th>Name</th>\n",
              "      <th>Average User Rating</th>\n",
              "      <th>User Rating Count</th>\n",
              "      <th>Price</th>\n",
              "      <th>Developer</th>\n",
              "      <th>Age Rating</th>\n",
              "      <th>Languages</th>\n",
              "      <th>Size</th>\n",
              "      <th>Primary Genre</th>\n",
              "      <th>Genres</th>\n",
              "      <th>Original Release Date</th>\n",
              "      <th>Current Version Release Date</th>\n",
              "    </tr>\n",
              "    <tr>\n",
              "      <th>ID</th>\n",
              "      <th></th>\n",
              "      <th></th>\n",
              "      <th></th>\n",
              "      <th></th>\n",
              "      <th></th>\n",
              "      <th></th>\n",
              "      <th></th>\n",
              "      <th></th>\n",
              "      <th></th>\n",
              "      <th></th>\n",
              "      <th></th>\n",
              "      <th></th>\n",
              "    </tr>\n",
              "  </thead>\n",
              "  <tbody>\n",
              "    <tr>\n",
              "      <th>284921427</th>\n",
              "      <td>Sudoku</td>\n",
              "      <td>4.00</td>\n",
              "      <td>3553.00</td>\n",
              "      <td>2.99</td>\n",
              "      <td>Mighty Mighty Good Games</td>\n",
              "      <td>4+</td>\n",
              "      <td>DA, NL, EN, FI, FR, DE, IT, JA, KO, NB, PL, PT...</td>\n",
              "      <td>15853568.00</td>\n",
              "      <td>Games</td>\n",
              "      <td>Games, Strategy, Puzzle</td>\n",
              "      <td>11/07/2008</td>\n",
              "      <td>30/05/2017</td>\n",
              "    </tr>\n",
              "    <tr>\n",
              "      <th>284926400</th>\n",
              "      <td>Reversi</td>\n",
              "      <td>3.50</td>\n",
              "      <td>284.00</td>\n",
              "      <td>1.99</td>\n",
              "      <td>Kiss The Machine</td>\n",
              "      <td>4+</td>\n",
              "      <td>EN</td>\n",
              "      <td>12328960.00</td>\n",
              "      <td>Games</td>\n",
              "      <td>Games, Strategy, Board</td>\n",
              "      <td>11/07/2008</td>\n",
              "      <td>17/05/2018</td>\n",
              "    </tr>\n",
              "    <tr>\n",
              "      <th>284946595</th>\n",
              "      <td>Morocco</td>\n",
              "      <td>3.00</td>\n",
              "      <td>8376.00</td>\n",
              "      <td>0.00</td>\n",
              "      <td>Bayou Games</td>\n",
              "      <td>4+</td>\n",
              "      <td>EN</td>\n",
              "      <td>674816.00</td>\n",
              "      <td>Games</td>\n",
              "      <td>Games, Board, Strategy</td>\n",
              "      <td>11/07/2008</td>\n",
              "      <td>5/09/2017</td>\n",
              "    </tr>\n",
              "    <tr>\n",
              "      <th>285755462</th>\n",
              "      <td>Sudoku (Free)</td>\n",
              "      <td>3.50</td>\n",
              "      <td>190394.00</td>\n",
              "      <td>0.00</td>\n",
              "      <td>Mighty Mighty Good Games</td>\n",
              "      <td>4+</td>\n",
              "      <td>DA, NL, EN, FI, FR, DE, IT, JA, KO, NB, PL, PT...</td>\n",
              "      <td>21552128.00</td>\n",
              "      <td>Games</td>\n",
              "      <td>Games, Strategy, Puzzle</td>\n",
              "      <td>23/07/2008</td>\n",
              "      <td>30/05/2017</td>\n",
              "    </tr>\n",
              "    <tr>\n",
              "      <th>285831220</th>\n",
              "      <td>Senet Deluxe</td>\n",
              "      <td>3.50</td>\n",
              "      <td>28.00</td>\n",
              "      <td>2.99</td>\n",
              "      <td>RoGame Software</td>\n",
              "      <td>4+</td>\n",
              "      <td>DA, NL, EN, FR, DE, EL, IT, JA, KO, NO, PT, RU...</td>\n",
              "      <td>34689024.00</td>\n",
              "      <td>Games</td>\n",
              "      <td>Games, Strategy, Board, Education</td>\n",
              "      <td>18/07/2008</td>\n",
              "      <td>22/07/2018</td>\n",
              "    </tr>\n",
              "    <tr>\n",
              "      <th>...</th>\n",
              "      <td>...</td>\n",
              "      <td>...</td>\n",
              "      <td>...</td>\n",
              "      <td>...</td>\n",
              "      <td>...</td>\n",
              "      <td>...</td>\n",
              "      <td>...</td>\n",
              "      <td>...</td>\n",
              "      <td>...</td>\n",
              "      <td>...</td>\n",
              "      <td>...</td>\n",
              "      <td>...</td>\n",
              "    </tr>\n",
              "    <tr>\n",
              "      <th>1474626442</th>\n",
              "      <td>Stack Puzzle : Rise Tower</td>\n",
              "      <td>nan</td>\n",
              "      <td>nan</td>\n",
              "      <td>0.00</td>\n",
              "      <td>Zhigang Pei</td>\n",
              "      <td>4+</td>\n",
              "      <td>EN</td>\n",
              "      <td>64795648.00</td>\n",
              "      <td>Games</td>\n",
              "      <td>Games, Entertainment, Casual, Strategy</td>\n",
              "      <td>30/07/2019</td>\n",
              "      <td>30/07/2019</td>\n",
              "    </tr>\n",
              "    <tr>\n",
              "      <th>1474919257</th>\n",
              "      <td>EachOther</td>\n",
              "      <td>nan</td>\n",
              "      <td>nan</td>\n",
              "      <td>0.00</td>\n",
              "      <td>Sultan Shindi</td>\n",
              "      <td>4+</td>\n",
              "      <td>EN</td>\n",
              "      <td>110341120.00</td>\n",
              "      <td>Games</td>\n",
              "      <td>Games, Family, Strategy</td>\n",
              "      <td>1/08/2019</td>\n",
              "      <td>1/08/2019</td>\n",
              "    </tr>\n",
              "    <tr>\n",
              "      <th>1474962324</th>\n",
              "      <td>Rabbit Vs Tortoise</td>\n",
              "      <td>nan</td>\n",
              "      <td>nan</td>\n",
              "      <td>0.00</td>\n",
              "      <td>Vishal Baldha</td>\n",
              "      <td>4+</td>\n",
              "      <td>EN</td>\n",
              "      <td>23207936.00</td>\n",
              "      <td>Games</td>\n",
              "      <td>Games, Strategy</td>\n",
              "      <td>3/08/2019</td>\n",
              "      <td>3/08/2019</td>\n",
              "    </tr>\n",
              "    <tr>\n",
              "      <th>1474963671</th>\n",
              "      <td>FaTaLL</td>\n",
              "      <td>nan</td>\n",
              "      <td>nan</td>\n",
              "      <td>0.00</td>\n",
              "      <td>Tayrem Games</td>\n",
              "      <td>4+</td>\n",
              "      <td>EN</td>\n",
              "      <td>196750336.00</td>\n",
              "      <td>Games</td>\n",
              "      <td>Games, Strategy, Action</td>\n",
              "      <td>1/08/2019</td>\n",
              "      <td>1/08/2019</td>\n",
              "    </tr>\n",
              "    <tr>\n",
              "      <th>1475076711</th>\n",
              "      <td>The Three Kingdoms :Bomb</td>\n",
              "      <td>nan</td>\n",
              "      <td>nan</td>\n",
              "      <td>0.00</td>\n",
              "      <td>ming bo tang</td>\n",
              "      <td>4+</td>\n",
              "      <td>EN, ZH</td>\n",
              "      <td>22952960.00</td>\n",
              "      <td>Games</td>\n",
              "      <td>Games, Strategy, Puzzle</td>\n",
              "      <td>2/08/2019</td>\n",
              "      <td>2/08/2019</td>\n",
              "    </tr>\n",
              "  </tbody>\n",
              "</table>\n",
              "<p>17007 rows × 12 columns</p>\n",
              "</div>"
            ],
            "text/plain": [
              "                                 Name  ...  Current Version Release Date\n",
              "ID                                     ...                              \n",
              "284921427                      Sudoku  ...                    30/05/2017\n",
              "284926400                     Reversi  ...                    17/05/2018\n",
              "284946595                     Morocco  ...                     5/09/2017\n",
              "285755462               Sudoku (Free)  ...                    30/05/2017\n",
              "285831220                Senet Deluxe  ...                    22/07/2018\n",
              "...                               ...  ...                           ...\n",
              "1474626442  Stack Puzzle : Rise Tower  ...                    30/07/2019\n",
              "1474919257                  EachOther  ...                     1/08/2019\n",
              "1474962324         Rabbit Vs Tortoise  ...                     3/08/2019\n",
              "1474963671                     FaTaLL  ...                     1/08/2019\n",
              "1475076711   The Three Kingdoms :Bomb  ...                     2/08/2019\n",
              "\n",
              "[17007 rows x 12 columns]"
            ]
          },
          "metadata": {
            "tags": []
          },
          "execution_count": 464
        }
      ]
    },
    {
      "cell_type": "code",
      "metadata": {
        "colab": {
          "base_uri": "https://localhost:8080/",
          "height": 297
        },
        "id": "MRKCuU5d0_bn",
        "outputId": "3486dfb5-3940-4211-9e06-b4c0737894fb"
      },
      "source": [
        "df.describe(include=['object']).T"
      ],
      "execution_count": 466,
      "outputs": [
        {
          "output_type": "execute_result",
          "data": {
            "text/html": [
              "<div>\n",
              "<style scoped>\n",
              "    .dataframe tbody tr th:only-of-type {\n",
              "        vertical-align: middle;\n",
              "    }\n",
              "\n",
              "    .dataframe tbody tr th {\n",
              "        vertical-align: top;\n",
              "    }\n",
              "\n",
              "    .dataframe thead th {\n",
              "        text-align: right;\n",
              "    }\n",
              "</style>\n",
              "<table border=\"1\" class=\"dataframe\">\n",
              "  <thead>\n",
              "    <tr style=\"text-align: right;\">\n",
              "      <th></th>\n",
              "      <th>count</th>\n",
              "      <th>unique</th>\n",
              "      <th>top</th>\n",
              "      <th>freq</th>\n",
              "    </tr>\n",
              "  </thead>\n",
              "  <tbody>\n",
              "    <tr>\n",
              "      <th>Name</th>\n",
              "      <td>17007</td>\n",
              "      <td>16847</td>\n",
              "      <td>TV Chess</td>\n",
              "      <td>2</td>\n",
              "    </tr>\n",
              "    <tr>\n",
              "      <th>Developer</th>\n",
              "      <td>17007</td>\n",
              "      <td>8693</td>\n",
              "      <td>Tapps Tecnologia da Informa\\xe7\\xe3o Ltda.</td>\n",
              "      <td>123</td>\n",
              "    </tr>\n",
              "    <tr>\n",
              "      <th>Age Rating</th>\n",
              "      <td>17007</td>\n",
              "      <td>4</td>\n",
              "      <td>4+</td>\n",
              "      <td>11806</td>\n",
              "    </tr>\n",
              "    <tr>\n",
              "      <th>Languages</th>\n",
              "      <td>16947</td>\n",
              "      <td>990</td>\n",
              "      <td>EN</td>\n",
              "      <td>12467</td>\n",
              "    </tr>\n",
              "    <tr>\n",
              "      <th>Primary Genre</th>\n",
              "      <td>17007</td>\n",
              "      <td>21</td>\n",
              "      <td>Games</td>\n",
              "      <td>16286</td>\n",
              "    </tr>\n",
              "    <tr>\n",
              "      <th>Genres</th>\n",
              "      <td>17007</td>\n",
              "      <td>1004</td>\n",
              "      <td>Games, Strategy, Puzzle</td>\n",
              "      <td>778</td>\n",
              "    </tr>\n",
              "    <tr>\n",
              "      <th>Original Release Date</th>\n",
              "      <td>17007</td>\n",
              "      <td>3084</td>\n",
              "      <td>2/09/2016</td>\n",
              "      <td>75</td>\n",
              "    </tr>\n",
              "    <tr>\n",
              "      <th>Current Version Release Date</th>\n",
              "      <td>17007</td>\n",
              "      <td>2512</td>\n",
              "      <td>1/08/2019</td>\n",
              "      <td>118</td>\n",
              "    </tr>\n",
              "  </tbody>\n",
              "</table>\n",
              "</div>"
            ],
            "text/plain": [
              "                              count  ...   freq\n",
              "Name                          17007  ...      2\n",
              "Developer                     17007  ...    123\n",
              "Age Rating                    17007  ...  11806\n",
              "Languages                     16947  ...  12467\n",
              "Primary Genre                 17007  ...  16286\n",
              "Genres                        17007  ...    778\n",
              "Original Release Date         17007  ...     75\n",
              "Current Version Release Date  17007  ...    118\n",
              "\n",
              "[8 rows x 4 columns]"
            ]
          },
          "metadata": {
            "tags": []
          },
          "execution_count": 466
        }
      ]
    },
    {
      "cell_type": "code",
      "metadata": {
        "id": "KN6um5Xa1QHP",
        "colab": {
          "base_uri": "https://localhost:8080/"
        },
        "outputId": "cf2e447f-442e-4edc-987d-0f99e69dafbe"
      },
      "source": [
        "df.columns"
      ],
      "execution_count": 467,
      "outputs": [
        {
          "output_type": "execute_result",
          "data": {
            "text/plain": [
              "Index(['ID', 'Name', 'Average User Rating', 'User Rating Count', 'Price',\n",
              "       'Developer', 'Age Rating', 'Languages', 'Size', 'Primary Genre',\n",
              "       'Genres', 'Original Release Date', 'Current Version Release Date'],\n",
              "      dtype='object')"
            ]
          },
          "metadata": {
            "tags": []
          },
          "execution_count": 467
        }
      ]
    },
    {
      "cell_type": "code",
      "metadata": {
        "id": "yAFWs98d4NCI"
      },
      "source": [
        "df.columns = [col.lower().replace(' ', '_') for col in df.columns]"
      ],
      "execution_count": 468,
      "outputs": []
    },
    {
      "cell_type": "code",
      "metadata": {
        "colab": {
          "base_uri": "https://localhost:8080/"
        },
        "id": "OLOZgHPg4Tjw",
        "outputId": "f47440da-3219-4758-d21c-0db8f0444972"
      },
      "source": [
        "df.columns"
      ],
      "execution_count": 469,
      "outputs": [
        {
          "output_type": "execute_result",
          "data": {
            "text/plain": [
              "Index(['id', 'name', 'average_user_rating', 'user_rating_count', 'price',\n",
              "       'developer', 'age_rating', 'languages', 'size', 'primary_genre',\n",
              "       'genres', 'original_release_date', 'current_version_release_date'],\n",
              "      dtype='object')"
            ]
          },
          "metadata": {
            "tags": []
          },
          "execution_count": 469
        }
      ]
    },
    {
      "cell_type": "code",
      "metadata": {
        "colab": {
          "base_uri": "https://localhost:8080/"
        },
        "id": "eSLugO3T4UZI",
        "outputId": "93267549-5836-4187-ebf9-1d20f6cb1264"
      },
      "source": [
        "df.primary_genre.value_counts()"
      ],
      "execution_count": 470,
      "outputs": [
        {
          "output_type": "execute_result",
          "data": {
            "text/plain": [
              "Games                16286\n",
              "Education              222\n",
              "Entertainment          198\n",
              "Utilities               77\n",
              "Sports                  60\n",
              "Reference               32\n",
              "Stickers                29\n",
              "Finance                 18\n",
              "Business                16\n",
              "Productivity            15\n",
              "Lifestyle               10\n",
              "Book                     9\n",
              "Social Networking        9\n",
              "News                     7\n",
              "Health & Fitness         5\n",
              "Food & Drink             4\n",
              "Navigation               3\n",
              "Music                    3\n",
              "Medical                  2\n",
              "Travel                   1\n",
              "Shopping                 1\n",
              "Name: primary_genre, dtype: int64"
            ]
          },
          "metadata": {
            "tags": []
          },
          "execution_count": 470
        }
      ]
    },
    {
      "cell_type": "code",
      "metadata": {
        "colab": {
          "base_uri": "https://localhost:8080/"
        },
        "id": "pVaGWyDt4qFY",
        "outputId": "b693afec-5c12-4086-d1a5-1aabdf888500"
      },
      "source": [
        "df.primary_genre.value_counts().nlargest(5)"
      ],
      "execution_count": 471,
      "outputs": [
        {
          "output_type": "execute_result",
          "data": {
            "text/plain": [
              "Games            16286\n",
              "Education          222\n",
              "Entertainment      198\n",
              "Utilities           77\n",
              "Sports              60\n",
              "Name: primary_genre, dtype: int64"
            ]
          },
          "metadata": {
            "tags": []
          },
          "execution_count": 471
        }
      ]
    },
    {
      "cell_type": "code",
      "metadata": {
        "colab": {
          "base_uri": "https://localhost:8080/"
        },
        "id": "pLs7nPkI41Vo",
        "outputId": "f65a6a19-4497-410d-a109-e7952810cd14"
      },
      "source": [
        "df.primary_genre.value_counts().nlargest(5).index"
      ],
      "execution_count": 472,
      "outputs": [
        {
          "output_type": "execute_result",
          "data": {
            "text/plain": [
              "Index(['Games', 'Education', 'Entertainment', 'Utilities', 'Sports'], dtype='object')"
            ]
          },
          "metadata": {
            "tags": []
          },
          "execution_count": 472
        }
      ]
    },
    {
      "cell_type": "code",
      "metadata": {
        "colab": {
          "base_uri": "https://localhost:8080/"
        },
        "id": "ugwRreC046Jx",
        "outputId": "287fb64b-22a1-4453-f41b-665a28086414"
      },
      "source": [
        "list(df.primary_genre.value_counts().nlargest(5))"
      ],
      "execution_count": 474,
      "outputs": [
        {
          "output_type": "execute_result",
          "data": {
            "text/plain": [
              "[16286, 222, 198, 77, 60]"
            ]
          },
          "metadata": {
            "tags": []
          },
          "execution_count": 474
        }
      ]
    },
    {
      "cell_type": "code",
      "metadata": {
        "colab": {
          "base_uri": "https://localhost:8080/"
        },
        "id": "XzeDO3oZ47-4",
        "outputId": "c0c3e8ae-96e8-43cd-cc9d-f823b179c111"
      },
      "source": [
        "df.age_rating"
      ],
      "execution_count": 475,
      "outputs": [
        {
          "output_type": "execute_result",
          "data": {
            "text/plain": [
              "0        4+\n",
              "1        4+\n",
              "2        4+\n",
              "3        4+\n",
              "4        4+\n",
              "         ..\n",
              "17002    4+\n",
              "17003    4+\n",
              "17004    4+\n",
              "17005    4+\n",
              "17006    4+\n",
              "Name: age_rating, Length: 17007, dtype: object"
            ]
          },
          "metadata": {
            "tags": []
          },
          "execution_count": 475
        }
      ]
    },
    {
      "cell_type": "code",
      "metadata": {
        "colab": {
          "base_uri": "https://localhost:8080/"
        },
        "id": "WvaFV1qN4-UA",
        "outputId": "19cb0dd8-05c4-4575-f2ac-a6186dc485e6"
      },
      "source": [
        "df.age_rating.value_counts()"
      ],
      "execution_count": 476,
      "outputs": [
        {
          "output_type": "execute_result",
          "data": {
            "text/plain": [
              "4+     11806\n",
              "9+      2481\n",
              "12+     2055\n",
              "17+      665\n",
              "Name: age_rating, dtype: int64"
            ]
          },
          "metadata": {
            "tags": []
          },
          "execution_count": 476
        }
      ]
    },
    {
      "cell_type": "code",
      "metadata": {
        "colab": {
          "base_uri": "https://localhost:8080/",
          "height": 281
        },
        "id": "kzqeawN55CqA",
        "outputId": "244fbad1-25bc-400a-ea8c-f8e45e703148"
      },
      "source": [
        "df.age_rating.value_counts().plot(kind='bar');"
      ],
      "execution_count": 478,
      "outputs": [
        {
          "output_type": "display_data",
          "data": {
            "image/png": "[encoded data removed]",
            "text/plain": [
              "<Figure size 432x288 with 1 Axes>"
            ]
          },
          "metadata": {
            "tags": []
          }
        }
      ]
    },
    {
      "cell_type": "code",
      "metadata": {
        "colab": {
          "base_uri": "https://localhost:8080/"
        },
        "id": "c03HmPQK5XZR",
        "outputId": "2c960333-b6a2-4149-eb77-06731e1c2a23"
      },
      "source": [
        "df.languages"
      ],
      "execution_count": 479,
      "outputs": [
        {
          "output_type": "execute_result",
          "data": {
            "text/plain": [
              "0        DA, NL, EN, FI, FR, DE, IT, JA, KO, NB, PL, PT...\n",
              "1                                                       EN\n",
              "2                                                       EN\n",
              "3        DA, NL, EN, FI, FR, DE, IT, JA, KO, NB, PL, PT...\n",
              "4        DA, NL, EN, FR, DE, EL, IT, JA, KO, NO, PT, RU...\n",
              "                               ...                        \n",
              "17002                                                   EN\n",
              "17003                                                   EN\n",
              "17004                                                   EN\n",
              "17005                                                   EN\n",
              "17006                                               EN, ZH\n",
              "Name: languages, Length: 17007, dtype: object"
            ]
          },
          "metadata": {
            "tags": []
          },
          "execution_count": 479
        }
      ]
    },
    {
      "cell_type": "code",
      "metadata": {
        "colab": {
          "base_uri": "https://localhost:8080/"
        },
        "id": "8FMlb2Rd55Pw",
        "outputId": "4cb80899-cd3b-43c6-eb15-c8b8f1c790d6"
      },
      "source": [
        "df.languages.str.split(', ')"
      ],
      "execution_count": 480,
      "outputs": [
        {
          "output_type": "execute_result",
          "data": {
            "text/plain": [
              "0        [DA, NL, EN, FI, FR, DE, IT, JA, KO, NB, PL, P...\n",
              "1                                                     [EN]\n",
              "2                                                     [EN]\n",
              "3        [DA, NL, EN, FI, FR, DE, IT, JA, KO, NB, PL, P...\n",
              "4        [DA, NL, EN, FR, DE, EL, IT, JA, KO, NO, PT, R...\n",
              "                               ...                        \n",
              "17002                                                 [EN]\n",
              "17003                                                 [EN]\n",
              "17004                                                 [EN]\n",
              "17005                                                 [EN]\n",
              "17006                                             [EN, ZH]\n",
              "Name: languages, Length: 17007, dtype: object"
            ]
          },
          "metadata": {
            "tags": []
          },
          "execution_count": 480
        }
      ]
    },
    {
      "cell_type": "code",
      "metadata": {
        "id": "mj0NNtKU6LOI"
      },
      "source": [
        "df['num_lang'] = df.languages.str.split(', ').str.len()"
      ],
      "execution_count": 482,
      "outputs": []
    },
    {
      "cell_type": "code",
      "metadata": {
        "colab": {
          "base_uri": "https://localhost:8080/"
        },
        "id": "3cytVpUc6SMo",
        "outputId": "eff0addc-0437-4d4c-881e-7e71137d7596"
      },
      "source": [
        "df.num_lang.value_counts()"
      ],
      "execution_count": 484,
      "outputs": [
        {
          "output_type": "execute_result",
          "data": {
            "text/plain": [
              "1.00      12566\n",
              "2.00       1102\n",
              "3.00        495\n",
              "16.00       316\n",
              "4.00        261\n",
              "5.00        247\n",
              "6.00        220\n",
              "25.00       171\n",
              "9.00        154\n",
              "11.00       147\n",
              "8.00        142\n",
              "10.00       140\n",
              "7.00        140\n",
              "31.00       133\n",
              "12.00        91\n",
              "21.00        77\n",
              "13.00        64\n",
              "14.00        64\n",
              "15.00        54\n",
              "17.00        37\n",
              "30.00        35\n",
              "32.00        34\n",
              "19.00        34\n",
              "33.00        33\n",
              "22.00        31\n",
              "18.00        24\n",
              "46.00        20\n",
              "26.00        18\n",
              "20.00        14\n",
              "24.00        13\n",
              "23.00        11\n",
              "27.00        11\n",
              "28.00         9\n",
              "29.00         8\n",
              "45.00         6\n",
              "44.00         5\n",
              "65.00         4\n",
              "42.00         3\n",
              "43.00         3\n",
              "49.00         2\n",
              "36.00         2\n",
              "76.00         1\n",
              "48.00         1\n",
              "66.00         1\n",
              "35.00         1\n",
              "111.00        1\n",
              "34.00         1\n",
              "Name: num_lang, dtype: int64"
            ]
          },
          "metadata": {
            "tags": []
          },
          "execution_count": 484
        }
      ]
    },
    {
      "cell_type": "code",
      "metadata": {
        "colab": {
          "base_uri": "https://localhost:8080/"
        },
        "id": "t-PxvqQs6boQ",
        "outputId": "e1b0bff9-3bae-4b73-f13d-aa8acc08f889"
      },
      "source": [
        "df.isnull().sum()"
      ],
      "execution_count": 486,
      "outputs": [
        {
          "output_type": "execute_result",
          "data": {
            "text/plain": [
              "id                                 0\n",
              "name                               0\n",
              "average_user_rating             9446\n",
              "user_rating_count               9446\n",
              "price                             24\n",
              "developer                          0\n",
              "age_rating                         0\n",
              "languages                         60\n",
              "size                               1\n",
              "primary_genre                      0\n",
              "genres                             0\n",
              "original_release_date              0\n",
              "current_version_release_date       0\n",
              "num_lang                          60\n",
              "dtype: int64"
            ]
          },
          "metadata": {
            "tags": []
          },
          "execution_count": 486
        }
      ]
    },
    {
      "cell_type": "code",
      "metadata": {
        "colab": {
          "base_uri": "https://localhost:8080/"
        },
        "id": "6eYBvKw_69xR",
        "outputId": "51a35867-555a-47ca-a849-c5f5272ba15a"
      },
      "source": [
        "df = df.dropna()\n",
        "df.isnull().sum()"
      ],
      "execution_count": 487,
      "outputs": [
        {
          "output_type": "execute_result",
          "data": {
            "text/plain": [
              "id                              0\n",
              "name                            0\n",
              "average_user_rating             0\n",
              "user_rating_count               0\n",
              "price                           0\n",
              "developer                       0\n",
              "age_rating                      0\n",
              "languages                       0\n",
              "size                            0\n",
              "primary_genre                   0\n",
              "genres                          0\n",
              "original_release_date           0\n",
              "current_version_release_date    0\n",
              "num_lang                        0\n",
              "dtype: int64"
            ]
          },
          "metadata": {
            "tags": []
          },
          "execution_count": 487
        }
      ]
    },
    {
      "cell_type": "code",
      "metadata": {
        "colab": {
          "base_uri": "https://localhost:8080/"
        },
        "id": "kH0Sq6Qe7LmI",
        "outputId": "09995956-294e-417b-8451-f9312fb9647d"
      },
      "source": [
        "df.info()"
      ],
      "execution_count": 488,
      "outputs": [
        {
          "output_type": "stream",
          "text": [
            "<class 'pandas.core.frame.DataFrame'>\n",
            "Int64Index: 7537 entries, 0 to 16993\n",
            "Data columns (total 14 columns):\n",
            " #   Column                        Non-Null Count  Dtype  \n",
            "---  ------                        --------------  -----  \n",
            " 0   id                            7537 non-null   int64  \n",
            " 1   name                          7537 non-null   object \n",
            " 2   average_user_rating           7537 non-null   float64\n",
            " 3   user_rating_count             7537 non-null   float64\n",
            " 4   price                         7537 non-null   float64\n",
            " 5   developer                     7537 non-null   object \n",
            " 6   age_rating                    7537 non-null   object \n",
            " 7   languages                     7537 non-null   object \n",
            " 8   size                          7537 non-null   float64\n",
            " 9   primary_genre                 7537 non-null   object \n",
            " 10  genres                        7537 non-null   object \n",
            " 11  original_release_date         7537 non-null   object \n",
            " 12  current_version_release_date  7537 non-null   object \n",
            " 13  num_lang                      7537 non-null   float64\n",
            "dtypes: float64(5), int64(1), object(8)\n",
            "memory usage: 883.2+ KB\n"
          ],
          "name": "stdout"
        }
      ]
    },
    {
      "cell_type": "code",
      "metadata": {
        "id": "ESkzCZpC7gV8"
      },
      "source": [
        ""
      ],
      "execution_count": null,
      "outputs": []
    }
  ]
}